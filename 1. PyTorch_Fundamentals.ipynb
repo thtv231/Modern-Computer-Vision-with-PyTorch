{
 "cells": [
  {
   "attachments": {},
   "cell_type": "markdown",
   "metadata": {},
   "source": [
    "# Checking PyTorch Installation"
   ]
  },
  {
   "cell_type": "code",
   "execution_count": 1,
   "metadata": {},
   "outputs": [],
   "source": [
    "import torch"
   ]
  },
  {
   "cell_type": "code",
   "execution_count": 2,
   "metadata": {},
   "outputs": [
    {
     "name": "stdout",
     "output_type": "stream",
     "text": [
      "1.13.1+cu116\n"
     ]
    }
   ],
   "source": [
    "print(torch.__version__)"
   ]
  },
  {
   "attachments": {},
   "cell_type": "markdown",
   "metadata": {},
   "source": [
    "# Initializing tensors"
   ]
  },
  {
   "cell_type": "code",
   "execution_count": 4,
   "metadata": {},
   "outputs": [
    {
     "name": "stdout",
     "output_type": "stream",
     "text": [
      "\u001b[1;31mDocstring:\u001b[0m\n",
      "tensor(data, *, dtype=None, device=None, requires_grad=False, pin_memory=False) -> Tensor\n",
      "\n",
      "Constructs a tensor with no autograd history (also known as a \"leaf tensor\", see :doc:`/notes/autograd`) by copying :attr:`data`.\n",
      "\n",
      ".. warning::\n",
      "\n",
      "    When working with tensors prefer using :func:`torch.Tensor.clone`,\n",
      "    :func:`torch.Tensor.detach`, and :func:`torch.Tensor.requires_grad_` for\n",
      "    readability. Letting `t` be a tensor, ``torch.tensor(t)`` is equivalent to\n",
      "    ``t.clone().detach()``, and ``torch.tensor(t, requires_grad=True)``\n",
      "    is equivalent to ``t.clone().detach().requires_grad_(True)``.\n",
      "\n",
      ".. seealso::\n",
      "\n",
      "    :func:`torch.as_tensor` preserves autograd history and avoids copies where possible.\n",
      "    :func:`torch.from_numpy` creates a tensor that shares storage with a NumPy array.\n",
      "\n",
      "Args:\n",
      "    data (array_like): Initial data for the tensor. Can be a list, tuple,\n",
      "        NumPy ``ndarray``, scalar, and other types.\n",
      "\n",
      "Keyword args:\n",
      "    dtype (:class:`torch.dtype`, optional): the desired data type of returned tensor.\n",
      "        Default: if ``None``, infers data type from :attr:`data`.\n",
      "    device (:class:`torch.device`, optional): the device of the constructed tensor. If None and data is a tensor\n",
      "        then the device of data is used. If None and data is not a tensor then\n",
      "        the result tensor is constructed on the CPU.\n",
      "    requires_grad (bool, optional): If autograd should record operations on the\n",
      "        returned tensor. Default: ``False``.\n",
      "    pin_memory (bool, optional): If set, returned tensor would be allocated in\n",
      "        the pinned memory. Works only for CPU tensors. Default: ``False``.\n",
      "\n",
      "\n",
      "Example::\n",
      "\n",
      "    >>> torch.tensor([[0.1, 1.2], [2.2, 3.1], [4.9, 5.2]])\n",
      "    tensor([[ 0.1000,  1.2000],\n",
      "            [ 2.2000,  3.1000],\n",
      "            [ 4.9000,  5.2000]])\n",
      "\n",
      "    >>> torch.tensor([0, 1])  # Type inference on data\n",
      "    tensor([ 0,  1])\n",
      "\n",
      "    >>> torch.tensor([[0.11111, 0.222222, 0.3333333]],\n",
      "    ...              dtype=torch.float64,\n",
      "    ...              device=torch.device('cuda:0'))  # creates a double tensor on a CUDA device\n",
      "    tensor([[ 0.1111,  0.2222,  0.3333]], dtype=torch.float64, device='cuda:0')\n",
      "\n",
      "    >>> torch.tensor(3.14159)  # Create a zero-dimensional (scalar) tensor\n",
      "    tensor(3.1416)\n",
      "\n",
      "    >>> torch.tensor([])  # Create an empty tensor (of size (0,))\n",
      "    tensor([])\n",
      "\u001b[1;31mType:\u001b[0m      builtin_function_or_method\n"
     ]
    }
   ],
   "source": [
    "torch.tensor?"
   ]
  },
  {
   "cell_type": "code",
   "execution_count": 5,
   "metadata": {},
   "outputs": [],
   "source": [
    "x = torch.tensor([[1,2]])\n",
    "y = torch.tensor([[1],[2]])"
   ]
  },
  {
   "cell_type": "code",
   "execution_count": 8,
   "metadata": {},
   "outputs": [
    {
     "name": "stdout",
     "output_type": "stream",
     "text": [
      "torch.Size([1, 2])\n"
     ]
    }
   ],
   "source": [
    "print(x.shape)"
   ]
  },
  {
   "cell_type": "code",
   "execution_count": 9,
   "metadata": {},
   "outputs": [
    {
     "name": "stdout",
     "output_type": "stream",
     "text": [
      "torch.Size([2, 1])\n"
     ]
    }
   ],
   "source": [
    "print(y.shape)"
   ]
  },
  {
   "attachments": {},
   "cell_type": "markdown",
   "metadata": {},
   "source": [
    "# Common Tensor generation"
   ]
  },
  {
   "cell_type": "code",
   "execution_count": 13,
   "metadata": {},
   "outputs": [
    {
     "data": {
      "text/plain": [
       "tensor([[0., 0., 0., 0.],\n",
       "        [0., 0., 0., 0.],\n",
       "        [0., 0., 0., 0.]])"
      ]
     },
     "execution_count": 13,
     "metadata": {},
     "output_type": "execute_result"
    }
   ],
   "source": [
    "torch.zeros([3,4])"
   ]
  },
  {
   "cell_type": "code",
   "execution_count": 14,
   "metadata": {},
   "outputs": [
    {
     "data": {
      "text/plain": [
       "tensor([[1., 1., 1., 1., 1., 1.],\n",
       "        [1., 1., 1., 1., 1., 1.]])"
      ]
     },
     "execution_count": 14,
     "metadata": {},
     "output_type": "execute_result"
    }
   ],
   "source": [
    "torch.ones([2,6])"
   ]
  },
  {
   "cell_type": "code",
   "execution_count": 15,
   "metadata": {},
   "outputs": [
    {
     "name": "stdout",
     "output_type": "stream",
     "text": [
      "\u001b[1;31mDocstring:\u001b[0m\n",
      "randint(low=0, high, size, \\*, generator=None, out=None, dtype=None, layout=torch.strided, device=None, requires_grad=False) -> Tensor\n",
      "\n",
      "Returns a tensor filled with random integers generated uniformly\n",
      "between :attr:`low` (inclusive) and :attr:`high` (exclusive).\n",
      "\n",
      "The shape of the tensor is defined by the variable argument :attr:`size`.\n",
      "\n",
      ".. note::\n",
      "    With the global dtype default (``torch.float32``), this function returns\n",
      "    a tensor with dtype ``torch.int64``.\n",
      "\n",
      "Args:\n",
      "    low (int, optional): Lowest integer to be drawn from the distribution. Default: 0.\n",
      "    high (int): One above the highest integer to be drawn from the distribution.\n",
      "    size (tuple): a tuple defining the shape of the output tensor.\n",
      "\n",
      "Keyword args:\n",
      "    generator (:class:`torch.Generator`, optional): a pseudorandom number generator for sampling\n",
      "    out (Tensor, optional): the output tensor.\n",
      "    dtype (`torch.dtype`, optional) - the desired data type of returned tensor. Default: if ``None``,\n",
      "        this function returns a tensor with dtype ``torch.int64``.\n",
      "    layout (:class:`torch.layout`, optional): the desired layout of returned Tensor.\n",
      "        Default: ``torch.strided``.\n",
      "    device (:class:`torch.device`, optional): the desired device of returned tensor.\n",
      "        Default: if ``None``, uses the current device for the default tensor type\n",
      "        (see :func:`torch.set_default_tensor_type`). :attr:`device` will be the CPU\n",
      "        for CPU tensor types and the current CUDA device for CUDA tensor types.\n",
      "    requires_grad (bool, optional): If autograd should record operations on the\n",
      "        returned tensor. Default: ``False``.\n",
      "\n",
      "Example::\n",
      "\n",
      "    >>> torch.randint(3, 5, (3,))\n",
      "    tensor([4, 3, 4])\n",
      "\n",
      "\n",
      "    >>> torch.randint(10, (2, 2))\n",
      "    tensor([[0, 2],\n",
      "            [5, 5]])\n",
      "\n",
      "\n",
      "    >>> torch.randint(3, 10, (2, 2))\n",
      "    tensor([[4, 5],\n",
      "            [6, 7]])\n",
      "\u001b[1;31mType:\u001b[0m      builtin_function_or_method\n"
     ]
    }
   ],
   "source": [
    "torch.randint?"
   ]
  },
  {
   "cell_type": "code",
   "execution_count": 17,
   "metadata": {},
   "outputs": [
    {
     "data": {
      "text/plain": [
       "tensor([[ 8.,  0., 10., 12.],\n",
       "        [ 7.,  0., 13.,  8.],\n",
       "        [ 6.,  9., 10.,  2.]], dtype=torch.float16)"
      ]
     },
     "execution_count": 17,
     "metadata": {},
     "output_type": "execute_result"
    }
   ],
   "source": [
    "torch.randint(low=0, high=15, size=(3,4), dtype=torch.float16)"
   ]
  },
  {
   "cell_type": "code",
   "execution_count": 19,
   "metadata": {},
   "outputs": [
    {
     "data": {
      "text/plain": [
       "tensor([[0.7576, 0.5414],\n",
       "        [0.0976, 0.6570],\n",
       "        [0.4476, 0.7342]])"
      ]
     },
     "execution_count": 19,
     "metadata": {},
     "output_type": "execute_result"
    }
   ],
   "source": [
    "torch.rand([3,2])"
   ]
  },
  {
   "cell_type": "code",
   "execution_count": 20,
   "metadata": {},
   "outputs": [
    {
     "name": "stdout",
     "output_type": "stream",
     "text": [
      "\u001b[1;31mDocstring:\u001b[0m\n",
      "randn(*size, *, out=None, dtype=None, layout=torch.strided, device=None, requires_grad=False, pin_memory=False) -> Tensor\n",
      "\n",
      "\n",
      "Returns a tensor filled with random numbers from a normal distribution\n",
      "with mean `0` and variance `1` (also called the standard normal\n",
      "distribution).\n",
      "\n",
      ".. math::\n",
      "    \\text{out}_{i} \\sim \\mathcal{N}(0, 1)\n",
      "\n",
      "The shape of the tensor is defined by the variable argument :attr:`size`.\n",
      "\n",
      "Args:\n",
      "    size (int...): a sequence of integers defining the shape of the output tensor.\n",
      "        Can be a variable number of arguments or a collection like a list or tuple.\n",
      "\n",
      "Keyword args:\n",
      "    generator (:class:`torch.Generator`, optional): a pseudorandom number generator for sampling\n",
      "    out (Tensor, optional): the output tensor.\n",
      "    dtype (:class:`torch.dtype`, optional): the desired data type of returned tensor.\n",
      "        Default: if ``None``, uses a global default (see :func:`torch.set_default_tensor_type`).\n",
      "    layout (:class:`torch.layout`, optional): the desired layout of returned Tensor.\n",
      "        Default: ``torch.strided``.\n",
      "    device (:class:`torch.device`, optional): the desired device of returned tensor.\n",
      "        Default: if ``None``, uses the current device for the default tensor type\n",
      "        (see :func:`torch.set_default_tensor_type`). :attr:`device` will be the CPU\n",
      "        for CPU tensor types and the current CUDA device for CUDA tensor types.\n",
      "    requires_grad (bool, optional): If autograd should record operations on the\n",
      "        returned tensor. Default: ``False``.\n",
      "    pin_memory (bool, optional): If set, returned tensor would be allocated in\n",
      "        the pinned memory. Works only for CPU tensors. Default: ``False``.\n",
      "\n",
      "Example::\n",
      "\n",
      "    >>> torch.randn(4)\n",
      "    tensor([-2.1436,  0.9966,  2.3426, -0.6366])\n",
      "    >>> torch.randn(2, 3)\n",
      "    tensor([[ 1.5954,  2.8929, -1.0923],\n",
      "            [ 1.1719, -0.4709, -0.1996]])\n",
      "\u001b[1;31mType:\u001b[0m      builtin_function_or_method\n"
     ]
    }
   ],
   "source": [
    "torch.randn?"
   ]
  },
  {
   "cell_type": "code",
   "execution_count": 21,
   "metadata": {},
   "outputs": [
    {
     "data": {
      "text/plain": [
       "tensor([[ 0.2087,  0.6337,  1.6338],\n",
       "        [ 0.0690,  1.1084, -0.1470]])"
      ]
     },
     "execution_count": 21,
     "metadata": {},
     "output_type": "execute_result"
    }
   ],
   "source": [
    "torch.randn(2, 3)"
   ]
  },
  {
   "cell_type": "code",
   "execution_count": 25,
   "metadata": {},
   "outputs": [],
   "source": [
    "import numpy as np\n",
    "x = np.array([[1,2,3],[4,5,6]])"
   ]
  },
  {
   "cell_type": "code",
   "execution_count": 27,
   "metadata": {},
   "outputs": [
    {
     "data": {
      "text/plain": [
       "tensor([[1, 2, 3],\n",
       "        [4, 5, 6]], dtype=torch.int32)"
      ]
     },
     "execution_count": 27,
     "metadata": {},
     "output_type": "execute_result"
    }
   ],
   "source": [
    "torch.tensor(x)"
   ]
  },
  {
   "cell_type": "code",
   "execution_count": 29,
   "metadata": {},
   "outputs": [
    {
     "data": {
      "text/plain": [
       "array([[1],\n",
       "       [2]], dtype=int64)"
      ]
     },
     "execution_count": 29,
     "metadata": {},
     "output_type": "execute_result"
    }
   ],
   "source": [
    "np.array(y)"
   ]
  },
  {
   "attachments": {},
   "cell_type": "markdown",
   "metadata": {},
   "source": [
    "# Operation on Tensors"
   ]
  },
  {
   "cell_type": "code",
   "execution_count": 31,
   "metadata": {},
   "outputs": [],
   "source": [
    "x = torch.tensor([[1,2,3],[4,5,6]])"
   ]
  },
  {
   "cell_type": "code",
   "execution_count": 32,
   "metadata": {},
   "outputs": [
    {
     "data": {
      "text/plain": [
       "tensor([[10, 20, 30],\n",
       "        [40, 50, 60]])"
      ]
     },
     "execution_count": 32,
     "metadata": {},
     "output_type": "execute_result"
    }
   ],
   "source": [
    "x * 10"
   ]
  },
  {
   "cell_type": "code",
   "execution_count": 33,
   "metadata": {},
   "outputs": [
    {
     "data": {
      "text/plain": [
       "tensor([[11, 12, 13],\n",
       "        [14, 15, 16]])"
      ]
     },
     "execution_count": 33,
     "metadata": {},
     "output_type": "execute_result"
    }
   ],
   "source": [
    "x + 10"
   ]
  },
  {
   "cell_type": "code",
   "execution_count": 35,
   "metadata": {},
   "outputs": [
    {
     "data": {
      "text/plain": [
       "tensor([[1, 2],\n",
       "        [3, 4],\n",
       "        [5, 6]])"
      ]
     },
     "execution_count": 35,
     "metadata": {},
     "output_type": "execute_result"
    }
   ],
   "source": [
    "#### Reshaping \n",
    "x.view(3,2)"
   ]
  },
  {
   "cell_type": "code",
   "execution_count": 36,
   "metadata": {},
   "outputs": [
    {
     "data": {
      "text/plain": [
       "True"
      ]
     },
     "execution_count": 36,
     "metadata": {},
     "output_type": "execute_result"
    }
   ],
   "source": [
    "x.shape == (2,3)"
   ]
  },
  {
   "attachments": {},
   "cell_type": "markdown",
   "metadata": {},
   "source": [
    "Assert\n",
    "\n",
    "Definition and Usage\n",
    "\n",
    "The assert keyword is used when debugging code. The assert keyword lets you test if a condition in your code returns True, if not, the program will raise \n",
    "an AssertionError."
   ]
  },
  {
   "cell_type": "code",
   "execution_count": 38,
   "metadata": {},
   "outputs": [],
   "source": [
    "assert(x.shape == (2,3))"
   ]
  },
  {
   "cell_type": "code",
   "execution_count": 42,
   "metadata": {},
   "outputs": [],
   "source": [
    "x = torch.randn(10,1,10)"
   ]
  },
  {
   "cell_type": "code",
   "execution_count": 45,
   "metadata": {},
   "outputs": [
    {
     "data": {
      "text/plain": [
       "torch.Size([10, 10])"
      ]
     },
     "execution_count": 45,
     "metadata": {},
     "output_type": "execute_result"
    }
   ],
   "source": [
    "x.squeeze(1).shape  ## squeeze"
   ]
  },
  {
   "cell_type": "code",
   "execution_count": 50,
   "metadata": {},
   "outputs": [
    {
     "data": {
      "text/plain": [
       "torch.Size([1, 10, 1, 10])"
      ]
     },
     "execution_count": 50,
     "metadata": {},
     "output_type": "execute_result"
    }
   ],
   "source": [
    "x.unsqueeze(0).shape"
   ]
  },
  {
   "cell_type": "code",
   "execution_count": 52,
   "metadata": {},
   "outputs": [],
   "source": [
    "#### Using None"
   ]
  },
  {
   "cell_type": "code",
   "execution_count": 56,
   "metadata": {},
   "outputs": [
    {
     "data": {
      "text/plain": [
       "torch.Size([1, 10, 1, 10])"
      ]
     },
     "execution_count": 56,
     "metadata": {},
     "output_type": "execute_result"
    }
   ],
   "source": [
    "x[None].size()  ## Adds dimension at 1st axis"
   ]
  },
  {
   "cell_type": "code",
   "execution_count": 59,
   "metadata": {},
   "outputs": [
    {
     "data": {
      "text/plain": [
       "torch.Size([10, 1, 1, 10])"
      ]
     },
     "execution_count": 59,
     "metadata": {},
     "output_type": "execute_result"
    }
   ],
   "source": [
    "x[:,None].size() ### Adds dimension at 2nd axis"
   ]
  },
  {
   "cell_type": "code",
   "execution_count": 62,
   "metadata": {},
   "outputs": [
    {
     "data": {
      "text/plain": [
       "torch.Size([10, 1, 10, 1])"
      ]
     },
     "execution_count": 62,
     "metadata": {},
     "output_type": "execute_result"
    }
   ],
   "source": [
    "x[:,:,:,None].shape ### Adds dimension at last axis"
   ]
  },
  {
   "attachments": {},
   "cell_type": "markdown",
   "metadata": {},
   "source": [
    "## Matrix multiplication"
   ]
  },
  {
   "cell_type": "code",
   "execution_count": 65,
   "metadata": {},
   "outputs": [],
   "source": [
    "x = torch.randn(2,3)"
   ]
  },
  {
   "cell_type": "code",
   "execution_count": 66,
   "metadata": {},
   "outputs": [],
   "source": [
    "y = torch.randn(3,2)"
   ]
  },
  {
   "cell_type": "code",
   "execution_count": 68,
   "metadata": {},
   "outputs": [
    {
     "data": {
      "text/plain": [
       "tensor([[-1.6998,  1.4383],\n",
       "        [-1.0667, -2.2141]])"
      ]
     },
     "execution_count": 68,
     "metadata": {},
     "output_type": "execute_result"
    }
   ],
   "source": [
    "torch.matmul(x,y)"
   ]
  },
  {
   "cell_type": "code",
   "execution_count": 69,
   "metadata": {},
   "outputs": [
    {
     "data": {
      "text/plain": [
       "tensor([[-1.6998,  1.4383],\n",
       "        [-1.0667, -2.2141]])"
      ]
     },
     "execution_count": 69,
     "metadata": {},
     "output_type": "execute_result"
    }
   ],
   "source": [
    "x @ y"
   ]
  },
  {
   "cell_type": "code",
   "execution_count": 70,
   "metadata": {},
   "outputs": [],
   "source": [
    "## Concatenation"
   ]
  },
  {
   "cell_type": "code",
   "execution_count": 74,
   "metadata": {},
   "outputs": [
    {
     "data": {
      "text/plain": [
       "tensor([[ 1.7763,  0.0993,  0.3651],\n",
       "        [ 0.0466, -0.2033,  1.3216],\n",
       "        [ 1.7763,  0.0993,  0.3651],\n",
       "        [ 0.0466, -0.2033,  1.3216]])"
      ]
     },
     "execution_count": 74,
     "metadata": {},
     "output_type": "execute_result"
    }
   ],
   "source": [
    "torch.concatenate([x,x])"
   ]
  },
  {
   "cell_type": "code",
   "execution_count": 75,
   "metadata": {},
   "outputs": [],
   "source": [
    "## Extracting min and max value in tensor"
   ]
  },
  {
   "cell_type": "code",
   "execution_count": 76,
   "metadata": {},
   "outputs": [
    {
     "data": {
      "text/plain": [
       "tensor(1.7763)"
      ]
     },
     "execution_count": 76,
     "metadata": {},
     "output_type": "execute_result"
    }
   ],
   "source": [
    "torch.max(x)"
   ]
  },
  {
   "cell_type": "code",
   "execution_count": 77,
   "metadata": {},
   "outputs": [
    {
     "data": {
      "text/plain": [
       "tensor(-0.2033)"
      ]
     },
     "execution_count": 77,
     "metadata": {},
     "output_type": "execute_result"
    }
   ],
   "source": [
    "torch.min(x)"
   ]
  },
  {
   "cell_type": "code",
   "execution_count": 79,
   "metadata": {},
   "outputs": [
    {
     "data": {
      "text/plain": [
       "torch.return_types.max(\n",
       "values=tensor([1.7763, 1.3216]),\n",
       "indices=tensor([0, 2]))"
      ]
     },
     "execution_count": 79,
     "metadata": {},
     "output_type": "execute_result"
    }
   ],
   "source": [
    "x.max(dim = 1)  ### Along a particular axis"
   ]
  },
  {
   "cell_type": "code",
   "execution_count": 80,
   "metadata": {},
   "outputs": [],
   "source": [
    "## Permute"
   ]
  },
  {
   "cell_type": "code",
   "execution_count": 81,
   "metadata": {},
   "outputs": [
    {
     "data": {
      "text/plain": [
       "torch.Size([2, 3])"
      ]
     },
     "execution_count": 81,
     "metadata": {},
     "output_type": "execute_result"
    }
   ],
   "source": [
    "x.shape"
   ]
  },
  {
   "cell_type": "code",
   "execution_count": 84,
   "metadata": {},
   "outputs": [
    {
     "data": {
      "text/plain": [
       "torch.Size([3, 2])"
      ]
     },
     "execution_count": 84,
     "metadata": {},
     "output_type": "execute_result"
    }
   ],
   "source": [
    "x.permute(1,0).shape"
   ]
  },
  {
   "cell_type": "code",
   "execution_count": 87,
   "metadata": {},
   "outputs": [
    {
     "name": "stdout",
     "output_type": "stream",
     "text": [
      "['H', 'T', '__abs__', '__add__', '__and__', '__array__', '__array_priority__', '__array_wrap__', '__bool__', '__class__', '__complex__', '__contains__', '__cuda_array_interface__', '__deepcopy__', '__delattr__', '__delitem__', '__dict__', '__dir__', '__div__', '__dlpack__', '__dlpack_device__', '__doc__', '__eq__', '__float__', '__floordiv__', '__format__', '__ge__', '__getattribute__', '__getitem__', '__gt__', '__hash__', '__iadd__', '__iand__', '__idiv__', '__ifloordiv__', '__ilshift__', '__imod__', '__imul__', '__index__', '__init__', '__init_subclass__', '__int__', '__invert__', '__ior__', '__ipow__', '__irshift__', '__isub__', '__iter__', '__itruediv__', '__ixor__', '__le__', '__len__', '__long__', '__lshift__', '__lt__', '__matmul__', '__mod__', '__module__', '__mul__', '__ne__', '__neg__', '__new__', '__nonzero__', '__or__', '__pos__', '__pow__', '__radd__', '__rand__', '__rdiv__', '__reduce__', '__reduce_ex__', '__repr__', '__reversed__', '__rfloordiv__', '__rlshift__', '__rmatmul__', '__rmod__', '__rmul__', '__ror__', '__rpow__', '__rrshift__', '__rshift__', '__rsub__', '__rtruediv__', '__rxor__', '__setattr__', '__setitem__', '__setstate__', '__sizeof__', '__str__', '__sub__', '__subclasshook__', '__torch_dispatch__', '__torch_function__', '__truediv__', '__weakref__', '__xor__', '_addmm_activation', '_autocast_to_full_precision', '_autocast_to_reduced_precision', '_backward_hooks', '_base', '_cdata', '_coalesced_', '_conj', '_conj_physical', '_dimI', '_dimV', '_fix_weakref', '_grad', '_grad_fn', '_has_symbolic_sizes_strides', '_indices', '_is_view', '_is_zerotensor', '_make_subclass', '_make_wrapper_subclass', '_neg_view', '_nested_tensor_layer_norm', '_nested_tensor_size', '_nnz', '_python_dispatch', '_reduce_ex_internal', '_storage', '_to_dense', '_update_names', '_values', '_version', 'abs', 'abs_', 'absolute', 'absolute_', 'acos', 'acos_', 'acosh', 'acosh_', 'add', 'add_', 'addbmm', 'addbmm_', 'addcdiv', 'addcdiv_', 'addcmul', 'addcmul_', 'addmm', 'addmm_', 'addmv', 'addmv_', 'addr', 'addr_', 'adjoint', 'align_as', 'align_to', 'all', 'allclose', 'amax', 'amin', 'aminmax', 'angle', 'any', 'apply_', 'arccos', 'arccos_', 'arccosh', 'arccosh_', 'arcsin', 'arcsin_', 'arcsinh', 'arcsinh_', 'arctan', 'arctan2', 'arctan2_', 'arctan_', 'arctanh', 'arctanh_', 'argmax', 'argmin', 'argsort', 'argwhere', 'as_strided', 'as_strided_', 'as_strided_scatter', 'as_subclass', 'asin', 'asin_', 'asinh', 'asinh_', 'atan', 'atan2', 'atan2_', 'atan_', 'atanh', 'atanh_', 'backward', 'baddbmm', 'baddbmm_', 'bernoulli', 'bernoulli_', 'bfloat16', 'bincount', 'bitwise_and', 'bitwise_and_', 'bitwise_left_shift', 'bitwise_left_shift_', 'bitwise_not', 'bitwise_not_', 'bitwise_or', 'bitwise_or_', 'bitwise_right_shift', 'bitwise_right_shift_', 'bitwise_xor', 'bitwise_xor_', 'bmm', 'bool', 'broadcast_to', 'byte', 'cauchy_', 'ccol_indices', 'cdouble', 'ceil', 'ceil_', 'cfloat', 'chalf', 'char', 'cholesky', 'cholesky_inverse', 'cholesky_solve', 'chunk', 'clamp', 'clamp_', 'clamp_max', 'clamp_max_', 'clamp_min', 'clamp_min_', 'clip', 'clip_', 'clone', 'coalesce', 'col_indices', 'conj', 'conj_physical', 'conj_physical_', 'contiguous', 'copy_', 'copysign', 'copysign_', 'corrcoef', 'cos', 'cos_', 'cosh', 'cosh_', 'count_nonzero', 'cov', 'cpu', 'cross', 'crow_indices', 'cuda', 'cummax', 'cummin', 'cumprod', 'cumprod_', 'cumsum', 'cumsum_', 'data', 'data_ptr', 'deg2rad', 'deg2rad_', 'dense_dim', 'dequantize', 'det', 'detach', 'detach_', 'device', 'diag', 'diag_embed', 'diagflat', 'diagonal', 'diagonal_scatter', 'diff', 'digamma', 'digamma_', 'dim', 'dist', 'div', 'div_', 'divide', 'divide_', 'dot', 'double', 'dsplit', 'dtype', 'eig', 'element_size', 'eq', 'eq_', 'equal', 'erf', 'erf_', 'erfc', 'erfc_', 'erfinv', 'erfinv_', 'exp', 'exp2', 'exp2_', 'exp_', 'expand', 'expand_as', 'expm1', 'expm1_', 'exponential_', 'fill_', 'fill_diagonal_', 'fix', 'fix_', 'flatten', 'flip', 'fliplr', 'flipud', 'float', 'float_power', 'float_power_', 'floor', 'floor_', 'floor_divide', 'floor_divide_', 'fmax', 'fmin', 'fmod', 'fmod_', 'frac', 'frac_', 'frexp', 'gather', 'gcd', 'gcd_', 'ge', 'ge_', 'geometric_', 'geqrf', 'ger', 'get_device', 'grad', 'grad_fn', 'greater', 'greater_', 'greater_equal', 'greater_equal_', 'gt', 'gt_', 'half', 'hardshrink', 'has_names', 'heaviside', 'heaviside_', 'histc', 'histogram', 'hsplit', 'hypot', 'hypot_', 'i0', 'i0_', 'igamma', 'igamma_', 'igammac', 'igammac_', 'imag', 'index_add', 'index_add_', 'index_copy', 'index_copy_', 'index_fill', 'index_fill_', 'index_put', 'index_put_', 'index_reduce', 'index_reduce_', 'index_select', 'indices', 'inner', 'int', 'int_repr', 'inverse', 'ipu', 'is_coalesced', 'is_complex', 'is_conj', 'is_contiguous', 'is_cpu', 'is_cuda', 'is_distributed', 'is_floating_point', 'is_inference', 'is_ipu', 'is_leaf', 'is_meta', 'is_mkldnn', 'is_mps', 'is_neg', 'is_nested', 'is_nonzero', 'is_ort', 'is_pinned', 'is_quantized', 'is_same_size', 'is_set_to', 'is_shared', 'is_signed', 'is_sparse', 'is_sparse_csr', 'is_vulkan', 'is_xpu', 'isclose', 'isfinite', 'isinf', 'isnan', 'isneginf', 'isposinf', 'isreal', 'istft', 'item', 'kron', 'kthvalue', 'layout', 'lcm', 'lcm_', 'ldexp', 'ldexp_', 'le', 'le_', 'lerp', 'lerp_', 'less', 'less_', 'less_equal', 'less_equal_', 'lgamma', 'lgamma_', 'log', 'log10', 'log10_', 'log1p', 'log1p_', 'log2', 'log2_', 'log_', 'log_normal_', 'log_softmax', 'logaddexp', 'logaddexp2', 'logcumsumexp', 'logdet', 'logical_and', 'logical_and_', 'logical_not', 'logical_not_', 'logical_or', 'logical_or_', 'logical_xor', 'logical_xor_', 'logit', 'logit_', 'logsumexp', 'long', 'lstsq', 'lt', 'lt_', 'lu', 'lu_solve', 'mH', 'mT', 'map2_', 'map_', 'masked_fill', 'masked_fill_', 'masked_scatter', 'masked_scatter_', 'masked_select', 'matmul', 'matrix_exp', 'matrix_power', 'max', 'maximum', 'mean', 'median', 'min', 'minimum', 'mm', 'mode', 'moveaxis', 'movedim', 'msort', 'mul', 'mul_', 'multinomial', 'multiply', 'multiply_', 'mv', 'mvlgamma', 'mvlgamma_', 'name', 'names', 'nan_to_num', 'nan_to_num_', 'nanmean', 'nanmedian', 'nanquantile', 'nansum', 'narrow', 'narrow_copy', 'ndim', 'ndimension', 'ne', 'ne_', 'neg', 'neg_', 'negative', 'negative_', 'nelement', 'new', 'new_empty', 'new_empty_strided', 'new_full', 'new_ones', 'new_tensor', 'new_zeros', 'nextafter', 'nextafter_', 'nonzero', 'norm', 'normal_', 'not_equal', 'not_equal_', 'numel', 'numpy', 'orgqr', 'ormqr', 'outer', 'output_nr', 'permute', 'pin_memory', 'pinverse', 'polygamma', 'polygamma_', 'positive', 'pow', 'pow_', 'prelu', 'prod', 'put', 'put_', 'q_per_channel_axis', 'q_per_channel_scales', 'q_per_channel_zero_points', 'q_scale', 'q_zero_point', 'qr', 'qscheme', 'quantile', 'rad2deg', 'rad2deg_', 'random_', 'ravel', 'real', 'reciprocal', 'reciprocal_', 'record_stream', 'refine_names', 'register_hook', 'reinforce', 'relu', 'relu_', 'remainder', 'remainder_', 'rename', 'rename_', 'renorm', 'renorm_', 'repeat', 'repeat_interleave', 'requires_grad', 'requires_grad_', 'reshape', 'reshape_as', 'resize', 'resize_', 'resize_as', 'resize_as_', 'resize_as_sparse_', 'resolve_conj', 'resolve_neg', 'retain_grad', 'retains_grad', 'roll', 'rot90', 'round', 'round_', 'row_indices', 'rsqrt', 'rsqrt_', 'scatter', 'scatter_', 'scatter_add', 'scatter_add_', 'scatter_reduce', 'scatter_reduce_', 'select', 'select_scatter', 'set_', 'sgn', 'sgn_', 'shape', 'share_memory_', 'short', 'sigmoid', 'sigmoid_', 'sign', 'sign_', 'signbit', 'sin', 'sin_', 'sinc', 'sinc_', 'sinh', 'sinh_', 'size', 'slice_scatter', 'slogdet', 'smm', 'softmax', 'solve', 'sort', 'sparse_dim', 'sparse_mask', 'sparse_resize_', 'sparse_resize_and_clear_', 'split', 'split_with_sizes', 'sqrt', 'sqrt_', 'square', 'square_', 'squeeze', 'squeeze_', 'sspaddmm', 'std', 'stft', 'storage', 'storage_offset', 'storage_type', 'stride', 'sub', 'sub_', 'subtract', 'subtract_', 'sum', 'sum_to_size', 'svd', 'swapaxes', 'swapaxes_', 'swapdims', 'swapdims_', 'symeig', 't', 't_', 'take', 'take_along_dim', 'tan', 'tan_', 'tanh', 'tanh_', 'tensor_split', 'tile', 'to', 'to_dense', 'to_mkldnn', 'to_padded_tensor', 'to_sparse', 'to_sparse_bsc', 'to_sparse_bsr', 'to_sparse_coo', 'to_sparse_csc', 'to_sparse_csr', 'tolist', 'topk', 'trace', 'transpose', 'transpose_', 'triangular_solve', 'tril', 'tril_', 'triu', 'triu_', 'true_divide', 'true_divide_', 'trunc', 'trunc_', 'type', 'type_as', 'unbind', 'unflatten', 'unfold', 'uniform_', 'unique', 'unique_consecutive', 'unsafe_chunk', 'unsafe_split', 'unsafe_split_with_sizes', 'unsqueeze', 'unsqueeze_', 'values', 'var', 'vdot', 'view', 'view_as', 'volatile', 'vsplit', 'where', 'xlogy', 'xlogy_', 'xpu', 'zero_']\n"
     ]
    }
   ],
   "source": [
    "### All the different functions available on tensors\n",
    "print(dir(torch.Tensor))"
   ]
  },
  {
   "attachments": {},
   "cell_type": "markdown",
   "metadata": {},
   "source": [
    "# Auto Gradients"
   ]
  },
  {
   "cell_type": "code",
   "execution_count": 98,
   "metadata": {},
   "outputs": [],
   "source": [
    "x = torch.tensor([[2,-1,0],[4,5,6]], requires_grad=True, dtype=float)   ### look at required_grad"
   ]
  },
  {
   "cell_type": "code",
   "execution_count": 101,
   "metadata": {},
   "outputs": [],
   "source": [
    "y = x.pow(2).sum()"
   ]
  },
  {
   "cell_type": "code",
   "execution_count": 102,
   "metadata": {},
   "outputs": [],
   "source": [
    "y.backward()"
   ]
  },
  {
   "cell_type": "code",
   "execution_count": 103,
   "metadata": {},
   "outputs": [
    {
     "data": {
      "text/plain": [
       "tensor([[ 4., -2.,  0.],\n",
       "        [ 8., 10., 12.]], dtype=torch.float64)"
      ]
     },
     "execution_count": 103,
     "metadata": {},
     "output_type": "execute_result"
    }
   ],
   "source": [
    "x.grad"
   ]
  },
  {
   "attachments": {},
   "cell_type": "markdown",
   "metadata": {},
   "source": [
    "# Training simple Neural Networks using Pytorch"
   ]
  },
  {
   "cell_type": "code",
   "execution_count": 104,
   "metadata": {},
   "outputs": [],
   "source": [
    "### Will train on a toy dataset"
   ]
  },
  {
   "cell_type": "code",
   "execution_count": 110,
   "metadata": {},
   "outputs": [],
   "source": [
    "x = [[1,2],[3,4],[2,3],[5,6]]\n",
    "y = [[3],[7],[5],[11]]"
   ]
  },
  {
   "cell_type": "code",
   "execution_count": 111,
   "metadata": {},
   "outputs": [],
   "source": [
    "### converting data to tensors and floats. Making them floats because we are multiplying data by float weights anyway\n",
    "x = torch.tensor(x).float()\n",
    "y = torch.tensor(y).float()"
   ]
  },
  {
   "cell_type": "code",
   "execution_count": 113,
   "metadata": {},
   "outputs": [],
   "source": [
    "## Getting device and registering variables to that device"
   ]
  },
  {
   "cell_type": "code",
   "execution_count": 114,
   "metadata": {},
   "outputs": [],
   "source": [
    "device = \"cuda\" if torch.cuda.is_available() else \"cpu\""
   ]
  },
  {
   "cell_type": "code",
   "execution_count": 116,
   "metadata": {},
   "outputs": [],
   "source": [
    "X = x.to(device)\n",
    "Y = y.to(device)"
   ]
  },
  {
   "cell_type": "code",
   "execution_count": 118,
   "metadata": {},
   "outputs": [],
   "source": [
    "## Neural network architecture"
   ]
  },
  {
   "cell_type": "code",
   "execution_count": 119,
   "metadata": {},
   "outputs": [],
   "source": [
    "import torch.nn as nn"
   ]
  },
  {
   "cell_type": "code",
   "execution_count": 120,
   "metadata": {},
   "outputs": [
    {
     "data": {
      "text/plain": [
       "['AdaptiveAvgPool1d',\n",
       " 'AdaptiveAvgPool2d',\n",
       " 'AdaptiveAvgPool3d',\n",
       " 'AdaptiveLogSoftmaxWithLoss',\n",
       " 'AdaptiveMaxPool1d',\n",
       " 'AdaptiveMaxPool2d',\n",
       " 'AdaptiveMaxPool3d',\n",
       " 'AlphaDropout',\n",
       " 'AvgPool1d',\n",
       " 'AvgPool2d',\n",
       " 'AvgPool3d',\n",
       " 'BCELoss',\n",
       " 'BCEWithLogitsLoss',\n",
       " 'BatchNorm1d',\n",
       " 'BatchNorm2d',\n",
       " 'BatchNorm3d',\n",
       " 'Bilinear',\n",
       " 'CELU',\n",
       " 'CTCLoss',\n",
       " 'ChannelShuffle',\n",
       " 'ConstantPad1d',\n",
       " 'ConstantPad2d',\n",
       " 'ConstantPad3d',\n",
       " 'Container',\n",
       " 'Conv1d',\n",
       " 'Conv2d',\n",
       " 'Conv3d',\n",
       " 'ConvTranspose1d',\n",
       " 'ConvTranspose2d',\n",
       " 'ConvTranspose3d',\n",
       " 'CosineEmbeddingLoss',\n",
       " 'CosineSimilarity',\n",
       " 'CrossEntropyLoss',\n",
       " 'CrossMapLRN2d',\n",
       " 'DataParallel',\n",
       " 'Dropout',\n",
       " 'Dropout1d',\n",
       " 'Dropout2d',\n",
       " 'Dropout3d',\n",
       " 'ELU',\n",
       " 'Embedding',\n",
       " 'EmbeddingBag',\n",
       " 'FeatureAlphaDropout',\n",
       " 'Flatten',\n",
       " 'Fold',\n",
       " 'FractionalMaxPool2d',\n",
       " 'FractionalMaxPool3d',\n",
       " 'GELU',\n",
       " 'GLU',\n",
       " 'GRU',\n",
       " 'GRUCell',\n",
       " 'GaussianNLLLoss',\n",
       " 'GroupNorm',\n",
       " 'Hardshrink',\n",
       " 'Hardsigmoid',\n",
       " 'Hardswish',\n",
       " 'Hardtanh',\n",
       " 'HingeEmbeddingLoss',\n",
       " 'HuberLoss',\n",
       " 'Identity',\n",
       " 'InstanceNorm1d',\n",
       " 'InstanceNorm2d',\n",
       " 'InstanceNorm3d',\n",
       " 'KLDivLoss',\n",
       " 'L1Loss',\n",
       " 'LPPool1d',\n",
       " 'LPPool2d',\n",
       " 'LSTM',\n",
       " 'LSTMCell',\n",
       " 'LayerNorm',\n",
       " 'LazyBatchNorm1d',\n",
       " 'LazyBatchNorm2d',\n",
       " 'LazyBatchNorm3d',\n",
       " 'LazyConv1d',\n",
       " 'LazyConv2d',\n",
       " 'LazyConv3d',\n",
       " 'LazyConvTranspose1d',\n",
       " 'LazyConvTranspose2d',\n",
       " 'LazyConvTranspose3d',\n",
       " 'LazyInstanceNorm1d',\n",
       " 'LazyInstanceNorm2d',\n",
       " 'LazyInstanceNorm3d',\n",
       " 'LazyLinear',\n",
       " 'LeakyReLU',\n",
       " 'Linear',\n",
       " 'LocalResponseNorm',\n",
       " 'LogSigmoid',\n",
       " 'LogSoftmax',\n",
       " 'MSELoss',\n",
       " 'MarginRankingLoss',\n",
       " 'MaxPool1d',\n",
       " 'MaxPool2d',\n",
       " 'MaxPool3d',\n",
       " 'MaxUnpool1d',\n",
       " 'MaxUnpool2d',\n",
       " 'MaxUnpool3d',\n",
       " 'Mish',\n",
       " 'Module',\n",
       " 'ModuleDict',\n",
       " 'ModuleList',\n",
       " 'MultiLabelMarginLoss',\n",
       " 'MultiLabelSoftMarginLoss',\n",
       " 'MultiMarginLoss',\n",
       " 'MultiheadAttention',\n",
       " 'NLLLoss',\n",
       " 'NLLLoss2d',\n",
       " 'PReLU',\n",
       " 'PairwiseDistance',\n",
       " 'Parameter',\n",
       " 'ParameterDict',\n",
       " 'ParameterList',\n",
       " 'PixelShuffle',\n",
       " 'PixelUnshuffle',\n",
       " 'PoissonNLLLoss',\n",
       " 'RNN',\n",
       " 'RNNBase',\n",
       " 'RNNCell',\n",
       " 'RNNCellBase',\n",
       " 'RReLU',\n",
       " 'ReLU',\n",
       " 'ReLU6',\n",
       " 'ReflectionPad1d',\n",
       " 'ReflectionPad2d',\n",
       " 'ReflectionPad3d',\n",
       " 'ReplicationPad1d',\n",
       " 'ReplicationPad2d',\n",
       " 'ReplicationPad3d',\n",
       " 'SELU',\n",
       " 'Sequential',\n",
       " 'SiLU',\n",
       " 'Sigmoid',\n",
       " 'SmoothL1Loss',\n",
       " 'SoftMarginLoss',\n",
       " 'Softmax',\n",
       " 'Softmax2d',\n",
       " 'Softmin',\n",
       " 'Softplus',\n",
       " 'Softshrink',\n",
       " 'Softsign',\n",
       " 'SyncBatchNorm',\n",
       " 'Tanh',\n",
       " 'Tanhshrink',\n",
       " 'Threshold',\n",
       " 'Transformer',\n",
       " 'TransformerDecoder',\n",
       " 'TransformerDecoderLayer',\n",
       " 'TransformerEncoder',\n",
       " 'TransformerEncoderLayer',\n",
       " 'TripletMarginLoss',\n",
       " 'TripletMarginWithDistanceLoss',\n",
       " 'Unflatten',\n",
       " 'Unfold',\n",
       " 'UninitializedBuffer',\n",
       " 'UninitializedParameter',\n",
       " 'Upsample',\n",
       " 'UpsamplingBilinear2d',\n",
       " 'UpsamplingNearest2d',\n",
       " 'ZeroPad2d',\n",
       " '__builtins__',\n",
       " '__cached__',\n",
       " '__doc__',\n",
       " '__file__',\n",
       " '__loader__',\n",
       " '__name__',\n",
       " '__package__',\n",
       " '__path__',\n",
       " '__spec__',\n",
       " '_reduction',\n",
       " 'common_types',\n",
       " 'factory_kwargs',\n",
       " 'functional',\n",
       " 'grad',\n",
       " 'init',\n",
       " 'intrinsic',\n",
       " 'modules',\n",
       " 'parallel',\n",
       " 'parameter',\n",
       " 'qat',\n",
       " 'quantizable',\n",
       " 'quantized',\n",
       " 'utils']"
      ]
     },
     "execution_count": 120,
     "metadata": {},
     "output_type": "execute_result"
    }
   ],
   "source": [
    "dir(nn)"
   ]
  },
  {
   "cell_type": "code",
   "execution_count": 121,
   "metadata": {},
   "outputs": [],
   "source": [
    "class MyNeuralNetwork(nn.Module):\n",
    "    def __init__(self) -> None:\n",
    "        super().__init__()\n",
    "        ### define layers of model\n",
    "        \n",
    "        self.layer1 = nn.Linear(2, 8)\n",
    "        self.layer1_activation = nn.ReLU()\n",
    "        self.layer2 = nn.Linear(8,1)\n",
    "        \n",
    "    def forward(self, X):\n",
    "        ### method reserved for forward propogation. We can connect all layers here\n",
    "        X = self.layer1(X)\n",
    "        X = self.layer1_activation(X)\n",
    "        X = self.layer2(X)\n",
    "        return X\n",
    "        \n",
    "        "
   ]
  },
  {
   "cell_type": "code",
   "execution_count": 179,
   "metadata": {},
   "outputs": [],
   "source": [
    "model = MyNeuralNetwork().to(device) ### make sure to register the model. model and data should be on same device"
   ]
  },
  {
   "cell_type": "code",
   "execution_count": 180,
   "metadata": {},
   "outputs": [
    {
     "data": {
      "text/plain": [
       "Parameter containing:\n",
       "tensor([[ 0.5190, -0.6961],\n",
       "        [-0.4848, -0.1966],\n",
       "        [ 0.5986, -0.5432],\n",
       "        [ 0.1561,  0.1891],\n",
       "        [ 0.2379, -0.0760],\n",
       "        [ 0.4083, -0.4066],\n",
       "        [-0.6089, -0.6177],\n",
       "        [ 0.2829, -0.5293]], device='cuda:0', requires_grad=True)"
      ]
     },
     "execution_count": 180,
     "metadata": {},
     "output_type": "execute_result"
    }
   ],
   "source": [
    "model.layer1.weight"
   ]
  },
  {
   "cell_type": "code",
   "execution_count": 181,
   "metadata": {},
   "outputs": [
    {
     "data": {
      "text/plain": [
       "Parameter containing:\n",
       "tensor([[-0.3224,  0.1052,  0.2826, -0.3404, -0.0496, -0.2317,  0.3276, -0.1070]],\n",
       "       device='cuda:0', requires_grad=True)"
      ]
     },
     "execution_count": 181,
     "metadata": {},
     "output_type": "execute_result"
    }
   ],
   "source": [
    "model.layer2.weight"
   ]
  },
  {
   "cell_type": "code",
   "execution_count": 182,
   "metadata": {},
   "outputs": [
    {
     "name": "stdout",
     "output_type": "stream",
     "text": [
      "Parameter containing:\n",
      "tensor([[ 0.5190, -0.6961],\n",
      "        [-0.4848, -0.1966],\n",
      "        [ 0.5986, -0.5432],\n",
      "        [ 0.1561,  0.1891],\n",
      "        [ 0.2379, -0.0760],\n",
      "        [ 0.4083, -0.4066],\n",
      "        [-0.6089, -0.6177],\n",
      "        [ 0.2829, -0.5293]], device='cuda:0', requires_grad=True)\n",
      "Parameter containing:\n",
      "tensor([-0.0893,  0.3942,  0.3840,  0.6348,  0.4143, -0.1648,  0.5386, -0.5338],\n",
      "       device='cuda:0', requires_grad=True)\n",
      "Parameter containing:\n",
      "tensor([[-0.3224,  0.1052,  0.2826, -0.3404, -0.0496, -0.2317,  0.3276, -0.1070]],\n",
      "       device='cuda:0', requires_grad=True)\n",
      "Parameter containing:\n",
      "tensor([-0.0423], device='cuda:0', requires_grad=True)\n"
     ]
    }
   ],
   "source": [
    "for param in model.parameters():\n",
    "    print(param)"
   ]
  },
  {
   "cell_type": "code",
   "execution_count": 183,
   "metadata": {},
   "outputs": [],
   "source": [
    "### loss function\n",
    "loss_fun = nn.MSELoss()"
   ]
  },
  {
   "cell_type": "code",
   "execution_count": 184,
   "metadata": {},
   "outputs": [],
   "source": [
    "_Y = model(X)"
   ]
  },
  {
   "cell_type": "code",
   "execution_count": 185,
   "metadata": {},
   "outputs": [
    {
     "data": {
      "text/plain": [
       "tensor(61.2973, device='cuda:0', grad_fn=<MseLossBackward0>)"
      ]
     },
     "execution_count": 185,
     "metadata": {},
     "output_type": "execute_result"
    }
   ],
   "source": [
    "loss_fun(_Y,Y) ### use _ for predictions. Always send predictions first and then ground truth"
   ]
  },
  {
   "cell_type": "code",
   "execution_count": 186,
   "metadata": {},
   "outputs": [
    {
     "name": "stdout",
     "output_type": "stream",
     "text": [
      "['ASGD', 'Adadelta', 'Adagrad', 'Adam', 'AdamW', 'Adamax', 'LBFGS', 'NAdam', 'Optimizer', 'RAdam', 'RMSprop', 'Rprop', 'SGD', 'SparseAdam', '__builtins__', '__cached__', '__doc__', '__file__', '__loader__', '__name__', '__package__', '__path__', '__spec__', '_functional', '_multi_tensor', 'lr_scheduler', 'swa_utils']\n"
     ]
    }
   ],
   "source": [
    "## optimizer\n",
    "\n",
    "print(dir(torch.optim))"
   ]
  },
  {
   "cell_type": "code",
   "execution_count": 187,
   "metadata": {},
   "outputs": [],
   "source": [
    "optimizer = torch.optim.SGD(params= model.parameters(), lr = 0.01)"
   ]
  },
  {
   "cell_type": "code",
   "execution_count": 188,
   "metadata": {},
   "outputs": [
    {
     "name": "stdout",
     "output_type": "stream",
     "text": [
      "On epoch: 0\n",
      "Loss currently: 18.39206886291504\n",
      "On epoch: 1\n",
      "Loss currently: 12.916226387023926\n",
      "On epoch: 2\n",
      "Loss currently: 10.14196491241455\n",
      "On epoch: 3\n",
      "Loss currently: 7.595778942108154\n",
      "On epoch: 4\n",
      "Loss currently: 4.9058942794799805\n",
      "On epoch: 5\n",
      "Loss currently: 2.4903335571289062\n",
      "On epoch: 6\n",
      "Loss currently: 0.9799860119819641\n",
      "On epoch: 7\n",
      "Loss currently: 0.4134604036808014\n",
      "On epoch: 8\n",
      "Loss currently: 0.29233574867248535\n",
      "On epoch: 9\n",
      "Loss currently: 0.27571961283683777\n",
      "On epoch: 10\n",
      "Loss currently: 0.2736716866493225\n",
      "On epoch: 11\n",
      "Loss currently: 0.27315646409988403\n",
      "On epoch: 12\n",
      "Loss currently: 0.2727892994880676\n",
      "On epoch: 13\n",
      "Loss currently: 0.27244022488594055\n",
      "On epoch: 14\n",
      "Loss currently: 0.2720973491668701\n",
      "On epoch: 15\n",
      "Loss currently: 0.27175968885421753\n",
      "On epoch: 16\n",
      "Loss currently: 0.2714270055294037\n",
      "On epoch: 17\n",
      "Loss currently: 0.2710992097854614\n",
      "On epoch: 18\n",
      "Loss currently: 0.27077630162239075\n",
      "On epoch: 19\n",
      "Loss currently: 0.2704581916332245\n",
      "On epoch: 20\n",
      "Loss currently: 0.2701447308063507\n",
      "On epoch: 21\n",
      "Loss currently: 0.26983603835105896\n",
      "On epoch: 22\n",
      "Loss currently: 0.26953184604644775\n",
      "On epoch: 23\n",
      "Loss currently: 0.2692321538925171\n",
      "On epoch: 24\n",
      "Loss currently: 0.2689369320869446\n",
      "On epoch: 25\n",
      "Loss currently: 0.2686460614204407\n",
      "On epoch: 26\n",
      "Loss currently: 0.26835954189300537\n",
      "On epoch: 27\n",
      "Loss currently: 0.2680773138999939\n",
      "On epoch: 28\n",
      "Loss currently: 0.2677992582321167\n",
      "On epoch: 29\n",
      "Loss currently: 0.2675252854824066\n",
      "On epoch: 30\n",
      "Loss currently: 0.2672555148601532\n",
      "On epoch: 31\n",
      "Loss currently: 0.26698970794677734\n",
      "On epoch: 32\n",
      "Loss currently: 0.26672786474227905\n",
      "On epoch: 33\n",
      "Loss currently: 0.26646992564201355\n",
      "On epoch: 34\n",
      "Loss currently: 0.26621583104133606\n",
      "On epoch: 35\n",
      "Loss currently: 0.2659655213356018\n",
      "On epoch: 36\n",
      "Loss currently: 0.2657190263271332\n",
      "On epoch: 37\n",
      "Loss currently: 0.26547616720199585\n",
      "On epoch: 38\n",
      "Loss currently: 0.2652369439601898\n",
      "On epoch: 39\n",
      "Loss currently: 0.2650013864040375\n",
      "On epoch: 40\n",
      "Loss currently: 0.2647692561149597\n",
      "On epoch: 41\n",
      "Loss currently: 0.2645406723022461\n",
      "On epoch: 42\n",
      "Loss currently: 0.26431548595428467\n",
      "On epoch: 43\n",
      "Loss currently: 0.26409363746643066\n",
      "On epoch: 44\n",
      "Loss currently: 0.26387521624565125\n",
      "On epoch: 45\n",
      "Loss currently: 0.2636600136756897\n",
      "On epoch: 46\n",
      "Loss currently: 0.2634480893611908\n",
      "On epoch: 47\n",
      "Loss currently: 0.263239324092865\n",
      "On epoch: 48\n",
      "Loss currently: 0.26303374767303467\n",
      "On epoch: 49\n",
      "Loss currently: 0.2628312408924103\n"
     ]
    }
   ],
   "source": [
    "### training loop\n",
    "loss_history = []\n",
    "for _ in range(50):\n",
    "    print(f\"On epoch: {_}\")\n",
    "    optimizer.zero_grad()  ## flush all previous gradients\n",
    "    loss_value = loss_fun(model(X), X) ## calculate loss\n",
    "    loss_value.backward() ## backward propogation\n",
    "    optimizer.step() ## update the weights\n",
    "    loss_history.append(loss_value)\n",
    "    print(f\"Loss currently: {loss_value}\")\n",
    "    \n",
    "    "
   ]
  },
  {
   "cell_type": "code",
   "execution_count": 189,
   "metadata": {},
   "outputs": [],
   "source": [
    "loss_history = [float(loss) for loss in loss_history]"
   ]
  },
  {
   "cell_type": "code",
   "execution_count": 190,
   "metadata": {},
   "outputs": [
    {
     "data": {
      "image/png": "[encoded data removed]",
      "text/plain": [
       "<Figure size 432x288 with 1 Axes>"
      ]
     },
     "metadata": {
      "needs_background": "light"
     },
     "output_type": "display_data"
    }
   ],
   "source": [
    "### Plotting the loss values\n",
    "\n",
    "import matplotlib.pyplot as plt\n",
    "%matplotlib inline\n",
    "plt.plot(loss_history)\n",
    "plt.show()"
   ]
  },
  {
   "cell_type": "code",
   "execution_count": 191,
   "metadata": {},
   "outputs": [
    {
     "data": {
      "text/plain": [
       "tensor([[1.6663]], device='cuda:0', grad_fn=<AddmmBackward0>)"
      ]
     },
     "execution_count": 191,
     "metadata": {},
     "output_type": "execute_result"
    }
   ],
   "source": [
    "model(torch.tensor([[1,2]]).float().to(device))"
   ]
  },
  {
   "attachments": {},
   "cell_type": "markdown",
   "metadata": {},
   "source": [
    "# Batch size\n",
    "\n",
    "# Dataset, Data Loaders"
   ]
  },
  {
   "cell_type": "code",
   "execution_count": 227,
   "metadata": {},
   "outputs": [],
   "source": [
    "from torch.utils.data import DataLoader, Dataset"
   ]
  },
  {
   "cell_type": "code",
   "execution_count": 228,
   "metadata": {},
   "outputs": [],
   "source": [
    "x = [[1,2],[3,4],[2,3],[5,6]]\n",
    "y = [[3],[7],[5],[11]]"
   ]
  },
  {
   "cell_type": "code",
   "execution_count": 229,
   "metadata": {},
   "outputs": [],
   "source": [
    "class MyDataset(Dataset):\n",
    "    ## Within this class, we store the information to fetch one data point at a point\n",
    "    ## so that they can be bundled together to create batches\n",
    "    \n",
    "    def __init__(self, x, y) -> None:\n",
    "        self.x = torch.tensor(x).float().to(device)\n",
    "        self.y = torch.tensor(y).float().to(device)\n",
    "        \n",
    "    def __len__(self):\n",
    "        return len(self.x)\n",
    "    \n",
    "    def __getitem__(self, ix):\n",
    "        return self.x[ix], self.y[ix]\n",
    "    \n",
    "    \n",
    "    \n",
    "        \n",
    "        "
   ]
  },
  {
   "cell_type": "code",
   "execution_count": 230,
   "metadata": {},
   "outputs": [],
   "source": [
    "ds = MyDataset(x,y)"
   ]
  },
  {
   "cell_type": "code",
   "execution_count": 231,
   "metadata": {},
   "outputs": [
    {
     "data": {
      "text/plain": [
       "<__main__.MyDataset at 0x1ea8c0c9d30>"
      ]
     },
     "execution_count": 231,
     "metadata": {},
     "output_type": "execute_result"
    }
   ],
   "source": [
    "ds"
   ]
  },
  {
   "cell_type": "code",
   "execution_count": 236,
   "metadata": {},
   "outputs": [],
   "source": [
    "dl = DataLoader(dataset=ds , batch_size=2, shuffle=True)"
   ]
  },
  {
   "cell_type": "code",
   "execution_count": 237,
   "metadata": {},
   "outputs": [
    {
     "name": "stdout",
     "output_type": "stream",
     "text": [
      "tensor([[3., 4.],\n",
      "        [5., 6.]], device='cuda:0') tensor([[ 7.],\n",
      "        [11.]], device='cuda:0')\n",
      "tensor([[2., 3.],\n",
      "        [1., 2.]], device='cuda:0') tensor([[5.],\n",
      "        [3.]], device='cuda:0')\n"
     ]
    }
   ],
   "source": [
    "for x,y in dl:\n",
    "    print(x,y)"
   ]
  },
  {
   "cell_type": "code",
   "execution_count": 238,
   "metadata": {},
   "outputs": [],
   "source": [
    "model = MyNeuralNetwork().to(device)"
   ]
  },
  {
   "cell_type": "code",
   "execution_count": 247,
   "metadata": {},
   "outputs": [],
   "source": [
    "optimizer = torch.optim.SGD(model.parameters(), lr = 0.0001)"
   ]
  },
  {
   "cell_type": "code",
   "execution_count": 248,
   "metadata": {},
   "outputs": [
    {
     "name": "stdout",
     "output_type": "stream",
     "text": [
      "epoch: 0\n",
      "Loss value: 0.03845474123954773\n",
      "epoch: 0\n",
      "Loss value: 0.11626189947128296\n",
      "epoch: 1\n",
      "Loss value: 0.08820381760597229\n",
      "epoch: 1\n",
      "Loss value: 0.0659467875957489\n",
      "epoch: 2\n",
      "Loss value: 0.03218039870262146\n",
      "epoch: 2\n",
      "Loss value: 0.12185697257518768\n",
      "epoch: 3\n",
      "Loss value: 0.11489927768707275\n",
      "epoch: 3\n",
      "Loss value: 0.0396411158144474\n",
      "epoch: 4\n",
      "Loss value: 0.11479690670967102\n",
      "epoch: 4\n",
      "Loss value: 0.039682723581790924\n",
      "epoch: 5\n",
      "Loss value: 0.06553937494754791\n",
      "epoch: 5\n",
      "Loss value: 0.08836037665605545\n",
      "epoch: 6\n",
      "Loss value: 0.08778427541255951\n",
      "epoch: 6\n",
      "Loss value: 0.0660565048456192\n",
      "epoch: 7\n",
      "Loss value: 0.12140994518995285\n",
      "epoch: 7\n",
      "Loss value: 0.03231566771864891\n",
      "epoch: 8\n",
      "Loss value: 0.08761201798915863\n",
      "epoch: 8\n",
      "Loss value: 0.06610599905252457\n",
      "epoch: 9\n",
      "Loss value: 0.1142275333404541\n",
      "epoch: 9\n",
      "Loss value: 0.03994808718562126\n",
      "epoch: 10\n",
      "Loss value: 0.038973577320575714\n",
      "epoch: 10\n",
      "Loss value: 0.11513164639472961\n",
      "epoch: 11\n",
      "Loss value: 0.03165661543607712\n",
      "epoch: 11\n",
      "Loss value: 0.12182760238647461\n",
      "epoch: 12\n",
      "Loss value: 0.0390702560544014\n",
      "epoch: 12\n",
      "Loss value: 0.11491499841213226\n",
      "epoch: 13\n",
      "Loss value: 0.039125777781009674\n",
      "epoch: 13\n",
      "Loss value: 0.11479973793029785\n",
      "epoch: 14\n",
      "Loss value: 0.06572552025318146\n",
      "epoch: 14\n",
      "Loss value: 0.08762705326080322\n",
      "epoch: 15\n",
      "Loss value: 0.11357803642749786\n",
      "epoch: 15\n",
      "Loss value: 0.04023953899741173\n",
      "epoch: 16\n",
      "Loss value: 0.06574443727731705\n",
      "epoch: 16\n",
      "Loss value: 0.08749013394117355\n",
      "epoch: 17\n",
      "Loss value: 0.03133712336421013\n",
      "epoch: 17\n",
      "Loss value: 0.12178786098957062\n",
      "epoch: 18\n",
      "Loss value: 0.06576812267303467\n",
      "epoch: 18\n",
      "Loss value: 0.08734855055809021\n",
      "epoch: 19\n",
      "Loss value: 0.11320438235998154\n",
      "epoch: 19\n",
      "Loss value: 0.04037916287779808\n",
      "epoch: 20\n",
      "Loss value: 0.06577863544225693\n",
      "epoch: 20\n",
      "Loss value: 0.08722132444381714\n",
      "epoch: 21\n",
      "Loss value: 0.12129328399896622\n",
      "epoch: 21\n",
      "Loss value: 0.031594567000865936\n",
      "epoch: 22\n",
      "Loss value: 0.11293332278728485\n",
      "epoch: 22\n",
      "Loss value: 0.04047622159123421\n",
      "epoch: 23\n",
      "Loss value: 0.06579908728599548\n",
      "epoch: 23\n",
      "Loss value: 0.08702606707811356\n",
      "epoch: 24\n",
      "Loss value: 0.0864683985710144\n",
      "epoch: 24\n",
      "Loss value: 0.06630270183086395\n",
      "epoch: 25\n",
      "Loss value: 0.1127014309167862\n",
      "epoch: 25\n",
      "Loss value: 0.040535975247621536\n",
      "epoch: 26\n",
      "Loss value: 0.030981427058577538\n",
      "epoch: 26\n",
      "Loss value: 0.12161988019943237\n",
      "epoch: 27\n",
      "Loss value: 0.11256913840770721\n",
      "epoch: 27\n",
      "Loss value: 0.04055413976311684\n",
      "epoch: 28\n",
      "Loss value: 0.08627336472272873\n",
      "epoch: 28\n",
      "Loss value: 0.06626910716295242\n",
      "epoch: 29\n",
      "Loss value: 0.03955185040831566\n",
      "epoch: 29\n",
      "Loss value: 0.11344672739505768\n",
      "epoch: 30\n",
      "Loss value: 0.12108282744884491\n",
      "epoch: 30\n",
      "Loss value: 0.031286947429180145\n",
      "epoch: 31\n",
      "Loss value: 0.06578890234231949\n",
      "epoch: 31\n",
      "Loss value: 0.08657730370759964\n",
      "epoch: 32\n",
      "Loss value: 0.030767155811190605\n",
      "epoch: 32\n",
      "Loss value: 0.12148928642272949\n",
      "epoch: 33\n",
      "Loss value: 0.12102364003658295\n",
      "epoch: 33\n",
      "Loss value: 0.03117361105978489\n",
      "epoch: 34\n",
      "Loss value: 0.08591281622648239\n",
      "epoch: 34\n",
      "Loss value: 0.06628570705652237\n",
      "epoch: 35\n",
      "Loss value: 0.0858677327632904\n",
      "epoch: 35\n",
      "Loss value: 0.06627431511878967\n",
      "epoch: 36\n",
      "Loss value: 0.030651342123746872\n",
      "epoch: 36\n",
      "Loss value: 0.12137780338525772\n",
      "epoch: 37\n",
      "Loss value: 0.03062637522816658\n",
      "epoch: 37\n",
      "Loss value: 0.12134616822004318\n",
      "epoch: 38\n",
      "Loss value: 0.11177966743707657\n",
      "epoch: 38\n",
      "Loss value: 0.04071810469031334\n",
      "epoch: 39\n",
      "Loss value: 0.11173270642757416\n",
      "epoch: 39\n",
      "Loss value: 0.04070889204740524\n",
      "epoch: 40\n",
      "Loss value: 0.039682187139987946\n",
      "epoch: 40\n",
      "Loss value: 0.11269213259220123\n",
      "epoch: 41\n",
      "Loss value: 0.0856010690331459\n",
      "epoch: 41\n",
      "Loss value: 0.0662018284201622\n",
      "epoch: 42\n",
      "Loss value: 0.12074092030525208\n",
      "epoch: 42\n",
      "Loss value: 0.03094719722867012\n",
      "epoch: 43\n",
      "Loss value: 0.03047681227326393\n",
      "epoch: 43\n",
      "Loss value: 0.12115635722875595\n",
      "epoch: 44\n",
      "Loss value: 0.039728522300720215\n",
      "epoch: 44\n",
      "Loss value: 0.11242034286260605\n",
      "epoch: 45\n",
      "Loss value: 0.11133681237697601\n",
      "epoch: 45\n",
      "Loss value: 0.0407659150660038\n",
      "epoch: 46\n",
      "Loss value: 0.06565998494625092\n",
      "epoch: 46\n",
      "Loss value: 0.08585767447948456\n",
      "epoch: 47\n",
      "Loss value: 0.1205977350473404\n",
      "epoch: 47\n",
      "Loss value: 0.030807889997959137\n",
      "epoch: 48\n",
      "Loss value: 0.039772119373083115\n",
      "epoch: 48\n",
      "Loss value: 0.1121513769030571\n",
      "epoch: 49\n",
      "Loss value: 0.12055139243602753\n",
      "epoch: 49\n",
      "Loss value: 0.030741306021809578\n"
     ]
    }
   ],
   "source": [
    "### training loop\n",
    "loss_history = []\n",
    "for _ in range(50):\n",
    "    for data in dl:\n",
    "        print(f\"epoch: {_}\")\n",
    "        x,y = data\n",
    "        optimizer.zero_grad()\n",
    "        loss_value = loss_fun(model(x), y)\n",
    "        loss_value.backward()\n",
    "        optimizer.step()\n",
    "        loss_history.append(loss_value)\n",
    "        print(f\"Loss value: {loss_value}\")        "
   ]
  },
  {
   "cell_type": "code",
   "execution_count": 252,
   "metadata": {},
   "outputs": [],
   "source": [
    "loss_history = [float(loss) for loss in loss_history]"
   ]
  },
  {
   "cell_type": "code",
   "execution_count": 253,
   "metadata": {},
   "outputs": [
    {
     "data": {
      "image/png": "[encoded data removed]",
      "text/plain": [
       "<Figure size 432x288 with 1 Axes>"
      ]
     },
     "metadata": {
      "needs_background": "light"
     },
     "output_type": "display_data"
    }
   ],
   "source": [
    "### Plotting the loss values\n",
    "\n",
    "import matplotlib.pyplot as plt\n",
    "%matplotlib inline\n",
    "plt.plot(loss_history)\n",
    "plt.show()"
   ]
  },
  {
   "cell_type": "code",
   "execution_count": 249,
   "metadata": {},
   "outputs": [],
   "source": [
    "new_val = [[1,2]]\n"
   ]
  },
  {
   "cell_type": "code",
   "execution_count": 250,
   "metadata": {},
   "outputs": [],
   "source": [
    "new_val = torch.tensor(new_val).float().to(device)"
   ]
  },
  {
   "cell_type": "code",
   "execution_count": 251,
   "metadata": {},
   "outputs": [
    {
     "data": {
      "text/plain": [
       "tensor([[3.4073]], device='cuda:0', grad_fn=<AddmmBackward0>)"
      ]
     },
     "execution_count": 251,
     "metadata": {},
     "output_type": "execute_result"
    }
   ],
   "source": [
    "model(new_val)"
   ]
  },
  {
   "attachments": {},
   "cell_type": "markdown",
   "metadata": {},
   "source": [
    "# Custom Loss Function  :  Useful in situations where we want customized loss fn like GANs"
   ]
  },
  {
   "cell_type": "code",
   "execution_count": 254,
   "metadata": {},
   "outputs": [],
   "source": [
    "def custom_mse_func(_y, y):\n",
    "    loss = (_y - y ) **2\n",
    "    loss = loss.mean()\n",
    "    return loss"
   ]
  },
  {
   "cell_type": "code",
   "execution_count": 257,
   "metadata": {},
   "outputs": [
    {
     "data": {
      "text/plain": [
       "tensor([[7.],\n",
       "        [5.]], device='cuda:0')"
      ]
     },
     "execution_count": 257,
     "metadata": {},
     "output_type": "execute_result"
    }
   ],
   "source": [
    "y"
   ]
  },
  {
   "cell_type": "code",
   "execution_count": 262,
   "metadata": {},
   "outputs": [],
   "source": [
    "_y = model(x)"
   ]
  },
  {
   "cell_type": "code",
   "execution_count": 261,
   "metadata": {},
   "outputs": [
    {
     "data": {
      "text/plain": [
       "tensor([[3., 4.],\n",
       "        [2., 3.]], device='cuda:0')"
      ]
     },
     "execution_count": 261,
     "metadata": {},
     "output_type": "execute_result"
    }
   ],
   "source": [
    "x"
   ]
  },
  {
   "cell_type": "code",
   "execution_count": 263,
   "metadata": {},
   "outputs": [
    {
     "data": {
      "text/plain": [
       "tensor([[7.0665],\n",
       "        [5.2369]], device='cuda:0', grad_fn=<AddmmBackward0>)"
      ]
     },
     "execution_count": 263,
     "metadata": {},
     "output_type": "execute_result"
    }
   ],
   "source": [
    "_y"
   ]
  },
  {
   "cell_type": "code",
   "execution_count": 264,
   "metadata": {},
   "outputs": [
    {
     "data": {
      "text/plain": [
       "tensor(0.0303, device='cuda:0', grad_fn=<MeanBackward0>)"
      ]
     },
     "execution_count": 264,
     "metadata": {},
     "output_type": "execute_result"
    }
   ],
   "source": [
    "custom_mse_func(_y,y)"
   ]
  },
  {
   "attachments": {},
   "cell_type": "markdown",
   "metadata": {},
   "source": [
    "# Fetching intermediate layer values: Can directly call them with the help of model object"
   ]
  },
  {
   "cell_type": "code",
   "execution_count": 266,
   "metadata": {},
   "outputs": [
    {
     "data": {
      "text/plain": [
       "tensor([[-0.4511, -1.5500, -0.2330,  4.0927,  4.1357,  1.9113,  4.3212, -1.3065],\n",
       "        [-0.3969, -1.0448, -0.3420,  3.1018,  2.9249,  1.2430,  3.1969, -0.9820]],\n",
       "       device='cuda:0', grad_fn=<AddmmBackward0>)"
      ]
     },
     "execution_count": 266,
     "metadata": {},
     "output_type": "execute_result"
    }
   ],
   "source": [
    "model.layer1(x)"
   ]
  },
  {
   "cell_type": "code",
   "execution_count": 268,
   "metadata": {},
   "outputs": [
    {
     "data": {
      "text/plain": [
       "tensor([[0.0000, 0.0000, 0.0000, 4.0927, 4.1357, 1.9113, 4.3212, 0.0000],\n",
       "        [0.0000, 0.0000, 0.0000, 3.1018, 2.9249, 1.2430, 3.1969, 0.0000]],\n",
       "       device='cuda:0', grad_fn=<ReluBackward0>)"
      ]
     },
     "execution_count": 268,
     "metadata": {},
     "output_type": "execute_result"
    }
   ],
   "source": [
    "model.layer1_activation(model.layer1(x))"
   ]
  },
  {
   "cell_type": "code",
   "execution_count": 269,
   "metadata": {},
   "outputs": [],
   "source": [
    "# Can return the layer from forward method as well"
   ]
  },
  {
   "cell_type": "code",
   "execution_count": 270,
   "metadata": {},
   "outputs": [],
   "source": [
    "class MyNeuralNetwork(nn.Module):\n",
    "    def __init__(self) -> None:\n",
    "        super().__init__()\n",
    "        ### define layers of model\n",
    "        \n",
    "        self.layer1 = nn.Linear(2, 8)\n",
    "        self.layer1_activation = nn.ReLU()\n",
    "        self.layer2 = nn.Linear(8,1)\n",
    "        \n",
    "    def forward(self, X):\n",
    "        ### method reserved for forward propogation. We can connect all layers here\n",
    "        X = self.layer1(X)\n",
    "        X = self.layer1_activation(X)\n",
    "        X = self.layer2(X)\n",
    "        return X, self.layer1   ##### returning from here\n",
    "        \n",
    "        "
   ]
  },
  {
   "cell_type": "code",
   "execution_count": 274,
   "metadata": {},
   "outputs": [],
   "source": [
    "model_1 = MyNeuralNetwork().to(device)"
   ]
  },
  {
   "cell_type": "code",
   "execution_count": 276,
   "metadata": {},
   "outputs": [
    {
     "data": {
      "text/plain": [
       "Linear(in_features=2, out_features=8, bias=True)"
      ]
     },
     "execution_count": 276,
     "metadata": {},
     "output_type": "execute_result"
    }
   ],
   "source": [
    "model_1(x)[1]  "
   ]
  },
  {
   "attachments": {},
   "cell_type": "markdown",
   "metadata": {},
   "source": [
    "# sequential method to build neural networks"
   ]
  },
  {
   "cell_type": "code",
   "execution_count": 279,
   "metadata": {},
   "outputs": [
    {
     "name": "stdout",
     "output_type": "stream",
     "text": [
      "\u001b[1;31mInit signature:\u001b[0m \u001b[0mnn\u001b[0m\u001b[1;33m.\u001b[0m\u001b[0mSequential\u001b[0m\u001b[1;33m(\u001b[0m\u001b[1;33m*\u001b[0m\u001b[0margs\u001b[0m\u001b[1;33m)\u001b[0m\u001b[1;33m\u001b[0m\u001b[1;33m\u001b[0m\u001b[0m\n",
      "\u001b[1;31mDocstring:\u001b[0m     \n",
      "A sequential container.\n",
      "Modules will be added to it in the order they are passed in the\n",
      "constructor. Alternatively, an ``OrderedDict`` of modules can be\n",
      "passed in. The ``forward()`` method of ``Sequential`` accepts any\n",
      "input and forwards it to the first module it contains. It then\n",
      "\"chains\" outputs to inputs sequentially for each subsequent module,\n",
      "finally returning the output of the last module.\n",
      "\n",
      "The value a ``Sequential`` provides over manually calling a sequence\n",
      "of modules is that it allows treating the whole container as a\n",
      "single module, such that performing a transformation on the\n",
      "``Sequential`` applies to each of the modules it stores (which are\n",
      "each a registered submodule of the ``Sequential``).\n",
      "\n",
      "What's the difference between a ``Sequential`` and a\n",
      ":class:`torch.nn.ModuleList`? A ``ModuleList`` is exactly what it\n",
      "sounds like--a list for storing ``Module`` s! On the other hand,\n",
      "the layers in a ``Sequential`` are connected in a cascading way.\n",
      "\n",
      "Example::\n",
      "\n",
      "    # Using Sequential to create a small model. When `model` is run,\n",
      "    # input will first be passed to `Conv2d(1,20,5)`. The output of\n",
      "    # `Conv2d(1,20,5)` will be used as the input to the first\n",
      "    # `ReLU`; the output of the first `ReLU` will become the input\n",
      "    # for `Conv2d(20,64,5)`. Finally, the output of\n",
      "    # `Conv2d(20,64,5)` will be used as input to the second `ReLU`\n",
      "    model = nn.Sequential(\n",
      "              nn.Conv2d(1,20,5),\n",
      "              nn.ReLU(),\n",
      "              nn.Conv2d(20,64,5),\n",
      "              nn.ReLU()\n",
      "            )\n",
      "\n",
      "    # Using Sequential with OrderedDict. This is functionally the\n",
      "    # same as the above code\n",
      "    model = nn.Sequential(OrderedDict([\n",
      "              ('conv1', nn.Conv2d(1,20,5)),\n",
      "              ('relu1', nn.ReLU()),\n",
      "              ('conv2', nn.Conv2d(20,64,5)),\n",
      "              ('relu2', nn.ReLU())\n",
      "            ]))\n",
      "\u001b[1;31mInit docstring:\u001b[0m Initializes internal Module state, shared by both nn.Module and ScriptModule.\n",
      "\u001b[1;31mFile:\u001b[0m           c:\\users\\rachi\\anaconda3\\lib\\site-packages\\torch\\nn\\modules\\container.py\n",
      "\u001b[1;31mType:\u001b[0m           type\n",
      "\u001b[1;31mSubclasses:\u001b[0m     _FusedModule\n"
     ]
    }
   ],
   "source": [
    "nn.Sequential?"
   ]
  },
  {
   "cell_type": "code",
   "execution_count": 316,
   "metadata": {},
   "outputs": [],
   "source": [
    "model_sequential = nn.Sequential(\n",
    "    nn.Linear(2,8),\n",
    "    nn.ReLU(),\n",
    "    nn.Linear(8,1)\n",
    ").to(device)"
   ]
  },
  {
   "cell_type": "code",
   "execution_count": 317,
   "metadata": {},
   "outputs": [],
   "source": [
    "from torchsummary import summary"
   ]
  },
  {
   "cell_type": "code",
   "execution_count": 318,
   "metadata": {},
   "outputs": [
    {
     "name": "stdout",
     "output_type": "stream",
     "text": [
      "==========================================================================================\n",
      "Layer (type:depth-idx)                   Output Shape              Param #\n",
      "==========================================================================================\n",
      "├─Linear: 1-1                            [-1, 8]                   24\n",
      "├─ReLU: 1-2                              [-1, 8]                   --\n",
      "├─Linear: 1-3                            [-1, 1]                   9\n",
      "==========================================================================================\n",
      "Total params: 33\n",
      "Trainable params: 33\n",
      "Non-trainable params: 0\n",
      "Total mult-adds (M): 0.00\n",
      "==========================================================================================\n",
      "Input size (MB): 0.00\n",
      "Forward/backward pass size (MB): 0.00\n",
      "Params size (MB): 0.00\n",
      "Estimated Total Size (MB): 0.00\n",
      "==========================================================================================\n"
     ]
    },
    {
     "data": {
      "text/plain": [
       "==========================================================================================\n",
       "Layer (type:depth-idx)                   Output Shape              Param #\n",
       "==========================================================================================\n",
       "├─Linear: 1-1                            [-1, 8]                   24\n",
       "├─ReLU: 1-2                              [-1, 8]                   --\n",
       "├─Linear: 1-3                            [-1, 1]                   9\n",
       "==========================================================================================\n",
       "Total params: 33\n",
       "Trainable params: 33\n",
       "Non-trainable params: 0\n",
       "Total mult-adds (M): 0.00\n",
       "==========================================================================================\n",
       "Input size (MB): 0.00\n",
       "Forward/backward pass size (MB): 0.00\n",
       "Params size (MB): 0.00\n",
       "Estimated Total Size (MB): 0.00\n",
       "=========================================================================================="
      ]
     },
     "execution_count": 318,
     "metadata": {},
     "output_type": "execute_result"
    }
   ],
   "source": [
    "summary(model_sequential, x)"
   ]
  },
  {
   "cell_type": "code",
   "execution_count": 319,
   "metadata": {},
   "outputs": [],
   "source": [
    "### training sequential model\n",
    "loss_func = nn.MSELoss()\n",
    "optimizer = torch.optim.SGD(model_sequential.parameters(), lr = 0.001)\n",
    "    "
   ]
  },
  {
   "cell_type": "code",
   "execution_count": 320,
   "metadata": {},
   "outputs": [
    {
     "name": "stdout",
     "output_type": "stream",
     "text": [
      "epoch: 0\n",
      "loss: 24.067731857299805\n",
      "epoch: 0\n",
      "loss: 5.024069786071777\n",
      "epoch: 1\n",
      "loss: 21.685775756835938\n",
      "epoch: 1\n",
      "loss: 4.5116682052612305\n",
      "epoch: 2\n",
      "loss: 19.52376365661621\n",
      "epoch: 2\n",
      "loss: 4.041593074798584\n",
      "epoch: 3\n",
      "loss: 6.359969139099121\n",
      "epoch: 3\n",
      "loss: 14.630585670471191\n",
      "epoch: 4\n",
      "loss: 15.658358573913574\n",
      "epoch: 4\n",
      "loss: 3.197967767715454\n",
      "epoch: 5\n",
      "loss: 3.1212258338928223\n",
      "epoch: 5\n",
      "loss: 13.592199325561523\n",
      "epoch: 6\n",
      "loss: 10.561674118041992\n",
      "epoch: 6\n",
      "loss: 4.028257369995117\n",
      "epoch: 7\n",
      "loss: 4.851878643035889\n",
      "epoch: 7\n",
      "loss: 7.819722652435303\n",
      "epoch: 8\n",
      "loss: 9.2512845993042\n",
      "epoch: 8\n",
      "loss: 1.8373770713806152\n",
      "epoch: 9\n",
      "loss: 7.920778274536133\n",
      "epoch: 9\n",
      "loss: 1.5678603649139404\n",
      "epoch: 10\n",
      "loss: 3.0427539348602295\n",
      "epoch: 10\n",
      "loss: 4.875150680541992\n",
      "epoch: 11\n",
      "loss: 4.364019393920898\n",
      "epoch: 11\n",
      "loss: 2.281775712966919\n",
      "epoch: 12\n",
      "loss: 2.1316778659820557\n",
      "epoch: 12\n",
      "loss: 3.3954904079437256\n",
      "epoch: 13\n",
      "loss: 3.0054092407226562\n",
      "epoch: 13\n",
      "loss: 1.561039686203003\n",
      "epoch: 14\n",
      "loss: 1.1856625080108643\n",
      "epoch: 14\n",
      "loss: 2.582599401473999\n",
      "epoch: 15\n",
      "loss: 2.0143938064575195\n",
      "epoch: 15\n",
      "loss: 1.0530409812927246\n",
      "epoch: 16\n",
      "loss: 1.8070998191833496\n",
      "epoch: 16\n",
      "loss: 0.716301679611206\n",
      "epoch: 17\n",
      "loss: 1.3372838497161865\n",
      "epoch: 17\n",
      "loss: 0.7186732888221741\n",
      "epoch: 18\n",
      "loss: 1.353316307067871\n",
      "epoch: 18\n",
      "loss: 0.37398549914360046\n",
      "epoch: 19\n",
      "loss: 0.5665080547332764\n",
      "epoch: 19\n",
      "loss: 0.8414452075958252\n",
      "epoch: 20\n",
      "loss: 0.8981379270553589\n",
      "epoch: 20\n",
      "loss: 0.3101973235607147\n",
      "epoch: 21\n",
      "loss: 0.3807615637779236\n",
      "epoch: 21\n",
      "loss: 0.6397824883460999\n",
      "epoch: 22\n",
      "loss: 0.6230380535125732\n",
      "epoch: 22\n",
      "loss: 0.2765347957611084\n",
      "epoch: 23\n",
      "loss: 0.2751595973968506\n",
      "epoch: 23\n",
      "loss: 0.5226551294326782\n",
      "epoch: 24\n",
      "loss: 0.42984259128570557\n",
      "epoch: 24\n",
      "loss: 0.28699928522109985\n",
      "epoch: 25\n",
      "loss: 0.25992637872695923\n",
      "epoch: 25\n",
      "loss: 0.40621504187583923\n",
      "epoch: 26\n",
      "loss: 0.2559761703014374\n",
      "epoch: 26\n",
      "loss: 0.36813727021217346\n",
      "epoch: 27\n",
      "loss: 0.26706424355506897\n",
      "epoch: 27\n",
      "loss: 0.32351386547088623\n",
      "epoch: 28\n",
      "loss: 0.30805301666259766\n",
      "epoch: 28\n",
      "loss: 0.26022815704345703\n",
      "epoch: 29\n",
      "loss: 0.29610350728034973\n",
      "epoch: 29\n",
      "loss: 0.25673943758010864\n",
      "epoch: 30\n",
      "loss: 0.2560712695121765\n",
      "epoch: 30\n",
      "loss: 0.28536367416381836\n",
      "epoch: 31\n",
      "loss: 0.28034859895706177\n",
      "epoch: 31\n",
      "loss: 0.2528419494628906\n",
      "epoch: 32\n",
      "loss: 0.2550341486930847\n",
      "epoch: 32\n",
      "loss: 0.2724413275718689\n",
      "epoch: 33\n",
      "loss: 0.2686290442943573\n",
      "epoch: 33\n",
      "loss: 0.2544094920158386\n",
      "epoch: 34\n",
      "loss: 0.25440096855163574\n",
      "epoch: 34\n",
      "loss: 0.2654111087322235\n",
      "epoch: 35\n",
      "loss: 0.26343125104904175\n",
      "epoch: 35\n",
      "loss: 0.2546473443508148\n",
      "epoch: 36\n",
      "loss: 0.2612066864967346\n",
      "epoch: 36\n",
      "loss: 0.2551257014274597\n",
      "epoch: 37\n",
      "loss: 0.2549120783805847\n",
      "epoch: 37\n",
      "loss: 0.26012513041496277\n",
      "epoch: 38\n",
      "loss: 0.26249492168426514\n",
      "epoch: 38\n",
      "loss: 0.25102299451828003\n",
      "epoch: 39\n",
      "loss: 0.2548123002052307\n",
      "epoch: 39\n",
      "loss: 0.2581688165664673\n",
      "epoch: 40\n",
      "loss: 0.2560428977012634\n",
      "epoch: 40\n",
      "loss: 0.2567925453186035\n",
      "epoch: 41\n",
      "loss: 0.2606412172317505\n",
      "epoch: 41\n",
      "loss: 0.25139564275741577\n",
      "epoch: 42\n",
      "loss: 0.2513299286365509\n",
      "epoch: 42\n",
      "loss: 0.26046162843704224\n",
      "epoch: 43\n",
      "loss: 0.25143539905548096\n",
      "epoch: 43\n",
      "loss: 0.26015403866767883\n",
      "epoch: 44\n",
      "loss: 0.25545644760131836\n",
      "epoch: 44\n",
      "loss: 0.2560267150402069\n",
      "epoch: 45\n",
      "loss: 0.25710976123809814\n",
      "epoch: 45\n",
      "loss: 0.25450626015663147\n",
      "epoch: 46\n",
      "loss: 0.2553991675376892\n",
      "epoch: 46\n",
      "loss: 0.25584495067596436\n",
      "epoch: 47\n",
      "loss: 0.2592124342918396\n",
      "epoch: 47\n",
      "loss: 0.2519238591194153\n",
      "epoch: 48\n",
      "loss: 0.2557032108306885\n",
      "epoch: 48\n",
      "loss: 0.25540655851364136\n",
      "epoch: 49\n",
      "loss: 0.2557515501976013\n",
      "epoch: 49\n",
      "loss: 0.2552909851074219\n"
     ]
    }
   ],
   "source": [
    "loss_history = []\n",
    "for _ in range(50):\n",
    "    for data in dl:\n",
    "        x,y =data\n",
    "        \n",
    "        print(f\"epoch: {_}\")\n",
    "        \n",
    "        optimizer.zero_grad()\n",
    "        loss_value = loss_func(model_sequential(x),x)\n",
    "        loss_value.backward()\n",
    "        optimizer.step()\n",
    "        \n",
    "        print(f\"loss: {loss_value}\")\n",
    "        loss_history.append(loss_value)\n",
    "        "
   ]
  },
  {
   "cell_type": "code",
   "execution_count": 321,
   "metadata": {},
   "outputs": [
    {
     "data": {
      "text/plain": [
       "tensor([[5.4201],\n",
       "        [2.5601]], device='cuda:0', grad_fn=<AddmmBackward0>)"
      ]
     },
     "execution_count": 321,
     "metadata": {},
     "output_type": "execute_result"
    }
   ],
   "source": [
    "model_sequential(x)"
   ]
  },
  {
   "cell_type": "code",
   "execution_count": 322,
   "metadata": {},
   "outputs": [
    {
     "data": {
      "text/plain": [
       "tensor([[5., 6.],\n",
       "        [2., 3.]], device='cuda:0')"
      ]
     },
     "execution_count": 322,
     "metadata": {},
     "output_type": "execute_result"
    }
   ],
   "source": [
    "x"
   ]
  },
  {
   "attachments": {},
   "cell_type": "markdown",
   "metadata": {},
   "source": [
    "# Saving and loading models"
   ]
  },
  {
   "cell_type": "code",
   "execution_count": 349,
   "metadata": {},
   "outputs": [
    {
     "data": {
      "text/plain": [
       "OrderedDict([('0.weight',\n",
       "              tensor([[-0.0018, -0.0347],\n",
       "                      [-0.4941, -0.1052],\n",
       "                      [-0.3071,  0.8074],\n",
       "                      [-0.6020, -0.6607],\n",
       "                      [-0.4079, -0.5170],\n",
       "                      [ 0.5525, -0.4582],\n",
       "                      [ 0.4444,  0.4705],\n",
       "                      [ 0.1087,  0.7295]], device='cuda:0')),\n",
       "             ('0.bias',\n",
       "              tensor([-0.3032, -0.4335, -0.5587,  0.0798,  0.4355, -0.2290, -0.6710,  0.5503],\n",
       "                     device='cuda:0')),\n",
       "             ('2.weight',\n",
       "              tensor([[-0.0618, -0.1212,  0.3796, -0.0308, -0.2466,  0.1482,  0.3440,  0.5353]],\n",
       "                     device='cuda:0')),\n",
       "             ('2.bias', tensor([-0.0571], device='cuda:0'))])"
      ]
     },
     "execution_count": 349,
     "metadata": {},
     "output_type": "execute_result"
    }
   ],
   "source": [
    "model_sequential.state_dict()"
   ]
  },
  {
   "cell_type": "code",
   "execution_count": 350,
   "metadata": {},
   "outputs": [],
   "source": [
    "## state dict :  keys: layers, values: weights associated with these layers"
   ]
  },
  {
   "cell_type": "code",
   "execution_count": 351,
   "metadata": {},
   "outputs": [],
   "source": [
    "## Can use torch.save method to save models. Also make sure to convert model to a cpu tensor so that it can run on any device"
   ]
  },
  {
   "attachments": {},
   "cell_type": "markdown",
   "metadata": {},
   "source": [
    "#### Can use torch.save method to save models. Also make sure to convert model to a cpu tensor so that it can run on any device"
   ]
  },
  {
   "cell_type": "code",
   "execution_count": 352,
   "metadata": {},
   "outputs": [],
   "source": [
    "import os"
   ]
  },
  {
   "cell_type": "code",
   "execution_count": 353,
   "metadata": {},
   "outputs": [],
   "source": [
    "os.makedirs(\"1\", exist_ok=True)"
   ]
  },
  {
   "cell_type": "code",
   "execution_count": 354,
   "metadata": {},
   "outputs": [],
   "source": [
    "path = os.path.join(\"1\", \"model.pth\")"
   ]
  },
  {
   "cell_type": "code",
   "execution_count": null,
   "metadata": {},
   "outputs": [],
   "source": []
  },
  {
   "cell_type": "code",
   "execution_count": 361,
   "metadata": {},
   "outputs": [],
   "source": [
    "torch.save(model.to(\"cpu\").state_dict(), path)"
   ]
  },
  {
   "attachments": {},
   "cell_type": "markdown",
   "metadata": {},
   "source": [
    "### Loading the model"
   ]
  },
  {
   "cell_type": "code",
   "execution_count": 364,
   "metadata": {},
   "outputs": [],
   "source": [
    "### Before loading we should have definition of model also present\n",
    "\n",
    "state_dict = torch.load(path)"
   ]
  },
  {
   "cell_type": "code",
   "execution_count": 366,
   "metadata": {},
   "outputs": [
    {
     "data": {
      "text/plain": [
       "OrderedDict([('layer1.weight',\n",
       "              tensor([[ 0.0736, -0.1277],\n",
       "                      [-0.3793, -0.1259],\n",
       "                      [ 0.3576, -0.2486],\n",
       "                      [ 0.5536,  0.4373],\n",
       "                      [ 0.5753,  0.6355],\n",
       "                      [ 0.4493,  0.2189],\n",
       "                      [ 0.2706,  0.8536],\n",
       "                      [-0.2755, -0.0490]])),\n",
       "             ('layer1.bias',\n",
       "              tensor([-0.1609,  0.0914, -0.3112,  0.6828, -0.1322, -0.3123,  0.0948, -0.2840])),\n",
       "             ('layer2.weight',\n",
       "              tensor([[ 0.2589,  0.1275, -0.2879,  0.3094,  0.5195,  0.2698,  0.6349, -0.2537]])),\n",
       "             ('layer2.bias', tensor([0.3926]))])"
      ]
     },
     "execution_count": 366,
     "metadata": {},
     "output_type": "execute_result"
    }
   ],
   "source": [
    "state_dict"
   ]
  },
  {
   "cell_type": "code",
   "execution_count": 368,
   "metadata": {},
   "outputs": [],
   "source": [
    "model_loaded = MyNeuralNetwork().load_state_dict(state_dict=state_dict)  ### need to call this on object of model class"
   ]
  },
  {
   "cell_type": "code",
   "execution_count": 369,
   "metadata": {},
   "outputs": [
    {
     "data": {
      "text/plain": [
       "<All keys matched successfully>"
      ]
     },
     "execution_count": 369,
     "metadata": {},
     "output_type": "execute_result"
    }
   ],
   "source": [
    "model_loaded"
   ]
  },
  {
   "cell_type": "code",
   "execution_count": null,
   "metadata": {},
   "outputs": [],
   "source": []
  }
 ],
 "metadata": {
  "kernelspec": {
   "display_name": "Python 3.8.8 ('base')",
   "language": "python",
   "name": "python3"
  },
  "language_info": {
   "codemirror_mode": {
    "name": "ipython",
    "version": 3
   },
   "file_extension": ".py",
   "mimetype": "text/x-python",
   "name": "python",
   "nbconvert_exporter": "python",
   "pygments_lexer": "ipython3",
   "version": "3.8.8"
  },
  "orig_nbformat": 4,
  "vscode": {
   "interpreter": {
    "hash": "d9d52e4e42d889ef44fdd960ad7523bff2f529da33eef29f47a98bbc470680c4"
   }
  }
 },
 "nbformat": 4,
 "nbformat_minor": 2
}
