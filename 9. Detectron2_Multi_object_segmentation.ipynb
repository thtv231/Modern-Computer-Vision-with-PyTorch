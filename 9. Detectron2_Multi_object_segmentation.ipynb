{
  "cells": [
    {
      "cell_type": "code",
      "execution_count": null,
      "metadata": {
        "colab": {
          "base_uri": "https://localhost:8080/"
        },
        "id": "AY24qov3UgYO",
        "outputId": "cdd4283d-10f4-4aa8-eb75-d59bdb670ecb"
      },
      "outputs": [
        {
          "name": "stdout",
          "output_type": "stream",
          "text": [
            "\u001b[2K     \u001b[90m━━━━━━━━━━━━━━━━━━━━━━━━━━━━━━━━━━━━━━━━\u001b[0m \u001b[32m55.0/55.0 KB\u001b[0m \u001b[31m2.1 MB/s\u001b[0m eta \u001b[36m0:00:00\u001b[0m\n",
            "\u001b[2K     \u001b[90m━━━━━━━━━━━━━━━━━━━━━━━━━━━━━━━━━━━━━━━\u001b[0m \u001b[32m132.7/132.7 KB\u001b[0m \u001b[31m3.2 MB/s\u001b[0m eta \u001b[36m0:00:00\u001b[0m\n",
            "\u001b[?25h  Preparing metadata (setup.py) ... \u001b[?25l\u001b[?25hdone\n",
            "\u001b[2K     \u001b[90m━━━━━━━━━━━━━━━━━━━━━━━━━━━━━━━━━━━━━━━━\u001b[0m \u001b[32m58.3/58.3 KB\u001b[0m \u001b[31m3.2 MB/s\u001b[0m eta \u001b[36m0:00:00\u001b[0m\n",
            "\u001b[2K     \u001b[90m━━━━━━━━━━━━━━━━━━━━━━━━━━━━━━━━━━━━━━━\u001b[0m \u001b[32m239.0/239.0 KB\u001b[0m \u001b[31m8.1 MB/s\u001b[0m eta \u001b[36m0:00:00\u001b[0m\n",
            "\u001b[2K     \u001b[90m━━━━━━━━━━━━━━━━━━━━━━━━━━━━━━━━━━━━━━━\u001b[0m \u001b[32m202.2/202.2 KB\u001b[0m \u001b[31m7.6 MB/s\u001b[0m eta \u001b[36m0:00:00\u001b[0m\n",
            "\u001b[2K     \u001b[90m━━━━━━━━━━━━━━━━━━━━━━━━━━━━━━━━━━━━━━━━\u001b[0m \u001b[32m78.6/78.6 KB\u001b[0m \u001b[31m7.3 MB/s\u001b[0m eta \u001b[36m0:00:00\u001b[0m\n",
            "\u001b[?25h  Preparing metadata (setup.py) ... \u001b[?25l\u001b[?25hdone\n",
            "\u001b[2K     \u001b[90m━━━━━━━━━━━━━━━━━━━━━━━━━━━━━━━━━━━━━━━━\u001b[0m \u001b[32m10.4/10.4 MB\u001b[0m \u001b[31m45.6 MB/s\u001b[0m eta \u001b[36m0:00:00\u001b[0m\n",
            "\u001b[2K     \u001b[90m━━━━━━━━━━━━━━━━━━━━━━━━━━━━━━━━━━━━━━━━\u001b[0m \u001b[32m79.6/79.6 KB\u001b[0m \u001b[31m10.0 MB/s\u001b[0m eta \u001b[36m0:00:00\u001b[0m\n",
            "\u001b[2K     \u001b[90m━━━━━━━━━━━━━━━━━━━━━━━━━━━━━━━━━━━━━━━━\u001b[0m \u001b[32m1.6/1.6 MB\u001b[0m \u001b[31m77.5 MB/s\u001b[0m eta \u001b[36m0:00:00\u001b[0m\n",
            "\u001b[2K     \u001b[90m━━━━━━━━━━━━━━━━━━━━━━━━━━━━━━━━━━━━━━━━\u001b[0m \u001b[32m98.8/98.8 KB\u001b[0m \u001b[31m10.3 MB/s\u001b[0m eta \u001b[36m0:00:00\u001b[0m\n",
            "\u001b[2K     \u001b[90m━━━━━━━━━━━━━━━━━━━━━━━━━━━━━━━━━━━━━━━━\u001b[0m \u001b[32m8.7/8.7 MB\u001b[0m \u001b[31m115.0 MB/s\u001b[0m eta \u001b[36m0:00:00\u001b[0m\n",
            "\u001b[2K     \u001b[90m━━━━━━━━━━━━━━━━━━━━━━━━━━━━━━━━━━━━━━\u001b[0m \u001b[32m174.0/174.0 KB\u001b[0m \u001b[31m22.8 MB/s\u001b[0m eta \u001b[36m0:00:00\u001b[0m\n",
            "\u001b[2K     \u001b[90m━━━━━━━━━━━━━━━━━━━━━━━━━━━━━━━━━━━━━━━━\u001b[0m \u001b[32m2.2/2.2 MB\u001b[0m \u001b[31m93.5 MB/s\u001b[0m eta \u001b[36m0:00:00\u001b[0m\n",
            "\u001b[2K     \u001b[90m━━━━━━━━━━━━━━━━━━━━━━━━━━━━━━━━━━━━━━━━\u001b[0m \u001b[32m1.1/1.1 MB\u001b[0m \u001b[31m76.9 MB/s\u001b[0m eta \u001b[36m0:00:00\u001b[0m\n",
            "\u001b[2K     \u001b[90m━━━━━━━━━━━━━━━━━━━━━━━━━━━━━━━━━━━━━━━━\u001b[0m \u001b[32m84.5/84.5 KB\u001b[0m \u001b[31m11.2 MB/s\u001b[0m eta \u001b[36m0:00:00\u001b[0m\n",
            "\u001b[2K     \u001b[90m━━━━━━━━━━━━━━━━━━━━━━━━━━━━━━━━━━━━━━\u001b[0m \u001b[32m140.6/140.6 KB\u001b[0m \u001b[31m12.7 MB/s\u001b[0m eta \u001b[36m0:00:00\u001b[0m\n",
            "\u001b[2K     \u001b[90m━━━━━━━━━━━━━━━━━━━━━━━━━━━━━━━━━━━━━━\u001b[0m \u001b[32m468.5/468.5 KB\u001b[0m \u001b[31m50.0 MB/s\u001b[0m eta \u001b[36m0:00:00\u001b[0m\n",
            "\u001b[?25h  Building wheel for sklearn (setup.py) ... \u001b[?25l\u001b[?25hdone\n",
            "  Building wheel for typing (setup.py) ... \u001b[?25l\u001b[?25hdone\n"
          ]
        }
      ],
      "source": [
        "\n",
        "!pip install -qU openimages torch_snippets"
      ]
    },
    {
      "cell_type": "code",
      "execution_count": null,
      "metadata": {
        "id": "q2emQQ2pwjP4"
      },
      "outputs": [],
      "source": [
        "from torch_snippets import *"
      ]
    },
    {
      "cell_type": "code",
      "execution_count": null,
      "metadata": {
        "id": "XxUQA29Y2Yjn"
      },
      "outputs": [],
      "source": [
        "from zipfile import ZipFile"
      ]
    },
    {
      "cell_type": "code",
      "execution_count": null,
      "metadata": {
        "id": "KhlWbnbyw7Dv"
      },
      "outputs": [],
      "source": [
        "!wget -O train-annotations-object-segmentation.csv -q https://storage.googleapis.com/openimages/v5/train-annotations-object-segmentation.csv"
      ]
    },
    {
      "cell_type": "code",
      "execution_count": null,
      "metadata": {
        "id": "2pi5lVMBw8MV"
      },
      "outputs": [],
      "source": [
        "!wget -O classes.csv -q https://raw.githubusercontent.com/openimages/dataset/master/dict.csv "
      ]
    },
    {
      "cell_type": "code",
      "execution_count": null,
      "metadata": {
        "id": "72IbbTPrxMyo"
      },
      "outputs": [],
      "source": []
    },
    {
      "cell_type": "code",
      "execution_count": null,
      "metadata": {
        "id": "Wq3se10oxU6X"
      },
      "outputs": [],
      "source": [
        "from torch_snippets import *"
      ]
    },
    {
      "cell_type": "code",
      "execution_count": null,
      "metadata": {
        "id": "x9eO82r9x1JS"
      },
      "outputs": [],
      "source": [
        "required_classes = 'person,dog,bird,car,elephant,football,jug,laptop,Mushroom,Pizza,Rocket,Shirt,Traffic sign,Watermelon,Zebra'\n",
        "required_classes = [c.lower() for c in required_classes.lower().split(',')]"
      ]
    },
    {
      "cell_type": "code",
      "execution_count": null,
      "metadata": {
        "colab": {
          "base_uri": "https://localhost:8080/"
        },
        "id": "9c9vpph5x7VJ",
        "outputId": "d99ab391-6721-48ee-b14d-109136906512"
      },
      "outputs": [
        {
          "data": {
            "text/plain": [
              "['person',\n",
              " 'dog',\n",
              " 'bird',\n",
              " 'car',\n",
              " 'elephant',\n",
              " 'football',\n",
              " 'jug',\n",
              " 'laptop',\n",
              " 'mushroom',\n",
              " 'pizza',\n",
              " 'rocket',\n",
              " 'shirt',\n",
              " 'traffic sign',\n",
              " 'watermelon',\n",
              " 'zebra']"
            ]
          },
          "execution_count": 8,
          "metadata": {},
          "output_type": "execute_result"
        }
      ],
      "source": [
        "required_classes"
      ]
    },
    {
      "cell_type": "code",
      "execution_count": null,
      "metadata": {
        "id": "k8m95pyGx94M"
      },
      "outputs": [],
      "source": [
        "classes = pd.read_csv('classes.csv', header=None)"
      ]
    },
    {
      "cell_type": "code",
      "execution_count": null,
      "metadata": {
        "colab": {
          "base_uri": "https://localhost:8080/",
          "height": 81
        },
        "id": "hNwiKjCtyK5s",
        "outputId": "14dd0fe2-d362-488f-f3ba-6f18666fdca1"
      },
      "outputs": [
        {
          "data": {
            "text/html": [
              "\n",
              "  <div id=\"df-d14f4bf5-ebd6-497f-8537-2e684cca216b\">\n",
              "    <div class=\"colab-df-container\">\n",
              "      <div>\n",
              "<style scoped>\n",
              "    .dataframe tbody tr th:only-of-type {\n",
              "        vertical-align: middle;\n",
              "    }\n",
              "\n",
              "    .dataframe tbody tr th {\n",
              "        vertical-align: top;\n",
              "    }\n",
              "\n",
              "    .dataframe thead th {\n",
              "        text-align: right;\n",
              "    }\n",
              "</style>\n",
              "<table border=\"1\" class=\"dataframe\">\n",
              "  <thead>\n",
              "    <tr style=\"text-align: right;\">\n",
              "      <th></th>\n",
              "      <th>0</th>\n",
              "      <th>1</th>\n",
              "    </tr>\n",
              "  </thead>\n",
              "  <tbody>\n",
              "    <tr>\n",
              "      <th>0</th>\n",
              "      <td>/g/1172hxxrk</td>\n",
              "      <td>traditional sport</td>\n",
              "    </tr>\n",
              "  </tbody>\n",
              "</table>\n",
              "</div>\n",
              "      <button class=\"colab-df-convert\" onclick=\"convertToInteractive('df-d14f4bf5-ebd6-497f-8537-2e684cca216b')\"\n",
              "              title=\"Convert this dataframe to an interactive table.\"\n",
              "              style=\"display:none;\">\n",
              "        \n",
              "  <svg xmlns=\"http://www.w3.org/2000/svg\" height=\"24px\"viewBox=\"0 0 24 24\"\n",
              "       width=\"24px\">\n",
              "    <path d=\"M0 0h24v24H0V0z\" fill=\"none\"/>\n",
              "    <path d=\"M18.56 5.44l.94 2.06.94-2.06 2.06-.94-2.06-.94-.94-2.06-.94 2.06-2.06.94zm-11 1L8.5 8.5l.94-2.06 2.06-.94-2.06-.94L8.5 2.5l-.94 2.06-2.06.94zm10 10l.94 2.06.94-2.06 2.06-.94-2.06-.94-.94-2.06-.94 2.06-2.06.94z\"/><path d=\"M17.41 7.96l-1.37-1.37c-.4-.4-.92-.59-1.43-.59-.52 0-1.04.2-1.43.59L10.3 9.45l-7.72 7.72c-.78.78-.78 2.05 0 2.83L4 21.41c.39.39.9.59 1.41.59.51 0 1.02-.2 1.41-.59l7.78-7.78 2.81-2.81c.8-.78.8-2.07 0-2.86zM5.41 20L4 18.59l7.72-7.72 1.47 1.35L5.41 20z\"/>\n",
              "  </svg>\n",
              "      </button>\n",
              "      \n",
              "  <style>\n",
              "    .colab-df-container {\n",
              "      display:flex;\n",
              "      flex-wrap:wrap;\n",
              "      gap: 12px;\n",
              "    }\n",
              "\n",
              "    .colab-df-convert {\n",
              "      background-color: #E8F0FE;\n",
              "      border: none;\n",
              "      border-radius: 50%;\n",
              "      cursor: pointer;\n",
              "      display: none;\n",
              "      fill: #1967D2;\n",
              "      height: 32px;\n",
              "      padding: 0 0 0 0;\n",
              "      width: 32px;\n",
              "    }\n",
              "\n",
              "    .colab-df-convert:hover {\n",
              "      background-color: #E2EBFA;\n",
              "      box-shadow: 0px 1px 2px rgba(60, 64, 67, 0.3), 0px 1px 3px 1px rgba(60, 64, 67, 0.15);\n",
              "      fill: #174EA6;\n",
              "    }\n",
              "\n",
              "    [theme=dark] .colab-df-convert {\n",
              "      background-color: #3B4455;\n",
              "      fill: #D2E3FC;\n",
              "    }\n",
              "\n",
              "    [theme=dark] .colab-df-convert:hover {\n",
              "      background-color: #434B5C;\n",
              "      box-shadow: 0px 1px 3px 1px rgba(0, 0, 0, 0.15);\n",
              "      filter: drop-shadow(0px 1px 2px rgba(0, 0, 0, 0.3));\n",
              "      fill: #FFFFFF;\n",
              "    }\n",
              "  </style>\n",
              "\n",
              "      <script>\n",
              "        const buttonEl =\n",
              "          document.querySelector('#df-d14f4bf5-ebd6-497f-8537-2e684cca216b button.colab-df-convert');\n",
              "        buttonEl.style.display =\n",
              "          google.colab.kernel.accessAllowed ? 'block' : 'none';\n",
              "\n",
              "        async function convertToInteractive(key) {\n",
              "          const element = document.querySelector('#df-d14f4bf5-ebd6-497f-8537-2e684cca216b');\n",
              "          const dataTable =\n",
              "            await google.colab.kernel.invokeFunction('convertToInteractive',\n",
              "                                                     [key], {});\n",
              "          if (!dataTable) return;\n",
              "\n",
              "          const docLinkHtml = 'Like what you see? Visit the ' +\n",
              "            '<a target=\"_blank\" href=https://colab.research.google.com/notebooks/data_table.ipynb>data table notebook</a>'\n",
              "            + ' to learn more about interactive tables.';\n",
              "          element.innerHTML = '';\n",
              "          dataTable['output_type'] = 'display_data';\n",
              "          await google.colab.output.renderOutput(dataTable, element);\n",
              "          const docLink = document.createElement('div');\n",
              "          docLink.innerHTML = docLinkHtml;\n",
              "          element.appendChild(docLink);\n",
              "        }\n",
              "      </script>\n",
              "    </div>\n",
              "  </div>\n",
              "  "
            ],
            "text/plain": [
              "              0                  1\n",
              "0  /g/1172hxxrk  traditional sport"
            ]
          },
          "execution_count": 10,
          "metadata": {},
          "output_type": "execute_result"
        }
      ],
      "source": [
        "classes.head(1)"
      ]
    },
    {
      "cell_type": "code",
      "execution_count": null,
      "metadata": {
        "id": "TjiK1ZzdyL5C"
      },
      "outputs": [],
      "source": [
        "classes.columns = ['class','class_name']"
      ]
    },
    {
      "cell_type": "code",
      "execution_count": null,
      "metadata": {
        "id": "cABxCFMYyU29"
      },
      "outputs": [],
      "source": [
        "classes = classes[classes['class_name'].map(lambda x: x in required_classes)]"
      ]
    },
    {
      "cell_type": "code",
      "execution_count": null,
      "metadata": {
        "colab": {
          "base_uri": "https://localhost:8080/",
          "height": 142
        },
        "id": "jW9rydf9yYxw",
        "outputId": "0f3009b5-a78a-4f7d-99f6-5560fdf786de"
      },
      "outputs": [
        {
          "data": {
            "text/html": [
              "\n",
              "  <div id=\"df-a98f5ed7-b1c6-475f-8d41-b36111d55303\">\n",
              "    <div class=\"colab-df-container\">\n",
              "      <div>\n",
              "<style scoped>\n",
              "    .dataframe tbody tr th:only-of-type {\n",
              "        vertical-align: middle;\n",
              "    }\n",
              "\n",
              "    .dataframe tbody tr th {\n",
              "        vertical-align: top;\n",
              "    }\n",
              "\n",
              "    .dataframe thead th {\n",
              "        text-align: right;\n",
              "    }\n",
              "</style>\n",
              "<table border=\"1\" class=\"dataframe\">\n",
              "  <thead>\n",
              "    <tr style=\"text-align: right;\">\n",
              "      <th></th>\n",
              "      <th>MaskPath</th>\n",
              "      <th>ImageID</th>\n",
              "      <th>LabelName</th>\n",
              "      <th>BoxID</th>\n",
              "      <th>BoxXMin</th>\n",
              "      <th>BoxXMax</th>\n",
              "      <th>BoxYMin</th>\n",
              "      <th>BoxYMax</th>\n",
              "      <th>PredictedIoU</th>\n",
              "      <th>Clicks</th>\n",
              "    </tr>\n",
              "  </thead>\n",
              "  <tbody>\n",
              "    <tr>\n",
              "      <th>0</th>\n",
              "      <td>677c122b0eaa5d16_m04yx4_9a041d52.png</td>\n",
              "      <td>677c122b0eaa5d16</td>\n",
              "      <td>/m/04yx4</td>\n",
              "      <td>9a041d52</td>\n",
              "      <td>0.8875</td>\n",
              "      <td>0.960938</td>\n",
              "      <td>0.454167</td>\n",
              "      <td>0.720833</td>\n",
              "      <td>0.86864</td>\n",
              "      <td>0.95498 0.65197 1;0.89370 0.56579 1;0.94701 0....</td>\n",
              "    </tr>\n",
              "  </tbody>\n",
              "</table>\n",
              "</div>\n",
              "      <button class=\"colab-df-convert\" onclick=\"convertToInteractive('df-a98f5ed7-b1c6-475f-8d41-b36111d55303')\"\n",
              "              title=\"Convert this dataframe to an interactive table.\"\n",
              "              style=\"display:none;\">\n",
              "        \n",
              "  <svg xmlns=\"http://www.w3.org/2000/svg\" height=\"24px\"viewBox=\"0 0 24 24\"\n",
              "       width=\"24px\">\n",
              "    <path d=\"M0 0h24v24H0V0z\" fill=\"none\"/>\n",
              "    <path d=\"M18.56 5.44l.94 2.06.94-2.06 2.06-.94-2.06-.94-.94-2.06-.94 2.06-2.06.94zm-11 1L8.5 8.5l.94-2.06 2.06-.94-2.06-.94L8.5 2.5l-.94 2.06-2.06.94zm10 10l.94 2.06.94-2.06 2.06-.94-2.06-.94-.94-2.06-.94 2.06-2.06.94z\"/><path d=\"M17.41 7.96l-1.37-1.37c-.4-.4-.92-.59-1.43-.59-.52 0-1.04.2-1.43.59L10.3 9.45l-7.72 7.72c-.78.78-.78 2.05 0 2.83L4 21.41c.39.39.9.59 1.41.59.51 0 1.02-.2 1.41-.59l7.78-7.78 2.81-2.81c.8-.78.8-2.07 0-2.86zM5.41 20L4 18.59l7.72-7.72 1.47 1.35L5.41 20z\"/>\n",
              "  </svg>\n",
              "      </button>\n",
              "      \n",
              "  <style>\n",
              "    .colab-df-container {\n",
              "      display:flex;\n",
              "      flex-wrap:wrap;\n",
              "      gap: 12px;\n",
              "    }\n",
              "\n",
              "    .colab-df-convert {\n",
              "      background-color: #E8F0FE;\n",
              "      border: none;\n",
              "      border-radius: 50%;\n",
              "      cursor: pointer;\n",
              "      display: none;\n",
              "      fill: #1967D2;\n",
              "      height: 32px;\n",
              "      padding: 0 0 0 0;\n",
              "      width: 32px;\n",
              "    }\n",
              "\n",
              "    .colab-df-convert:hover {\n",
              "      background-color: #E2EBFA;\n",
              "      box-shadow: 0px 1px 2px rgba(60, 64, 67, 0.3), 0px 1px 3px 1px rgba(60, 64, 67, 0.15);\n",
              "      fill: #174EA6;\n",
              "    }\n",
              "\n",
              "    [theme=dark] .colab-df-convert {\n",
              "      background-color: #3B4455;\n",
              "      fill: #D2E3FC;\n",
              "    }\n",
              "\n",
              "    [theme=dark] .colab-df-convert:hover {\n",
              "      background-color: #434B5C;\n",
              "      box-shadow: 0px 1px 3px 1px rgba(0, 0, 0, 0.15);\n",
              "      filter: drop-shadow(0px 1px 2px rgba(0, 0, 0, 0.3));\n",
              "      fill: #FFFFFF;\n",
              "    }\n",
              "  </style>\n",
              "\n",
              "      <script>\n",
              "        const buttonEl =\n",
              "          document.querySelector('#df-a98f5ed7-b1c6-475f-8d41-b36111d55303 button.colab-df-convert');\n",
              "        buttonEl.style.display =\n",
              "          google.colab.kernel.accessAllowed ? 'block' : 'none';\n",
              "\n",
              "        async function convertToInteractive(key) {\n",
              "          const element = document.querySelector('#df-a98f5ed7-b1c6-475f-8d41-b36111d55303');\n",
              "          const dataTable =\n",
              "            await google.colab.kernel.invokeFunction('convertToInteractive',\n",
              "                                                     [key], {});\n",
              "          if (!dataTable) return;\n",
              "\n",
              "          const docLinkHtml = 'Like what you see? Visit the ' +\n",
              "            '<a target=\"_blank\" href=https://colab.research.google.com/notebooks/data_table.ipynb>data table notebook</a>'\n",
              "            + ' to learn more about interactive tables.';\n",
              "          element.innerHTML = '';\n",
              "          dataTable['output_type'] = 'display_data';\n",
              "          await google.colab.output.renderOutput(dataTable, element);\n",
              "          const docLink = document.createElement('div');\n",
              "          docLink.innerHTML = docLinkHtml;\n",
              "          element.appendChild(docLink);\n",
              "        }\n",
              "      </script>\n",
              "    </div>\n",
              "  </div>\n",
              "  "
            ],
            "text/plain": [
              "                               MaskPath           ImageID LabelName     BoxID  \\\n",
              "0  677c122b0eaa5d16_m04yx4_9a041d52.png  677c122b0eaa5d16  /m/04yx4  9a041d52   \n",
              "\n",
              "   BoxXMin   BoxXMax   BoxYMin   BoxYMax  PredictedIoU  \\\n",
              "0   0.8875  0.960938  0.454167  0.720833       0.86864   \n",
              "\n",
              "                                              Clicks  \n",
              "0  0.95498 0.65197 1;0.89370 0.56579 1;0.94701 0....  "
            ]
          },
          "execution_count": 13,
          "metadata": {},
          "output_type": "execute_result"
        }
      ],
      "source": [
        "df = pd.read_csv('train-annotations-object-segmentation.csv')\n",
        "df.head(1)"
      ]
    },
    {
      "cell_type": "code",
      "execution_count": null,
      "metadata": {
        "id": "Zjx1fqAHyugQ"
      },
      "outputs": [],
      "source": [
        "data = pd.merge(df, classes , left_on = 'LabelName', right_on = 'class')"
      ]
    },
    {
      "cell_type": "code",
      "execution_count": null,
      "metadata": {
        "colab": {
          "base_uri": "https://localhost:8080/",
          "height": 194
        },
        "id": "C1pl8MF5saNx",
        "outputId": "796763df-3633-482b-aafa-9bbd9f9bb155"
      },
      "outputs": [
        {
          "data": {
            "text/html": [
              "\n",
              "  <div id=\"df-6f9dc67b-0e94-4694-9f1f-0d125e6dce5c\">\n",
              "    <div class=\"colab-df-container\">\n",
              "      <div>\n",
              "<style scoped>\n",
              "    .dataframe tbody tr th:only-of-type {\n",
              "        vertical-align: middle;\n",
              "    }\n",
              "\n",
              "    .dataframe tbody tr th {\n",
              "        vertical-align: top;\n",
              "    }\n",
              "\n",
              "    .dataframe thead th {\n",
              "        text-align: right;\n",
              "    }\n",
              "</style>\n",
              "<table border=\"1\" class=\"dataframe\">\n",
              "  <thead>\n",
              "    <tr style=\"text-align: right;\">\n",
              "      <th></th>\n",
              "      <th>MaskPath</th>\n",
              "      <th>ImageID</th>\n",
              "      <th>LabelName</th>\n",
              "      <th>BoxID</th>\n",
              "      <th>BoxXMin</th>\n",
              "      <th>BoxXMax</th>\n",
              "      <th>BoxYMin</th>\n",
              "      <th>BoxYMax</th>\n",
              "      <th>PredictedIoU</th>\n",
              "      <th>Clicks</th>\n",
              "      <th>class</th>\n",
              "      <th>class_name</th>\n",
              "    </tr>\n",
              "  </thead>\n",
              "  <tbody>\n",
              "    <tr>\n",
              "      <th>0</th>\n",
              "      <td>e9a7da5ff1fd56df_m01g317_1803811b.png</td>\n",
              "      <td>e9a7da5ff1fd56df</td>\n",
              "      <td>/m/01g317</td>\n",
              "      <td>1803811b</td>\n",
              "      <td>0.468125</td>\n",
              "      <td>0.62875</td>\n",
              "      <td>0.188714</td>\n",
              "      <td>0.949121</td>\n",
              "      <td>0.86841</td>\n",
              "      <td>0.47513 0.38255 1;0.52118 0.91333 0;0.47513 0....</td>\n",
              "      <td>/m/01g317</td>\n",
              "      <td>person</td>\n",
              "    </tr>\n",
              "  </tbody>\n",
              "</table>\n",
              "</div>\n",
              "      <button class=\"colab-df-convert\" onclick=\"convertToInteractive('df-6f9dc67b-0e94-4694-9f1f-0d125e6dce5c')\"\n",
              "              title=\"Convert this dataframe to an interactive table.\"\n",
              "              style=\"display:none;\">\n",
              "        \n",
              "  <svg xmlns=\"http://www.w3.org/2000/svg\" height=\"24px\"viewBox=\"0 0 24 24\"\n",
              "       width=\"24px\">\n",
              "    <path d=\"M0 0h24v24H0V0z\" fill=\"none\"/>\n",
              "    <path d=\"M18.56 5.44l.94 2.06.94-2.06 2.06-.94-2.06-.94-.94-2.06-.94 2.06-2.06.94zm-11 1L8.5 8.5l.94-2.06 2.06-.94-2.06-.94L8.5 2.5l-.94 2.06-2.06.94zm10 10l.94 2.06.94-2.06 2.06-.94-2.06-.94-.94-2.06-.94 2.06-2.06.94z\"/><path d=\"M17.41 7.96l-1.37-1.37c-.4-.4-.92-.59-1.43-.59-.52 0-1.04.2-1.43.59L10.3 9.45l-7.72 7.72c-.78.78-.78 2.05 0 2.83L4 21.41c.39.39.9.59 1.41.59.51 0 1.02-.2 1.41-.59l7.78-7.78 2.81-2.81c.8-.78.8-2.07 0-2.86zM5.41 20L4 18.59l7.72-7.72 1.47 1.35L5.41 20z\"/>\n",
              "  </svg>\n",
              "      </button>\n",
              "      \n",
              "  <style>\n",
              "    .colab-df-container {\n",
              "      display:flex;\n",
              "      flex-wrap:wrap;\n",
              "      gap: 12px;\n",
              "    }\n",
              "\n",
              "    .colab-df-convert {\n",
              "      background-color: #E8F0FE;\n",
              "      border: none;\n",
              "      border-radius: 50%;\n",
              "      cursor: pointer;\n",
              "      display: none;\n",
              "      fill: #1967D2;\n",
              "      height: 32px;\n",
              "      padding: 0 0 0 0;\n",
              "      width: 32px;\n",
              "    }\n",
              "\n",
              "    .colab-df-convert:hover {\n",
              "      background-color: #E2EBFA;\n",
              "      box-shadow: 0px 1px 2px rgba(60, 64, 67, 0.3), 0px 1px 3px 1px rgba(60, 64, 67, 0.15);\n",
              "      fill: #174EA6;\n",
              "    }\n",
              "\n",
              "    [theme=dark] .colab-df-convert {\n",
              "      background-color: #3B4455;\n",
              "      fill: #D2E3FC;\n",
              "    }\n",
              "\n",
              "    [theme=dark] .colab-df-convert:hover {\n",
              "      background-color: #434B5C;\n",
              "      box-shadow: 0px 1px 3px 1px rgba(0, 0, 0, 0.15);\n",
              "      filter: drop-shadow(0px 1px 2px rgba(0, 0, 0, 0.3));\n",
              "      fill: #FFFFFF;\n",
              "    }\n",
              "  </style>\n",
              "\n",
              "      <script>\n",
              "        const buttonEl =\n",
              "          document.querySelector('#df-6f9dc67b-0e94-4694-9f1f-0d125e6dce5c button.colab-df-convert');\n",
              "        buttonEl.style.display =\n",
              "          google.colab.kernel.accessAllowed ? 'block' : 'none';\n",
              "\n",
              "        async function convertToInteractive(key) {\n",
              "          const element = document.querySelector('#df-6f9dc67b-0e94-4694-9f1f-0d125e6dce5c');\n",
              "          const dataTable =\n",
              "            await google.colab.kernel.invokeFunction('convertToInteractive',\n",
              "                                                     [key], {});\n",
              "          if (!dataTable) return;\n",
              "\n",
              "          const docLinkHtml = 'Like what you see? Visit the ' +\n",
              "            '<a target=\"_blank\" href=https://colab.research.google.com/notebooks/data_table.ipynb>data table notebook</a>'\n",
              "            + ' to learn more about interactive tables.';\n",
              "          element.innerHTML = '';\n",
              "          dataTable['output_type'] = 'display_data';\n",
              "          await google.colab.output.renderOutput(dataTable, element);\n",
              "          const docLink = document.createElement('div');\n",
              "          docLink.innerHTML = docLinkHtml;\n",
              "          element.appendChild(docLink);\n",
              "        }\n",
              "      </script>\n",
              "    </div>\n",
              "  </div>\n",
              "  "
            ],
            "text/plain": [
              "                                MaskPath           ImageID  LabelName  \\\n",
              "0  e9a7da5ff1fd56df_m01g317_1803811b.png  e9a7da5ff1fd56df  /m/01g317   \n",
              "\n",
              "      BoxID   BoxXMin  BoxXMax   BoxYMin   BoxYMax  PredictedIoU  \\\n",
              "0  1803811b  0.468125  0.62875  0.188714  0.949121       0.86841   \n",
              "\n",
              "                                              Clicks      class class_name  \n",
              "0  0.47513 0.38255 1;0.52118 0.91333 0;0.47513 0....  /m/01g317     person  "
            ]
          },
          "execution_count": 15,
          "metadata": {},
          "output_type": "execute_result"
        }
      ],
      "source": [
        "data.head(1)"
      ]
    },
    {
      "cell_type": "code",
      "execution_count": null,
      "metadata": {
        "colab": {
          "base_uri": "https://localhost:8080/",
          "height": 519
        },
        "id": "RLfza5lVsb4P",
        "outputId": "ce1254e9-ab09-40d1-f8d1-c25bc99a1af3"
      },
      "outputs": [
        {
          "data": {
            "text/html": [
              "\n",
              "  <div id=\"df-be4fee5a-69fe-44dc-9730-eb720f284877\">\n",
              "    <div class=\"colab-df-container\">\n",
              "      <div>\n",
              "<style scoped>\n",
              "    .dataframe tbody tr th:only-of-type {\n",
              "        vertical-align: middle;\n",
              "    }\n",
              "\n",
              "    .dataframe tbody tr th {\n",
              "        vertical-align: top;\n",
              "    }\n",
              "\n",
              "    .dataframe thead th {\n",
              "        text-align: right;\n",
              "    }\n",
              "</style>\n",
              "<table border=\"1\" class=\"dataframe\">\n",
              "  <thead>\n",
              "    <tr style=\"text-align: right;\">\n",
              "      <th></th>\n",
              "      <th>ImageID</th>\n",
              "    </tr>\n",
              "    <tr>\n",
              "      <th>class_name</th>\n",
              "      <th></th>\n",
              "    </tr>\n",
              "  </thead>\n",
              "  <tbody>\n",
              "    <tr>\n",
              "      <th>bird</th>\n",
              "      <td>[09991c4d538fb114, 3ee4d07305d7a5df, b1270151a...</td>\n",
              "    </tr>\n",
              "    <tr>\n",
              "      <th>dog</th>\n",
              "      <td>[871991d5e1d800a5, 0abe18d0e7f90ff7, b2bf2314f...</td>\n",
              "    </tr>\n",
              "    <tr>\n",
              "      <th>elephant</th>\n",
              "      <td>[ffc8c4cb8555bf28, f2884f9deb74d0ab, 9a461d5dd...</td>\n",
              "    </tr>\n",
              "    <tr>\n",
              "      <th>football</th>\n",
              "      <td>[11bac049d17ba74a, d008a1adda83788a, 27f7d9734...</td>\n",
              "    </tr>\n",
              "    <tr>\n",
              "      <th>jug</th>\n",
              "      <td>[0cf674ed54067a01, 03e1179702721883, 8844c5d38...</td>\n",
              "    </tr>\n",
              "    <tr>\n",
              "      <th>laptop</th>\n",
              "      <td>[7c29c3feb9db0ab8, 99b4183340d82807, f3807e63d...</td>\n",
              "    </tr>\n",
              "    <tr>\n",
              "      <th>mushroom</th>\n",
              "      <td>[9a00d1c3a682c068, 16cfab25fdbe54de, b3691afad...</td>\n",
              "    </tr>\n",
              "    <tr>\n",
              "      <th>person</th>\n",
              "      <td>[e9a7da5ff1fd56df, 18c1fd8342d55af8, 42ea7face...</td>\n",
              "    </tr>\n",
              "    <tr>\n",
              "      <th>pizza</th>\n",
              "      <td>[19c952065cb9928e, 6c26f20ac6ef4718, 2bd7c9e79...</td>\n",
              "    </tr>\n",
              "    <tr>\n",
              "      <th>rocket</th>\n",
              "      <td>[0e6557b3b8028471, 596d2e35e8882c69, 050097fd1...</td>\n",
              "    </tr>\n",
              "    <tr>\n",
              "      <th>shirt</th>\n",
              "      <td>[6931c5857f1ee38c, 168ee1d63bbe489a, 4bd6ed2f8...</td>\n",
              "    </tr>\n",
              "    <tr>\n",
              "      <th>traffic sign</th>\n",
              "      <td>[8c96011f89b1261f, fde27ff9947b739d, f98865121...</td>\n",
              "    </tr>\n",
              "    <tr>\n",
              "      <th>watermelon</th>\n",
              "      <td>[0ebf920e16824716, ef4acb465a589b30, f8ec39397...</td>\n",
              "    </tr>\n",
              "    <tr>\n",
              "      <th>zebra</th>\n",
              "      <td>[f83bda504f72717e, 4b9f25af2726d9f0, 4ec15c809...</td>\n",
              "    </tr>\n",
              "  </tbody>\n",
              "</table>\n",
              "</div>\n",
              "      <button class=\"colab-df-convert\" onclick=\"convertToInteractive('df-be4fee5a-69fe-44dc-9730-eb720f284877')\"\n",
              "              title=\"Convert this dataframe to an interactive table.\"\n",
              "              style=\"display:none;\">\n",
              "        \n",
              "  <svg xmlns=\"http://www.w3.org/2000/svg\" height=\"24px\"viewBox=\"0 0 24 24\"\n",
              "       width=\"24px\">\n",
              "    <path d=\"M0 0h24v24H0V0z\" fill=\"none\"/>\n",
              "    <path d=\"M18.56 5.44l.94 2.06.94-2.06 2.06-.94-2.06-.94-.94-2.06-.94 2.06-2.06.94zm-11 1L8.5 8.5l.94-2.06 2.06-.94-2.06-.94L8.5 2.5l-.94 2.06-2.06.94zm10 10l.94 2.06.94-2.06 2.06-.94-2.06-.94-.94-2.06-.94 2.06-2.06.94z\"/><path d=\"M17.41 7.96l-1.37-1.37c-.4-.4-.92-.59-1.43-.59-.52 0-1.04.2-1.43.59L10.3 9.45l-7.72 7.72c-.78.78-.78 2.05 0 2.83L4 21.41c.39.39.9.59 1.41.59.51 0 1.02-.2 1.41-.59l7.78-7.78 2.81-2.81c.8-.78.8-2.07 0-2.86zM5.41 20L4 18.59l7.72-7.72 1.47 1.35L5.41 20z\"/>\n",
              "  </svg>\n",
              "      </button>\n",
              "      \n",
              "  <style>\n",
              "    .colab-df-container {\n",
              "      display:flex;\n",
              "      flex-wrap:wrap;\n",
              "      gap: 12px;\n",
              "    }\n",
              "\n",
              "    .colab-df-convert {\n",
              "      background-color: #E8F0FE;\n",
              "      border: none;\n",
              "      border-radius: 50%;\n",
              "      cursor: pointer;\n",
              "      display: none;\n",
              "      fill: #1967D2;\n",
              "      height: 32px;\n",
              "      padding: 0 0 0 0;\n",
              "      width: 32px;\n",
              "    }\n",
              "\n",
              "    .colab-df-convert:hover {\n",
              "      background-color: #E2EBFA;\n",
              "      box-shadow: 0px 1px 2px rgba(60, 64, 67, 0.3), 0px 1px 3px 1px rgba(60, 64, 67, 0.15);\n",
              "      fill: #174EA6;\n",
              "    }\n",
              "\n",
              "    [theme=dark] .colab-df-convert {\n",
              "      background-color: #3B4455;\n",
              "      fill: #D2E3FC;\n",
              "    }\n",
              "\n",
              "    [theme=dark] .colab-df-convert:hover {\n",
              "      background-color: #434B5C;\n",
              "      box-shadow: 0px 1px 3px 1px rgba(0, 0, 0, 0.15);\n",
              "      filter: drop-shadow(0px 1px 2px rgba(0, 0, 0, 0.3));\n",
              "      fill: #FFFFFF;\n",
              "    }\n",
              "  </style>\n",
              "\n",
              "      <script>\n",
              "        const buttonEl =\n",
              "          document.querySelector('#df-be4fee5a-69fe-44dc-9730-eb720f284877 button.colab-df-convert');\n",
              "        buttonEl.style.display =\n",
              "          google.colab.kernel.accessAllowed ? 'block' : 'none';\n",
              "\n",
              "        async function convertToInteractive(key) {\n",
              "          const element = document.querySelector('#df-be4fee5a-69fe-44dc-9730-eb720f284877');\n",
              "          const dataTable =\n",
              "            await google.colab.kernel.invokeFunction('convertToInteractive',\n",
              "                                                     [key], {});\n",
              "          if (!dataTable) return;\n",
              "\n",
              "          const docLinkHtml = 'Like what you see? Visit the ' +\n",
              "            '<a target=\"_blank\" href=https://colab.research.google.com/notebooks/data_table.ipynb>data table notebook</a>'\n",
              "            + ' to learn more about interactive tables.';\n",
              "          element.innerHTML = '';\n",
              "          dataTable['output_type'] = 'display_data';\n",
              "          await google.colab.output.renderOutput(dataTable, element);\n",
              "          const docLink = document.createElement('div');\n",
              "          docLink.innerHTML = docLinkHtml;\n",
              "          element.appendChild(docLink);\n",
              "        }\n",
              "      </script>\n",
              "    </div>\n",
              "  </div>\n",
              "  "
            ],
            "text/plain": [
              "                                                        ImageID\n",
              "class_name                                                     \n",
              "bird          [09991c4d538fb114, 3ee4d07305d7a5df, b1270151a...\n",
              "dog           [871991d5e1d800a5, 0abe18d0e7f90ff7, b2bf2314f...\n",
              "elephant      [ffc8c4cb8555bf28, f2884f9deb74d0ab, 9a461d5dd...\n",
              "football      [11bac049d17ba74a, d008a1adda83788a, 27f7d9734...\n",
              "jug           [0cf674ed54067a01, 03e1179702721883, 8844c5d38...\n",
              "laptop        [7c29c3feb9db0ab8, 99b4183340d82807, f3807e63d...\n",
              "mushroom      [9a00d1c3a682c068, 16cfab25fdbe54de, b3691afad...\n",
              "person        [e9a7da5ff1fd56df, 18c1fd8342d55af8, 42ea7face...\n",
              "pizza         [19c952065cb9928e, 6c26f20ac6ef4718, 2bd7c9e79...\n",
              "rocket        [0e6557b3b8028471, 596d2e35e8882c69, 050097fd1...\n",
              "shirt         [6931c5857f1ee38c, 168ee1d63bbe489a, 4bd6ed2f8...\n",
              "traffic sign  [8c96011f89b1261f, fde27ff9947b739d, f98865121...\n",
              "watermelon    [0ebf920e16824716, ef4acb465a589b30, f8ec39397...\n",
              "zebra         [f83bda504f72717e, 4b9f25af2726d9f0, 4ec15c809..."
            ]
          },
          "execution_count": 16,
          "metadata": {},
          "output_type": "execute_result"
        }
      ],
      "source": [
        "data.groupby('class_name').agg({'ImageID': lambda x: list(x)[:500]})"
      ]
    },
    {
      "cell_type": "code",
      "execution_count": null,
      "metadata": {
        "id": "ipuA7pVxsmZ4"
      },
      "outputs": [],
      "source": [
        "### For each class, we are figuring put what are the IDs of images of each class\n",
        "\n",
        "\n",
        "subset_data = data.groupby('class_name').agg({'ImageID': lambda x: list(x)[:500]})"
      ]
    },
    {
      "cell_type": "code",
      "execution_count": null,
      "metadata": {
        "id": "6g2TIT4ns9U9"
      },
      "outputs": [],
      "source": [
        "subset_data = flatten(subset_data.ImageID.tolist())"
      ]
    },
    {
      "cell_type": "code",
      "execution_count": null,
      "metadata": {
        "id": "kiyrTn1DtAnH"
      },
      "outputs": [],
      "source": [
        "subset_data = data[data['ImageID'].map(lambda x: x in subset_data)]"
      ]
    },
    {
      "cell_type": "code",
      "execution_count": null,
      "metadata": {
        "id": "H1tezaHNvLgU"
      },
      "outputs": [],
      "source": [
        "subset_masks = subset_data['MaskPath'].tolist()"
      ]
    },
    {
      "cell_type": "code",
      "execution_count": null,
      "metadata": {
        "id": "SheT5uQmvnwE"
      },
      "outputs": [],
      "source": []
    },
    {
      "cell_type": "markdown",
      "metadata": {
        "id": "_nn6rw9AxmXG"
      },
      "source": [
        "# Downloading the data"
      ]
    },
    {
      "cell_type": "code",
      "execution_count": null,
      "metadata": {
        "id": "U-hJJltQvr6n"
      },
      "outputs": [],
      "source": [
        "!mkdir -p masks"
      ]
    },
    {
      "cell_type": "code",
      "execution_count": null,
      "metadata": {
        "colab": {
          "base_uri": "https://localhost:8080/"
        },
        "id": "nfsl58snv1DW",
        "outputId": "c64586fa-f19f-48a2-cef4-72db0787efa6"
      },
      "outputs": [
        {
          "name": "stderr",
          "output_type": "stream",
          "text": [
            "100%|██████████| 16/16 [27:16<00:00, 102.27s/it]\n"
          ]
        }
      ],
      "source": [
        "for c in Tqdm('0123456789abcdef'):\n",
        "  !wget -q https://storage.googleapis.com/openimages/v5/train-masks/train-masks-{c}.zip\n",
        "  # print(\"here\")\n",
        "  #!unzip -q train-masks-{c}.zip -d tmp_masks\n",
        "  with ZipFile(f\"train-masks-{c}.zip\", 'r') as zObject:\n",
        "    zObject.extractall(\"tmp_masks\")\n",
        "  \n",
        "  !rm train-masks-{c}.zip\n",
        "  tmp_masks = Glob('tmp_masks', silent=True)\n",
        "  items = [(m,fname(m)) for m in tmp_masks]\n",
        "  \n",
        "  items = [(i,j) for (i,j) in items if j in subset_masks]\n",
        "  for i,j in items:\n",
        "    os.rename(i, f'masks/{j}')\n",
        "  !rm -rf tmp_masks  \n"
      ]
    },
    {
      "cell_type": "code",
      "execution_count": null,
      "metadata": {
        "id": "KhZMk73z5OUY"
      },
      "outputs": [],
      "source": []
    },
    {
      "cell_type": "code",
      "execution_count": null,
      "metadata": {
        "colab": {
          "base_uri": "https://localhost:8080/"
        },
        "id": "fer4rLgV2SIH",
        "outputId": "7554454c-6df3-4f77-c820-74c16022d2b9"
      },
      "outputs": [
        {
          "name": "stderr",
          "output_type": "stream",
          "text": [
            "100%|██████████| 14090/14090 [03:08<00:00, 74.72it/s]\n"
          ]
        }
      ],
      "source": [
        "\n",
        "masks = Glob('masks')\n",
        "masks = [fname(mask) for mask in masks]\n",
        "\n",
        "subset_data = subset_data[subset_data['MaskPath'].map(lambda x: x in masks)]\n",
        "subset_imageIds = subset_data['ImageID'].tolist()\n",
        "\n",
        "from openimages.download import _download_images_by_id\n",
        "!mkdir images\n",
        "_download_images_by_id(subset_imageIds, 'train', './images/')"
      ]
    },
    {
      "cell_type": "code",
      "execution_count": null,
      "metadata": {
        "colab": {
          "base_uri": "https://localhost:8080/"
        },
        "id": "p0ZTeFgJAqFX",
        "outputId": "deb6903e-1418-48fc-850f-470c11386b8a"
      },
      "outputs": [
        {
          "name": "stderr",
          "output_type": "stream",
          "text": [
            "100%|██████████| 20005/20005 [02:42<00:00, 122.77it/s]\n"
          ]
        }
      ],
      "source": [
        "# zipping this and saving this, so that we don't do downloading of data each time\n",
        "import zipfile\n",
        "files = Glob('images') + Glob('masks') + ['train-annotations-object-segmentation.csv', 'classes.csv']\n",
        "with zipfile.ZipFile('data.zip','w') as zipme:\n",
        "    for file in Tqdm(files):\n",
        "        zipme.write(file, compress_type=zipfile.ZIP_DEFLATED)"
      ]
    },
    {
      "cell_type": "code",
      "execution_count": null,
      "metadata": {
        "id": "1fpPRpiHBfWY"
      },
      "outputs": [],
      "source": [
        "\n",
        "!mkdir -p train/\n",
        "!mv images train/myData2020\n",
        "!mv masks train/annotations"
      ]
    },
    {
      "cell_type": "code",
      "execution_count": 30,
      "metadata": {
        "colab": {
          "base_uri": "https://localhost:8080/"
        },
        "id": "L_Z7kbqbEc7k",
        "outputId": "dd536ec3-6bf7-4ffe-d6ad-e74ceefbb43b"
      },
      "outputs": [
        {
          "name": "stdout",
          "output_type": "stream",
          "text": [
            "Reading package lists... Done\n",
            "Building dependency tree       \n",
            "Reading state information... Done\n",
            "python3-dev is already the newest version (3.8.2-0ubuntu2).\n",
            "python3-dev set to manually installed.\n",
            "The following package was automatically installed and is no longer required:\n",
            "  libnvidia-common-510\n",
            "Use 'sudo apt autoremove' to remove it.\n",
            "0 upgraded, 0 newly installed, 0 to remove and 27 not upgraded.\n",
            "Looking in indexes: https://pypi.org/simple, https://us-python.pkg.dev/colab-wheels/public/simple/\n",
            "Requirement already satisfied: cython in /usr/local/lib/python3.8/dist-packages (0.29.33)\n",
            "Looking in indexes: https://pypi.org/simple, https://us-python.pkg.dev/colab-wheels/public/simple/\n",
            "Collecting git+git://github.com/waspinator/coco.git@2.1.0\n",
            "  Cloning git://github.com/waspinator/coco.git (to revision 2.1.0) to /tmp/pip-req-build-1l6mixgp\n",
            "  Running command git clone --filter=blob:none --quiet git://github.com/waspinator/coco.git /tmp/pip-req-build-1l6mixgp\n",
            "  fatal: unable to connect to github.com:\n",
            "  github.com[0: 140.82.113.3]: errno=Connection timed out\n",
            "\n",
            "  \u001b[1;31merror\u001b[0m: \u001b[1msubprocess-exited-with-error\u001b[0m\n",
            "  \n",
            "  \u001b[31m×\u001b[0m \u001b[32mgit clone --\u001b[0m\u001b[32mfilter\u001b[0m\u001b[32m=\u001b[0m\u001b[32mblob\u001b[0m\u001b[32m:none --quiet git:\u001b[0m\u001b[32m/\u001b[0m\u001b[32m/github.com/waspinator/\u001b[0m\u001b[32mcoco.git\u001b[0m\u001b[32m \u001b[0m\u001b[32m/tmp/\u001b[0m\u001b[32mpip-req-build-1l6mixgp\u001b[0m did not run successfully.\n",
            "  \u001b[31m│\u001b[0m exit code: \u001b[1;36m128\u001b[0m\n",
            "  \u001b[31m╰─>\u001b[0m See above for output.\n",
            "  \n",
            "  \u001b[1;35mnote\u001b[0m: This error originates from a subprocess, and is likely not a problem with pip.\n",
            "\u001b[1;31merror\u001b[0m: \u001b[1msubprocess-exited-with-error\u001b[0m\n",
            "\n",
            "\u001b[31m×\u001b[0m \u001b[32mgit clone --\u001b[0m\u001b[32mfilter\u001b[0m\u001b[32m=\u001b[0m\u001b[32mblob\u001b[0m\u001b[32m:none --quiet git:\u001b[0m\u001b[32m/\u001b[0m\u001b[32m/github.com/waspinator/\u001b[0m\u001b[32mcoco.git\u001b[0m\u001b[32m \u001b[0m\u001b[32m/tmp/\u001b[0m\u001b[32mpip-req-build-1l6mixgp\u001b[0m did not run successfully.\n",
            "\u001b[31m│\u001b[0m exit code: \u001b[1;36m128\u001b[0m\n",
            "\u001b[31m╰─>\u001b[0m See above for output.\n",
            "\n",
            "\u001b[1;35mnote\u001b[0m: This error originates from a subprocess, and is likely not a problem with pip.\n"
          ]
        }
      ],
      "source": [
        "!sudo apt-get install python3-dev\n",
        "!pip install cython\n",
        "!pip install git+git://github.com/waspinator/coco.git@2.1.0"
      ]
    },
    {
      "cell_type": "code",
      "execution_count": 31,
      "metadata": {
        "id": "YyMo_rJ2CSqA"
      },
      "outputs": [],
      "source": [
        "\n",
        "#!pip install git+git://github.com/waspinator/pycococreator.git@0.2.0\n",
        "#!pip install git+git://github.com/waspinator/pycococreator.git@0.2.0\n",
        "import datetime\n",
        "\n",
        "INFO = {\n",
        "    \"description\": \"MyData2020\",\n",
        "    \"url\": \"None\",\n",
        "    \"version\": \"1.0\",\n",
        "    \"year\": 2023,\n",
        "    \"contributor\": \"Rachinder\",\n",
        "    \"date_created\": datetime.datetime.utcnow().isoformat(' ')\n",
        "}\n",
        "\n",
        "LICENSES = [\n",
        "    {\n",
        "        \"id\": 1,\n",
        "        \"name\": \"MIT\"\n",
        "    }\n",
        "]\n",
        "\n",
        "CATEGORIES = [{'id': id+1, 'name': name.replace('/',''), 'supercategory': 'none'} for id,(_,(name, clss_name)) in enumerate(classes.iterrows())]"
      ]
    },
    {
      "cell_type": "code",
      "execution_count": 34,
      "metadata": {
        "colab": {
          "base_uri": "https://localhost:8080/"
        },
        "id": "i2133tFCCwtv",
        "outputId": "af3536bd-2a8a-4450-ca40-0dfb6becc810"
      },
      "outputs": [
        {
          "name": "stdout",
          "output_type": "stream",
          "text": [
            "Looking in indexes: https://pypi.org/simple, https://us-python.pkg.dev/colab-wheels/public/simple/\n",
            "Requirement already satisfied: pycocotools in /usr/local/lib/python3.8/dist-packages (2.0.6)\n",
            "Requirement already satisfied: numpy in /usr/local/lib/python3.8/dist-packages (from pycocotools) (1.21.6)\n",
            "Requirement already satisfied: matplotlib>=2.1.0 in /usr/local/lib/python3.8/dist-packages (from pycocotools) (3.2.2)\n",
            "Requirement already satisfied: cycler>=0.10 in /usr/local/lib/python3.8/dist-packages (from matplotlib>=2.1.0->pycocotools) (0.11.0)\n",
            "Requirement already satisfied: pyparsing!=2.0.4,!=2.1.2,!=2.1.6,>=2.0.1 in /usr/local/lib/python3.8/dist-packages (from matplotlib>=2.1.0->pycocotools) (3.0.9)\n",
            "Requirement already satisfied: python-dateutil>=2.1 in /usr/local/lib/python3.8/dist-packages (from matplotlib>=2.1.0->pycocotools) (2.8.2)\n",
            "Requirement already satisfied: kiwisolver>=1.0.1 in /usr/local/lib/python3.8/dist-packages (from matplotlib>=2.1.0->pycocotools) (1.4.4)\n",
            "Requirement already satisfied: six>=1.5 in /usr/local/lib/python3.8/dist-packages (from python-dateutil>=2.1->matplotlib>=2.1.0->pycocotools) (1.15.0)\n"
          ]
        }
      ],
      "source": [
        "!pip install pycocotools\n",
        "#from pycococreatortools import pycococreatortools\n",
        "from os import listdir\n",
        "from os.path import isfile, join\n",
        "from PIL import Image\n"
      ]
    },
    {
      "cell_type": "code",
      "execution_count": 35,
      "metadata": {
        "id": "kOMiIzCoFL9_"
      },
      "outputs": [],
      "source": [
        "import pycococreatortools # wasn't installing, so added this file manually. If running again, will need to add this file manually"
      ]
    },
    {
      "cell_type": "code",
      "execution_count": 36,
      "metadata": {
        "id": "hQ-4-DXXGY1a"
      },
      "outputs": [],
      "source": [
        "coco_output = {\n",
        "    \"info\": INFO,\n",
        "    \"licenses\": LICENSES,\n",
        "    \"categories\": CATEGORIES,\n",
        "    \"images\": [],\n",
        "    \"annotations\": []\n",
        "}\n",
        "     "
      ]
    },
    {
      "cell_type": "code",
      "execution_count": 37,
      "metadata": {
        "id": "yRfJyBw8G7ih"
      },
      "outputs": [],
      "source": []
    },
    {
      "cell_type": "code",
      "execution_count": 38,
      "metadata": {
        "id": "wvW8L2p-G82a"
      },
      "outputs": [],
      "source": [
        "ROOT_DIR = \"train\"\n",
        "IMAGE_DIR, ANNOTATION_DIR = 'train/myData2020/', 'train/annotations/'\n",
        "image_files = [f for f in listdir(IMAGE_DIR) if isfile(join(IMAGE_DIR, f))]\n",
        "annotation_files = [f for f in listdir(ANNOTATION_DIR) if isfile(join(ANNOTATION_DIR, f))]"
      ]
    },
    {
      "cell_type": "code",
      "execution_count": 39,
      "metadata": {
        "id": "7ExJWIHgHFGH"
      },
      "outputs": [],
      "source": []
    },
    {
      "cell_type": "code",
      "execution_count": 40,
      "metadata": {
        "colab": {
          "base_uri": "https://localhost:8080/"
        },
        "id": "glZW3KoDHHR4",
        "outputId": "9dfbad2a-e268-4e12-c734-8c329cd83f5f"
      },
      "outputs": [
        {
          "name": "stderr",
          "output_type": "stream",
          "text": [
            "100%|██████████| 5913/5913 [00:03<00:00, 1761.56it/s]\n"
          ]
        }
      ],
      "source": [
        "image_id = 1\n",
        "# go through each image\n",
        "for image_filename in Tqdm(image_files):\n",
        "    image = Image.open(IMAGE_DIR + '/' + image_filename)\n",
        "    image_info = pycococreatortools.create_image_info(image_id, os.path.basename(image_filename), image.size)\n",
        "    coco_output[\"images\"].append(image_info)\n",
        "    image_id = image_id + 1"
      ]
    },
    {
      "cell_type": "code",
      "execution_count": 42,
      "metadata": {
        "colab": {
          "base_uri": "https://localhost:8080/"
        },
        "id": "S0wMf1gSHj6i",
        "outputId": "7c74ea82-cf0c-44ba-ae35-e21300a2e4e6"
      },
      "outputs": [
        {
          "name": "stderr",
          "output_type": "stream",
          "text": [
            "100%|██████████| 14090/14090 [16:12<00:00, 14.49it/s]\n"
          ]
        }
      ],
      "source": [
        "segmentation_id = 1\n",
        "for annotation_filename in Tqdm(annotation_files):\n",
        "    image_id = [f for f in coco_output['images'] if stem(f['file_name'])==annotation_filename.split('_')[0]][0]['id']\n",
        "    class_id = [x['id'] for x in CATEGORIES if x['name'] in annotation_filename][0]\n",
        "    category_info = {'id': class_id, 'is_crowd': 'crowd' in image_filename}\n",
        "    binary_mask = np.asarray(Image.open(f'{ANNOTATION_DIR}/{annotation_filename}').convert('1')).astype(np.uint8)\n",
        " \n",
        "    annotation_info = pycococreatortools.create_annotation_info(segmentation_id, image_id, category_info, binary_mask, image.size, tolerance=2)\n",
        "\n",
        "    if annotation_info is not None:\n",
        "        coco_output[\"annotations\"].append(annotation_info)\n",
        "        segmentation_id = segmentation_id + 1\n",
        "     "
      ]
    },
    {
      "cell_type": "code",
      "execution_count": 43,
      "metadata": {
        "id": "ZV-dw064HnHN"
      },
      "outputs": [],
      "source": [
        "\n",
        "coco_output['categories'] = [{'id': id+1, 'name': clss_name, 'supercategory': 'none'} for id,(_,(name, clss_name)) in enumerate(classes.iterrows())]\n",
        "\n",
        "import json\n",
        "with open('images.json', 'w') as output_json_file:\n",
        "    json.dump(coco_output, output_json_file)"
      ]
    },
    {
      "cell_type": "code",
      "execution_count": 1,
      "metadata": {
        "id": "bvcJlcEqL3Qx"
      },
      "outputs": [],
      "source": [
        "\n",
        "# !pip install detectron2 -f https://dl.fbaipublicfiles.com/detectron2/wheels/cu101/torch1.7/index.html\n",
        "# !pip install pyyaml==5.1 pycocotools>=2.0.1"
      ]
    },
    {
      "cell_type": "code",
      "execution_count": 2,
      "metadata": {
        "colab": {
          "base_uri": "https://localhost:8080/"
        },
        "id": "RhKO5eTKNu7s",
        "outputId": "34ea170a-7814-4800-92a3-e2f2cba22f0f"
      },
      "outputs": [
        {
          "name": "stdout",
          "output_type": "stream",
          "text": [
            "Looking in indexes: https://pypi.org/simple, https://us-python.pkg.dev/colab-wheels/public/simple/\n",
            "Collecting git+https://github.com/facebookresearch/detectron2.git\n",
            "  Cloning https://github.com/facebookresearch/detectron2.git to /tmp/pip-req-build-cmq0zxri\n",
            "  Running command git clone --filter=blob:none --quiet https://github.com/facebookresearch/detectron2.git /tmp/pip-req-build-cmq0zxri\n",
            "  Resolved https://github.com/facebookresearch/detectron2.git to commit 38af375052d3ae7331141bc1a22cfa2713b02987\n",
            "  Preparing metadata (setup.py) ... \u001b[?25l\u001b[?25hdone\n",
            "Requirement already satisfied: Pillow>=7.1 in /usr/local/lib/python3.8/dist-packages (from detectron2==0.6) (7.1.2)\n",
            "Requirement already satisfied: matplotlib in /usr/local/lib/python3.8/dist-packages (from detectron2==0.6) (3.2.2)\n",
            "Requirement already satisfied: pycocotools>=2.0.2 in /usr/local/lib/python3.8/dist-packages (from detectron2==0.6) (2.0.6)\n",
            "Requirement already satisfied: termcolor>=1.1 in /usr/local/lib/python3.8/dist-packages (from detectron2==0.6) (2.2.0)\n",
            "Requirement already satisfied: yacs>=0.1.8 in /usr/local/lib/python3.8/dist-packages (from detectron2==0.6) (0.1.8)\n",
            "Requirement already satisfied: tabulate in /usr/local/lib/python3.8/dist-packages (from detectron2==0.6) (0.8.10)\n",
            "Requirement already satisfied: cloudpickle in /usr/local/lib/python3.8/dist-packages (from detectron2==0.6) (2.2.1)\n",
            "Requirement already satisfied: tqdm>4.29.0 in /usr/local/lib/python3.8/dist-packages (from detectron2==0.6) (4.64.1)\n",
            "Requirement already satisfied: tensorboard in /usr/local/lib/python3.8/dist-packages (from detectron2==0.6) (2.9.1)\n",
            "Requirement already satisfied: fvcore<0.1.6,>=0.1.5 in /usr/local/lib/python3.8/dist-packages (from detectron2==0.6) (0.1.5.post20221221)\n",
            "Requirement already satisfied: iopath<0.1.10,>=0.1.7 in /usr/local/lib/python3.8/dist-packages (from detectron2==0.6) (0.1.8)\n",
            "Requirement already satisfied: omegaconf>=2.1 in /usr/local/lib/python3.8/dist-packages (from detectron2==0.6) (2.3.0)\n",
            "Requirement already satisfied: hydra-core>=1.1 in /usr/local/lib/python3.8/dist-packages (from detectron2==0.6) (1.3.1)\n",
            "Requirement already satisfied: black in /usr/local/lib/python3.8/dist-packages (from detectron2==0.6) (21.4b2)\n",
            "Requirement already satisfied: packaging in /usr/local/lib/python3.8/dist-packages (from detectron2==0.6) (23.0)\n",
            "Requirement already satisfied: pyyaml>=5.1 in /usr/local/lib/python3.8/dist-packages (from fvcore<0.1.6,>=0.1.5->detectron2==0.6) (5.1)\n",
            "Requirement already satisfied: numpy in /usr/local/lib/python3.8/dist-packages (from fvcore<0.1.6,>=0.1.5->detectron2==0.6) (1.21.6)\n",
            "Requirement already satisfied: antlr4-python3-runtime==4.9.* in /usr/local/lib/python3.8/dist-packages (from hydra-core>=1.1->detectron2==0.6) (4.9.3)\n",
            "Requirement already satisfied: importlib-resources in /usr/local/lib/python3.8/dist-packages (from hydra-core>=1.1->detectron2==0.6) (5.10.2)\n",
            "Requirement already satisfied: portalocker in /usr/local/lib/python3.8/dist-packages (from iopath<0.1.10,>=0.1.7->detectron2==0.6) (2.7.0)\n",
            "Requirement already satisfied: python-dateutil>=2.1 in /usr/local/lib/python3.8/dist-packages (from matplotlib->detectron2==0.6) (2.8.2)\n",
            "Requirement already satisfied: cycler>=0.10 in /usr/local/lib/python3.8/dist-packages (from matplotlib->detectron2==0.6) (0.11.0)\n",
            "Requirement already satisfied: pyparsing!=2.0.4,!=2.1.2,!=2.1.6,>=2.0.1 in /usr/local/lib/python3.8/dist-packages (from matplotlib->detectron2==0.6) (3.0.9)\n",
            "Requirement already satisfied: kiwisolver>=1.0.1 in /usr/local/lib/python3.8/dist-packages (from matplotlib->detectron2==0.6) (1.4.4)\n",
            "Requirement already satisfied: pathspec<1,>=0.8.1 in /usr/local/lib/python3.8/dist-packages (from black->detectron2==0.6) (0.11.0)\n",
            "Requirement already satisfied: regex>=2020.1.8 in /usr/local/lib/python3.8/dist-packages (from black->detectron2==0.6) (2022.6.2)\n",
            "Requirement already satisfied: appdirs in /usr/local/lib/python3.8/dist-packages (from black->detectron2==0.6) (1.4.4)\n",
            "Requirement already satisfied: click>=7.1.2 in /usr/local/lib/python3.8/dist-packages (from black->detectron2==0.6) (7.1.2)\n",
            "Requirement already satisfied: toml>=0.10.1 in /usr/local/lib/python3.8/dist-packages (from black->detectron2==0.6) (0.10.2)\n",
            "Requirement already satisfied: mypy-extensions>=0.4.3 in /usr/local/lib/python3.8/dist-packages (from black->detectron2==0.6) (1.0.0)\n",
            "Requirement already satisfied: setuptools>=41.0.0 in /usr/local/lib/python3.8/dist-packages (from tensorboard->detectron2==0.6) (57.4.0)\n",
            "Requirement already satisfied: absl-py>=0.4 in /usr/local/lib/python3.8/dist-packages (from tensorboard->detectron2==0.6) (1.4.0)\n",
            "Requirement already satisfied: markdown>=2.6.8 in /usr/local/lib/python3.8/dist-packages (from tensorboard->detectron2==0.6) (3.4.1)\n",
            "Requirement already satisfied: tensorboard-plugin-wit>=1.6.0 in /usr/local/lib/python3.8/dist-packages (from tensorboard->detectron2==0.6) (1.8.1)\n",
            "Requirement already satisfied: wheel>=0.26 in /usr/local/lib/python3.8/dist-packages (from tensorboard->detectron2==0.6) (0.38.4)\n",
            "Requirement already satisfied: protobuf<3.20,>=3.9.2 in /usr/local/lib/python3.8/dist-packages (from tensorboard->detectron2==0.6) (3.19.6)\n",
            "Requirement already satisfied: werkzeug>=1.0.1 in /usr/local/lib/python3.8/dist-packages (from tensorboard->detectron2==0.6) (1.0.1)\n",
            "Requirement already satisfied: grpcio>=1.24.3 in /usr/local/lib/python3.8/dist-packages (from tensorboard->detectron2==0.6) (1.51.1)\n",
            "Requirement already satisfied: google-auth-oauthlib<0.5,>=0.4.1 in /usr/local/lib/python3.8/dist-packages (from tensorboard->detectron2==0.6) (0.4.6)\n",
            "Requirement already satisfied: tensorboard-data-server<0.7.0,>=0.6.0 in /usr/local/lib/python3.8/dist-packages (from tensorboard->detectron2==0.6) (0.6.1)\n",
            "Requirement already satisfied: google-auth<3,>=1.6.3 in /usr/local/lib/python3.8/dist-packages (from tensorboard->detectron2==0.6) (2.16.0)\n",
            "Requirement already satisfied: requests<3,>=2.21.0 in /usr/local/lib/python3.8/dist-packages (from tensorboard->detectron2==0.6) (2.25.1)\n",
            "Requirement already satisfied: rsa<5,>=3.1.4 in /usr/local/lib/python3.8/dist-packages (from google-auth<3,>=1.6.3->tensorboard->detectron2==0.6) (4.9)\n",
            "Requirement already satisfied: pyasn1-modules>=0.2.1 in /usr/local/lib/python3.8/dist-packages (from google-auth<3,>=1.6.3->tensorboard->detectron2==0.6) (0.2.8)\n",
            "Requirement already satisfied: cachetools<6.0,>=2.0.0 in /usr/local/lib/python3.8/dist-packages (from google-auth<3,>=1.6.3->tensorboard->detectron2==0.6) (5.3.0)\n",
            "Requirement already satisfied: six>=1.9.0 in /usr/local/lib/python3.8/dist-packages (from google-auth<3,>=1.6.3->tensorboard->detectron2==0.6) (1.15.0)\n",
            "Requirement already satisfied: requests-oauthlib>=0.7.0 in /usr/local/lib/python3.8/dist-packages (from google-auth-oauthlib<0.5,>=0.4.1->tensorboard->detectron2==0.6) (1.3.1)\n",
            "Requirement already satisfied: importlib-metadata>=4.4 in /usr/local/lib/python3.8/dist-packages (from markdown>=2.6.8->tensorboard->detectron2==0.6) (6.0.0)\n",
            "Requirement already satisfied: urllib3<1.27,>=1.21.1 in /usr/local/lib/python3.8/dist-packages (from requests<3,>=2.21.0->tensorboard->detectron2==0.6) (1.26.14)\n",
            "Requirement already satisfied: certifi>=2017.4.17 in /usr/local/lib/python3.8/dist-packages (from requests<3,>=2.21.0->tensorboard->detectron2==0.6) (2022.12.7)\n",
            "Requirement already satisfied: idna<3,>=2.5 in /usr/local/lib/python3.8/dist-packages (from requests<3,>=2.21.0->tensorboard->detectron2==0.6) (2.10)\n",
            "Requirement already satisfied: chardet<5,>=3.0.2 in /usr/local/lib/python3.8/dist-packages (from requests<3,>=2.21.0->tensorboard->detectron2==0.6) (4.0.0)\n",
            "Requirement already satisfied: zipp>=3.1.0 in /usr/local/lib/python3.8/dist-packages (from importlib-resources->hydra-core>=1.1->detectron2==0.6) (3.12.0)\n",
            "Requirement already satisfied: pyasn1<0.5.0,>=0.4.6 in /usr/local/lib/python3.8/dist-packages (from pyasn1-modules>=0.2.1->google-auth<3,>=1.6.3->tensorboard->detectron2==0.6) (0.4.8)\n",
            "Requirement already satisfied: oauthlib>=3.0.0 in /usr/local/lib/python3.8/dist-packages (from requests-oauthlib>=0.7.0->google-auth-oauthlib<0.5,>=0.4.1->tensorboard->detectron2==0.6) (3.2.2)\n"
          ]
        }
      ],
      "source": [
        "!python -m pip install 'git+https://github.com/facebookresearch/detectron2.git'"
      ]
    },
    {
      "cell_type": "code",
      "execution_count": 3,
      "metadata": {
        "colab": {
          "base_uri": "https://localhost:8080/"
        },
        "id": "EuFD-kHvNu11",
        "outputId": "04c0a064-fb76-4f06-bda7-7764700ed313"
      },
      "outputs": [
        {
          "name": "stdout",
          "output_type": "stream",
          "text": [
            "Looking in indexes: https://pypi.org/simple, https://us-python.pkg.dev/colab-wheels/public/simple/\n",
            "Requirement already satisfied: pyyaml==5.1 in /usr/local/lib/python3.8/dist-packages (5.1)\n"
          ]
        }
      ],
      "source": [
        "!pip install pyyaml==5.1"
      ]
    },
    {
      "cell_type": "code",
      "execution_count": 4,
      "metadata": {
        "id": "UREGeSjdQp5R"
      },
      "outputs": [],
      "source": [
        "!pip install pycocotools>=2.0.1"
      ]
    },
    {
      "cell_type": "code",
      "execution_count": 5,
      "metadata": {
        "colab": {
          "base_uri": "https://localhost:8080/"
        },
        "id": "jwInatFmNux4",
        "outputId": "81a9ca23-82e9-4ae4-e4e5-e850d1d3cda0"
      },
      "outputs": [
        {
          "name": "stdout",
          "output_type": "stream",
          "text": [
            "torch:  1.13 ; cuda:  cu116\n"
          ]
        }
      ],
      "source": [
        "import torch\n",
        "TORCH_VERSION = \".\".join(torch.__version__.split(\".\")[:2])\n",
        "CUDA_VERSION = torch.__version__.split(\"+\")[-1]\n",
        "print(\"torch: \", TORCH_VERSION, \"; cuda: \", CUDA_VERSION)"
      ]
    },
    {
      "cell_type": "markdown",
      "metadata": {
        "id": "4deNwlwlNGhO"
      },
      "source": [
        "# Restart colab here"
      ]
    },
    {
      "cell_type": "code",
      "execution_count": 6,
      "metadata": {
        "id": "XcMao6EaMHhI"
      },
      "outputs": [],
      "source": [
        "from torch_snippets import *\n",
        "required_classes = 'person,dog,bird,car,elephant,football,jug,laptop,Mushroom,Pizza,Rocket,Shirt,Traffic sign,Watermelon,Zebra'\n",
        "required_classes = [c.lower() for c in required_classes.lower().split(',')]\n",
        "\n",
        "classes = pd.read_csv('classes.csv', header=None)\n",
        "classes.columns = ['class','class_name']\n",
        "classes = classes[classes['class_name'].map(lambda x: x in required_classes)]"
      ]
    },
    {
      "cell_type": "code",
      "execution_count": 7,
      "metadata": {
        "id": "H9-shFDmNFQb"
      },
      "outputs": [],
      "source": [
        "from detectron2 import model_zoo\n",
        "from detectron2.engine import DefaultPredictor\n",
        "from detectron2.config import get_cfg\n",
        "from detectron2.utils.visualizer import Visualizer\n",
        "from detectron2.data import MetadataCatalog, DatasetCatalog\n",
        "from detectron2.engine import DefaultTrainer"
      ]
    },
    {
      "cell_type": "code",
      "execution_count": 8,
      "metadata": {
        "id": "tTPMFbvUQOYD"
      },
      "outputs": [],
      "source": [
        "\n",
        "from detectron2.data.datasets import register_coco_instances\n",
        "register_coco_instances(\"dataset_train\", {}, \"images.json\", \"train/myData2020\")"
      ]
    },
    {
      "cell_type": "code",
      "execution_count": 9,
      "metadata": {
        "id": "m5JedtuQRAgH"
      },
      "outputs": [],
      "source": [
        "\n",
        "cfg = get_cfg()\n",
        "cfg.merge_from_file(model_zoo.get_config_file(\"COCO-InstanceSegmentation/mask_rcnn_R_50_FPN_3x.yaml\"))\n",
        "cfg.DATASETS.TRAIN = (\"dataset_train\",)\n",
        "cfg.DATASETS.TEST = ()\n",
        "cfg.DATALOADER.NUM_WORKERS = 2\n",
        "cfg.MODEL.WEIGHTS = model_zoo.get_checkpoint_url(\"COCO-InstanceSegmentation/mask_rcnn_R_50_FPN_3x.yaml\") # pretrained weights\n",
        "cfg.SOLVER.IMS_PER_BATCH = 2\n",
        "cfg.SOLVER.BASE_LR = 0.00025 # pick a good LR\n",
        "cfg.SOLVER.MAX_ITER = 5000 # instead of epochs, we train on 5000 batches\n",
        "cfg.MODEL.ROI_HEADS.BATCH_SIZE_PER_IMAGE = 512\n",
        "cfg.MODEL.ROI_HEADS.NUM_CLASSES = len(classes) "
      ]
    },
    {
      "cell_type": "code",
      "execution_count": null,
      "metadata": {
        "colab": {
          "base_uri": "https://localhost:8080/"
        },
        "id": "vuDfaDSWRDTS",
        "outputId": "9e5cf908-8ddd-410f-d3ec-f4b6864716a8"
      },
      "outputs": [
        {
          "name": "stdout",
          "output_type": "stream",
          "text": [
            "[02/22 08:36:52 d2.engine.defaults]: Model:\n",
            "GeneralizedRCNN(\n",
            "  (backbone): FPN(\n",
            "    (fpn_lateral2): Conv2d(256, 256, kernel_size=(1, 1), stride=(1, 1))\n",
            "    (fpn_output2): Conv2d(256, 256, kernel_size=(3, 3), stride=(1, 1), padding=(1, 1))\n",
            "    (fpn_lateral3): Conv2d(512, 256, kernel_size=(1, 1), stride=(1, 1))\n",
            "    (fpn_output3): Conv2d(256, 256, kernel_size=(3, 3), stride=(1, 1), padding=(1, 1))\n",
            "    (fpn_lateral4): Conv2d(1024, 256, kernel_size=(1, 1), stride=(1, 1))\n",
            "    (fpn_output4): Conv2d(256, 256, kernel_size=(3, 3), stride=(1, 1), padding=(1, 1))\n",
            "    (fpn_lateral5): Conv2d(2048, 256, kernel_size=(1, 1), stride=(1, 1))\n",
            "    (fpn_output5): Conv2d(256, 256, kernel_size=(3, 3), stride=(1, 1), padding=(1, 1))\n",
            "    (top_block): LastLevelMaxPool()\n",
            "    (bottom_up): ResNet(\n",
            "      (stem): BasicStem(\n",
            "        (conv1): Conv2d(\n",
            "          3, 64, kernel_size=(7, 7), stride=(2, 2), padding=(3, 3), bias=False\n",
            "          (norm): FrozenBatchNorm2d(num_features=64, eps=1e-05)\n",
            "        )\n",
            "      )\n",
            "      (res2): Sequential(\n",
            "        (0): BottleneckBlock(\n",
            "          (shortcut): Conv2d(\n",
            "            64, 256, kernel_size=(1, 1), stride=(1, 1), bias=False\n",
            "            (norm): FrozenBatchNorm2d(num_features=256, eps=1e-05)\n",
            "          )\n",
            "          (conv1): Conv2d(\n",
            "            64, 64, kernel_size=(1, 1), stride=(1, 1), bias=False\n",
            "            (norm): FrozenBatchNorm2d(num_features=64, eps=1e-05)\n",
            "          )\n",
            "          (conv2): Conv2d(\n",
            "            64, 64, kernel_size=(3, 3), stride=(1, 1), padding=(1, 1), bias=False\n",
            "            (norm): FrozenBatchNorm2d(num_features=64, eps=1e-05)\n",
            "          )\n",
            "          (conv3): Conv2d(\n",
            "            64, 256, kernel_size=(1, 1), stride=(1, 1), bias=False\n",
            "            (norm): FrozenBatchNorm2d(num_features=256, eps=1e-05)\n",
            "          )\n",
            "        )\n",
            "        (1): BottleneckBlock(\n",
            "          (conv1): Conv2d(\n",
            "            256, 64, kernel_size=(1, 1), stride=(1, 1), bias=False\n",
            "            (norm): FrozenBatchNorm2d(num_features=64, eps=1e-05)\n",
            "          )\n",
            "          (conv2): Conv2d(\n",
            "            64, 64, kernel_size=(3, 3), stride=(1, 1), padding=(1, 1), bias=False\n",
            "            (norm): FrozenBatchNorm2d(num_features=64, eps=1e-05)\n",
            "          )\n",
            "          (conv3): Conv2d(\n",
            "            64, 256, kernel_size=(1, 1), stride=(1, 1), bias=False\n",
            "            (norm): FrozenBatchNorm2d(num_features=256, eps=1e-05)\n",
            "          )\n",
            "        )\n",
            "        (2): BottleneckBlock(\n",
            "          (conv1): Conv2d(\n",
            "            256, 64, kernel_size=(1, 1), stride=(1, 1), bias=False\n",
            "            (norm): FrozenBatchNorm2d(num_features=64, eps=1e-05)\n",
            "          )\n",
            "          (conv2): Conv2d(\n",
            "            64, 64, kernel_size=(3, 3), stride=(1, 1), padding=(1, 1), bias=False\n",
            "            (norm): FrozenBatchNorm2d(num_features=64, eps=1e-05)\n",
            "          )\n",
            "          (conv3): Conv2d(\n",
            "            64, 256, kernel_size=(1, 1), stride=(1, 1), bias=False\n",
            "            (norm): FrozenBatchNorm2d(num_features=256, eps=1e-05)\n",
            "          )\n",
            "        )\n",
            "      )\n",
            "      (res3): Sequential(\n",
            "        (0): BottleneckBlock(\n",
            "          (shortcut): Conv2d(\n",
            "            256, 512, kernel_size=(1, 1), stride=(2, 2), bias=False\n",
            "            (norm): FrozenBatchNorm2d(num_features=512, eps=1e-05)\n",
            "          )\n",
            "          (conv1): Conv2d(\n",
            "            256, 128, kernel_size=(1, 1), stride=(2, 2), bias=False\n",
            "            (norm): FrozenBatchNorm2d(num_features=128, eps=1e-05)\n",
            "          )\n",
            "          (conv2): Conv2d(\n",
            "            128, 128, kernel_size=(3, 3), stride=(1, 1), padding=(1, 1), bias=False\n",
            "            (norm): FrozenBatchNorm2d(num_features=128, eps=1e-05)\n",
            "          )\n",
            "          (conv3): Conv2d(\n",
            "            128, 512, kernel_size=(1, 1), stride=(1, 1), bias=False\n",
            "            (norm): FrozenBatchNorm2d(num_features=512, eps=1e-05)\n",
            "          )\n",
            "        )\n",
            "        (1): BottleneckBlock(\n",
            "          (conv1): Conv2d(\n",
            "            512, 128, kernel_size=(1, 1), stride=(1, 1), bias=False\n",
            "            (norm): FrozenBatchNorm2d(num_features=128, eps=1e-05)\n",
            "          )\n",
            "          (conv2): Conv2d(\n",
            "            128, 128, kernel_size=(3, 3), stride=(1, 1), padding=(1, 1), bias=False\n",
            "            (norm): FrozenBatchNorm2d(num_features=128, eps=1e-05)\n",
            "          )\n",
            "          (conv3): Conv2d(\n",
            "            128, 512, kernel_size=(1, 1), stride=(1, 1), bias=False\n",
            "            (norm): FrozenBatchNorm2d(num_features=512, eps=1e-05)\n",
            "          )\n",
            "        )\n",
            "        (2): BottleneckBlock(\n",
            "          (conv1): Conv2d(\n",
            "            512, 128, kernel_size=(1, 1), stride=(1, 1), bias=False\n",
            "            (norm): FrozenBatchNorm2d(num_features=128, eps=1e-05)\n",
            "          )\n",
            "          (conv2): Conv2d(\n",
            "            128, 128, kernel_size=(3, 3), stride=(1, 1), padding=(1, 1), bias=False\n",
            "            (norm): FrozenBatchNorm2d(num_features=128, eps=1e-05)\n",
            "          )\n",
            "          (conv3): Conv2d(\n",
            "            128, 512, kernel_size=(1, 1), stride=(1, 1), bias=False\n",
            "            (norm): FrozenBatchNorm2d(num_features=512, eps=1e-05)\n",
            "          )\n",
            "        )\n",
            "        (3): BottleneckBlock(\n",
            "          (conv1): Conv2d(\n",
            "            512, 128, kernel_size=(1, 1), stride=(1, 1), bias=False\n",
            "            (norm): FrozenBatchNorm2d(num_features=128, eps=1e-05)\n",
            "          )\n",
            "          (conv2): Conv2d(\n",
            "            128, 128, kernel_size=(3, 3), stride=(1, 1), padding=(1, 1), bias=False\n",
            "            (norm): FrozenBatchNorm2d(num_features=128, eps=1e-05)\n",
            "          )\n",
            "          (conv3): Conv2d(\n",
            "            128, 512, kernel_size=(1, 1), stride=(1, 1), bias=False\n",
            "            (norm): FrozenBatchNorm2d(num_features=512, eps=1e-05)\n",
            "          )\n",
            "        )\n",
            "      )\n",
            "      (res4): Sequential(\n",
            "        (0): BottleneckBlock(\n",
            "          (shortcut): Conv2d(\n",
            "            512, 1024, kernel_size=(1, 1), stride=(2, 2), bias=False\n",
            "            (norm): FrozenBatchNorm2d(num_features=1024, eps=1e-05)\n",
            "          )\n",
            "          (conv1): Conv2d(\n",
            "            512, 256, kernel_size=(1, 1), stride=(2, 2), bias=False\n",
            "            (norm): FrozenBatchNorm2d(num_features=256, eps=1e-05)\n",
            "          )\n",
            "          (conv2): Conv2d(\n",
            "            256, 256, kernel_size=(3, 3), stride=(1, 1), padding=(1, 1), bias=False\n",
            "            (norm): FrozenBatchNorm2d(num_features=256, eps=1e-05)\n",
            "          )\n",
            "          (conv3): Conv2d(\n",
            "            256, 1024, kernel_size=(1, 1), stride=(1, 1), bias=False\n",
            "            (norm): FrozenBatchNorm2d(num_features=1024, eps=1e-05)\n",
            "          )\n",
            "        )\n",
            "        (1): BottleneckBlock(\n",
            "          (conv1): Conv2d(\n",
            "            1024, 256, kernel_size=(1, 1), stride=(1, 1), bias=False\n",
            "            (norm): FrozenBatchNorm2d(num_features=256, eps=1e-05)\n",
            "          )\n",
            "          (conv2): Conv2d(\n",
            "            256, 256, kernel_size=(3, 3), stride=(1, 1), padding=(1, 1), bias=False\n",
            "            (norm): FrozenBatchNorm2d(num_features=256, eps=1e-05)\n",
            "          )\n",
            "          (conv3): Conv2d(\n",
            "            256, 1024, kernel_size=(1, 1), stride=(1, 1), bias=False\n",
            "            (norm): FrozenBatchNorm2d(num_features=1024, eps=1e-05)\n",
            "          )\n",
            "        )\n",
            "        (2): BottleneckBlock(\n",
            "          (conv1): Conv2d(\n",
            "            1024, 256, kernel_size=(1, 1), stride=(1, 1), bias=False\n",
            "            (norm): FrozenBatchNorm2d(num_features=256, eps=1e-05)\n",
            "          )\n",
            "          (conv2): Conv2d(\n",
            "            256, 256, kernel_size=(3, 3), stride=(1, 1), padding=(1, 1), bias=False\n",
            "            (norm): FrozenBatchNorm2d(num_features=256, eps=1e-05)\n",
            "          )\n",
            "          (conv3): Conv2d(\n",
            "            256, 1024, kernel_size=(1, 1), stride=(1, 1), bias=False\n",
            "            (norm): FrozenBatchNorm2d(num_features=1024, eps=1e-05)\n",
            "          )\n",
            "        )\n",
            "        (3): BottleneckBlock(\n",
            "          (conv1): Conv2d(\n",
            "            1024, 256, kernel_size=(1, 1), stride=(1, 1), bias=False\n",
            "            (norm): FrozenBatchNorm2d(num_features=256, eps=1e-05)\n",
            "          )\n",
            "          (conv2): Conv2d(\n",
            "            256, 256, kernel_size=(3, 3), stride=(1, 1), padding=(1, 1), bias=False\n",
            "            (norm): FrozenBatchNorm2d(num_features=256, eps=1e-05)\n",
            "          )\n",
            "          (conv3): Conv2d(\n",
            "            256, 1024, kernel_size=(1, 1), stride=(1, 1), bias=False\n",
            "            (norm): FrozenBatchNorm2d(num_features=1024, eps=1e-05)\n",
            "          )\n",
            "        )\n",
            "        (4): BottleneckBlock(\n",
            "          (conv1): Conv2d(\n",
            "            1024, 256, kernel_size=(1, 1), stride=(1, 1), bias=False\n",
            "            (norm): FrozenBatchNorm2d(num_features=256, eps=1e-05)\n",
            "          )\n",
            "          (conv2): Conv2d(\n",
            "            256, 256, kernel_size=(3, 3), stride=(1, 1), padding=(1, 1), bias=False\n",
            "            (norm): FrozenBatchNorm2d(num_features=256, eps=1e-05)\n",
            "          )\n",
            "          (conv3): Conv2d(\n",
            "            256, 1024, kernel_size=(1, 1), stride=(1, 1), bias=False\n",
            "            (norm): FrozenBatchNorm2d(num_features=1024, eps=1e-05)\n",
            "          )\n",
            "        )\n",
            "        (5): BottleneckBlock(\n",
            "          (conv1): Conv2d(\n",
            "            1024, 256, kernel_size=(1, 1), stride=(1, 1), bias=False\n",
            "            (norm): FrozenBatchNorm2d(num_features=256, eps=1e-05)\n",
            "          )\n",
            "          (conv2): Conv2d(\n",
            "            256, 256, kernel_size=(3, 3), stride=(1, 1), padding=(1, 1), bias=False\n",
            "            (norm): FrozenBatchNorm2d(num_features=256, eps=1e-05)\n",
            "          )\n",
            "          (conv3): Conv2d(\n",
            "            256, 1024, kernel_size=(1, 1), stride=(1, 1), bias=False\n",
            "            (norm): FrozenBatchNorm2d(num_features=1024, eps=1e-05)\n",
            "          )\n",
            "        )\n",
            "      )\n",
            "      (res5): Sequential(\n",
            "        (0): BottleneckBlock(\n",
            "          (shortcut): Conv2d(\n",
            "            1024, 2048, kernel_size=(1, 1), stride=(2, 2), bias=False\n",
            "            (norm): FrozenBatchNorm2d(num_features=2048, eps=1e-05)\n",
            "          )\n",
            "          (conv1): Conv2d(\n",
            "            1024, 512, kernel_size=(1, 1), stride=(2, 2), bias=False\n",
            "            (norm): FrozenBatchNorm2d(num_features=512, eps=1e-05)\n",
            "          )\n",
            "          (conv2): Conv2d(\n",
            "            512, 512, kernel_size=(3, 3), stride=(1, 1), padding=(1, 1), bias=False\n",
            "            (norm): FrozenBatchNorm2d(num_features=512, eps=1e-05)\n",
            "          )\n",
            "          (conv3): Conv2d(\n",
            "            512, 2048, kernel_size=(1, 1), stride=(1, 1), bias=False\n",
            "            (norm): FrozenBatchNorm2d(num_features=2048, eps=1e-05)\n",
            "          )\n",
            "        )\n",
            "        (1): BottleneckBlock(\n",
            "          (conv1): Conv2d(\n",
            "            2048, 512, kernel_size=(1, 1), stride=(1, 1), bias=False\n",
            "            (norm): FrozenBatchNorm2d(num_features=512, eps=1e-05)\n",
            "          )\n",
            "          (conv2): Conv2d(\n",
            "            512, 512, kernel_size=(3, 3), stride=(1, 1), padding=(1, 1), bias=False\n",
            "            (norm): FrozenBatchNorm2d(num_features=512, eps=1e-05)\n",
            "          )\n",
            "          (conv3): Conv2d(\n",
            "            512, 2048, kernel_size=(1, 1), stride=(1, 1), bias=False\n",
            "            (norm): FrozenBatchNorm2d(num_features=2048, eps=1e-05)\n",
            "          )\n",
            "        )\n",
            "        (2): BottleneckBlock(\n",
            "          (conv1): Conv2d(\n",
            "            2048, 512, kernel_size=(1, 1), stride=(1, 1), bias=False\n",
            "            (norm): FrozenBatchNorm2d(num_features=512, eps=1e-05)\n",
            "          )\n",
            "          (conv2): Conv2d(\n",
            "            512, 512, kernel_size=(3, 3), stride=(1, 1), padding=(1, 1), bias=False\n",
            "            (norm): FrozenBatchNorm2d(num_features=512, eps=1e-05)\n",
            "          )\n",
            "          (conv3): Conv2d(\n",
            "            512, 2048, kernel_size=(1, 1), stride=(1, 1), bias=False\n",
            "            (norm): FrozenBatchNorm2d(num_features=2048, eps=1e-05)\n",
            "          )\n",
            "        )\n",
            "      )\n",
            "    )\n",
            "  )\n",
            "  (proposal_generator): RPN(\n",
            "    (rpn_head): StandardRPNHead(\n",
            "      (conv): Conv2d(\n",
            "        256, 256, kernel_size=(3, 3), stride=(1, 1), padding=(1, 1)\n",
            "        (activation): ReLU()\n",
            "      )\n",
            "      (objectness_logits): Conv2d(256, 3, kernel_size=(1, 1), stride=(1, 1))\n",
            "      (anchor_deltas): Conv2d(256, 12, kernel_size=(1, 1), stride=(1, 1))\n",
            "    )\n",
            "    (anchor_generator): DefaultAnchorGenerator(\n",
            "      (cell_anchors): BufferList()\n",
            "    )\n",
            "  )\n",
            "  (roi_heads): StandardROIHeads(\n",
            "    (box_pooler): ROIPooler(\n",
            "      (level_poolers): ModuleList(\n",
            "        (0): ROIAlign(output_size=(7, 7), spatial_scale=0.25, sampling_ratio=0, aligned=True)\n",
            "        (1): ROIAlign(output_size=(7, 7), spatial_scale=0.125, sampling_ratio=0, aligned=True)\n",
            "        (2): ROIAlign(output_size=(7, 7), spatial_scale=0.0625, sampling_ratio=0, aligned=True)\n",
            "        (3): ROIAlign(output_size=(7, 7), spatial_scale=0.03125, sampling_ratio=0, aligned=True)\n",
            "      )\n",
            "    )\n",
            "    (box_head): FastRCNNConvFCHead(\n",
            "      (flatten): Flatten(start_dim=1, end_dim=-1)\n",
            "      (fc1): Linear(in_features=12544, out_features=1024, bias=True)\n",
            "      (fc_relu1): ReLU()\n",
            "      (fc2): Linear(in_features=1024, out_features=1024, bias=True)\n",
            "      (fc_relu2): ReLU()\n",
            "    )\n",
            "    (box_predictor): FastRCNNOutputLayers(\n",
            "      (cls_score): Linear(in_features=1024, out_features=16, bias=True)\n",
            "      (bbox_pred): Linear(in_features=1024, out_features=60, bias=True)\n",
            "    )\n",
            "    (mask_pooler): ROIPooler(\n",
            "      (level_poolers): ModuleList(\n",
            "        (0): ROIAlign(output_size=(14, 14), spatial_scale=0.25, sampling_ratio=0, aligned=True)\n",
            "        (1): ROIAlign(output_size=(14, 14), spatial_scale=0.125, sampling_ratio=0, aligned=True)\n",
            "        (2): ROIAlign(output_size=(14, 14), spatial_scale=0.0625, sampling_ratio=0, aligned=True)\n",
            "        (3): ROIAlign(output_size=(14, 14), spatial_scale=0.03125, sampling_ratio=0, aligned=True)\n",
            "      )\n",
            "    )\n",
            "    (mask_head): MaskRCNNConvUpsampleHead(\n",
            "      (mask_fcn1): Conv2d(\n",
            "        256, 256, kernel_size=(3, 3), stride=(1, 1), padding=(1, 1)\n",
            "        (activation): ReLU()\n",
            "      )\n",
            "      (mask_fcn2): Conv2d(\n",
            "        256, 256, kernel_size=(3, 3), stride=(1, 1), padding=(1, 1)\n",
            "        (activation): ReLU()\n",
            "      )\n",
            "      (mask_fcn3): Conv2d(\n",
            "        256, 256, kernel_size=(3, 3), stride=(1, 1), padding=(1, 1)\n",
            "        (activation): ReLU()\n",
            "      )\n",
            "      (mask_fcn4): Conv2d(\n",
            "        256, 256, kernel_size=(3, 3), stride=(1, 1), padding=(1, 1)\n",
            "        (activation): ReLU()\n",
            "      )\n",
            "      (deconv): ConvTranspose2d(256, 256, kernel_size=(2, 2), stride=(2, 2))\n",
            "      (deconv_relu): ReLU()\n",
            "      (predictor): Conv2d(256, 15, kernel_size=(1, 1), stride=(1, 1))\n",
            "    )\n",
            "  )\n",
            ")\n",
            "[02/22 08:36:52 d2.data.datasets.coco]: Loaded 5913 images in COCO format from images.json\n",
            "[02/22 08:36:52 d2.data.build]: Removed 0 images with no usable annotations. 5913 images left.\n",
            "[02/22 08:36:53 d2.data.build]: Distribution of instances among all 15 categories:\n",
            "|  category  | #instances   |   category   | #instances   |  category  | #instances   |\n",
            "|:----------:|:-------------|:------------:|:-------------|:----------:|:-------------|\n",
            "|  football  | 632          |     bird     | 2223         |   laptop   | 1150         |\n",
            "|   person   | 1679         | traffic sign | 1143         |   shirt    | 905          |\n",
            "|  football  | 0            |   mushroom   | 1250         |   pizza    | 850          |\n",
            "|   zebra    | 627          |     jug      | 504          |   rocket   | 534          |\n",
            "|    dog     | 844          |   elephant   | 1221         | watermelon | 528          |\n",
            "|            |              |              |              |            |              |\n",
            "|   total    | 14090        |              |              |            |              |\n",
            "[02/22 08:36:53 d2.data.dataset_mapper]: [DatasetMapper] Augmentations used in training: [ResizeShortestEdge(short_edge_length=(640, 672, 704, 736, 768, 800), max_size=1333, sample_style='choice'), RandomFlip()]\n",
            "[02/22 08:36:53 d2.data.build]: Using training sampler TrainingSampler\n",
            "[02/22 08:36:53 d2.data.common]: Serializing the dataset using: <class 'detectron2.data.common._TorchSerializedList'>\n",
            "[02/22 08:36:53 d2.data.common]: Serializing 5913 elements to byte tensors and concatenating them all ...\n",
            "[02/22 08:36:53 d2.data.common]: Serialized dataset takes 15.45 MiB\n",
            "WARNING [02/22 08:36:53 d2.solver.build]: SOLVER.STEPS contains values larger than SOLVER.MAX_ITER. These values will be ignored.\n",
            "[02/22 08:36:59 d2.checkpoint.detection_checkpoint]: [DetectionCheckpointer] Loading from https://dl.fbaipublicfiles.com/detectron2/COCO-InstanceSegmentation/mask_rcnn_R_50_FPN_3x/137849600/model_final_f10217.pkl ...\n"
          ]
        },
        {
          "name": "stderr",
          "output_type": "stream",
          "text": [
            "model_final_f10217.pkl: 178MB [00:03, 51.7MB/s]                           \n",
            "WARNING:fvcore.common.checkpoint:Skip loading parameter 'roi_heads.box_predictor.cls_score.weight' to the model due to incompatible shapes: (81, 1024) in the checkpoint but (16, 1024) in the model! You might want to double check if this is expected.\n",
            "WARNING:fvcore.common.checkpoint:Skip loading parameter 'roi_heads.box_predictor.cls_score.bias' to the model due to incompatible shapes: (81,) in the checkpoint but (16,) in the model! You might want to double check if this is expected.\n",
            "WARNING:fvcore.common.checkpoint:Skip loading parameter 'roi_heads.box_predictor.bbox_pred.weight' to the model due to incompatible shapes: (320, 1024) in the checkpoint but (60, 1024) in the model! You might want to double check if this is expected.\n",
            "WARNING:fvcore.common.checkpoint:Skip loading parameter 'roi_heads.box_predictor.bbox_pred.bias' to the model due to incompatible shapes: (320,) in the checkpoint but (60,) in the model! You might want to double check if this is expected.\n",
            "WARNING:fvcore.common.checkpoint:Skip loading parameter 'roi_heads.mask_head.predictor.weight' to the model due to incompatible shapes: (80, 256, 1, 1) in the checkpoint but (15, 256, 1, 1) in the model! You might want to double check if this is expected.\n",
            "WARNING:fvcore.common.checkpoint:Skip loading parameter 'roi_heads.mask_head.predictor.bias' to the model due to incompatible shapes: (80,) in the checkpoint but (15,) in the model! You might want to double check if this is expected.\n",
            "WARNING:fvcore.common.checkpoint:Some model parameters or buffers are not found in the checkpoint:\n",
            "roi_heads.box_predictor.bbox_pred.{bias, weight}\n",
            "roi_heads.box_predictor.cls_score.{bias, weight}\n",
            "roi_heads.mask_head.predictor.{bias, weight}\n"
          ]
        },
        {
          "name": "stdout",
          "output_type": "stream",
          "text": [
            "[02/22 08:37:05 d2.engine.train_loop]: Starting training from iteration 0\n"
          ]
        },
        {
          "name": "stderr",
          "output_type": "stream",
          "text": [
            "/usr/local/lib/python3.8/dist-packages/torch/functional.py:504: UserWarning: torch.meshgrid: in an upcoming release, it will be required to pass the indexing argument. (Triggered internally at ../aten/src/ATen/native/TensorShape.cpp:3190.)\n",
            "  return _VF.meshgrid(tensors, **kwargs)  # type: ignore[attr-defined]\n"
          ]
        },
        {
          "name": "stdout",
          "output_type": "stream",
          "text": [
            "[02/22 08:37:23 d2.utils.events]:  eta: 0:38:12  iter: 19  total_loss: 3.909  loss_cls: 2.967  loss_box_reg: 0.1012  loss_mask: 0.6934  loss_rpn_cls: 0.09401  loss_rpn_loc: 0.0206  time: 0.4669  last_time: 0.4531  data_time: 0.0289  last_data_time: 0.0205   lr: 4.9953e-06  max_mem: 2551M\n",
            "[02/22 08:37:33 d2.utils.events]:  eta: 0:40:15  iter: 39  total_loss: 3.819  loss_cls: 2.855  loss_box_reg: 0.1134  loss_mask: 0.6921  loss_rpn_cls: 0.1184  loss_rpn_loc: 0.02273  time: 0.4808  last_time: 0.5358  data_time: 0.0096  last_data_time: 0.0070   lr: 9.9902e-06  max_mem: 2765M\n",
            "[02/22 08:37:43 d2.utils.events]:  eta: 0:40:06  iter: 59  total_loss: 3.48  loss_cls: 2.549  loss_box_reg: 0.07645  loss_mask: 0.6923  loss_rpn_cls: 0.09174  loss_rpn_loc: 0.01672  time: 0.4833  last_time: 0.4094  data_time: 0.0137  last_data_time: 0.0062   lr: 1.4985e-05  max_mem: 2765M\n",
            "[02/22 08:37:53 d2.utils.events]:  eta: 0:40:27  iter: 79  total_loss: 3.059  loss_cls: 2.139  loss_box_reg: 0.1448  loss_mask: 0.6904  loss_rpn_cls: 0.06648  loss_rpn_loc: 0.01131  time: 0.4854  last_time: 0.4265  data_time: 0.0087  last_data_time: 0.0049   lr: 1.998e-05  max_mem: 2765M\n",
            "[02/22 08:38:02 d2.utils.events]:  eta: 0:40:16  iter: 99  total_loss: 2.436  loss_cls: 1.486  loss_box_reg: 0.09641  loss_mask: 0.6893  loss_rpn_cls: 0.07051  loss_rpn_loc: 0.02029  time: 0.4837  last_time: 0.6165  data_time: 0.0101  last_data_time: 0.0350   lr: 2.4975e-05  max_mem: 2765M\n",
            "[02/22 08:38:12 d2.utils.events]:  eta: 0:40:05  iter: 119  total_loss: 1.861  loss_cls: 0.9358  loss_box_reg: 0.09954  loss_mask: 0.6865  loss_rpn_cls: 0.0418  loss_rpn_loc: 0.01635  time: 0.4842  last_time: 0.4552  data_time: 0.0112  last_data_time: 0.0160   lr: 2.997e-05  max_mem: 2765M\n",
            "[02/22 08:38:22 d2.utils.events]:  eta: 0:39:57  iter: 139  total_loss: 1.555  loss_cls: 0.6161  loss_box_reg: 0.146  loss_mask: 0.6804  loss_rpn_cls: 0.03336  loss_rpn_loc: 0.01303  time: 0.4853  last_time: 0.4980  data_time: 0.0122  last_data_time: 0.0075   lr: 3.4965e-05  max_mem: 2765M\n",
            "[02/22 08:38:32 d2.utils.events]:  eta: 0:39:50  iter: 159  total_loss: 1.264  loss_cls: 0.388  loss_box_reg: 0.1319  loss_mask: 0.6792  loss_rpn_cls: 0.01936  loss_rpn_loc: 0.01476  time: 0.4882  last_time: 0.5383  data_time: 0.0092  last_data_time: 0.0044   lr: 3.996e-05  max_mem: 2765M\n",
            "[02/22 08:38:42 d2.utils.events]:  eta: 0:39:40  iter: 179  total_loss: 1.112  loss_cls: 0.2544  loss_box_reg: 0.1015  loss_mask: 0.6715  loss_rpn_cls: 0.04353  loss_rpn_loc: 0.01078  time: 0.4879  last_time: 0.5786  data_time: 0.0105  last_data_time: 0.0189   lr: 4.4955e-05  max_mem: 2765M\n",
            "[02/22 08:38:52 d2.utils.events]:  eta: 0:39:38  iter: 199  total_loss: 1.243  loss_cls: 0.2885  loss_box_reg: 0.123  loss_mask: 0.6663  loss_rpn_cls: 0.06816  loss_rpn_loc: 0.01486  time: 0.4916  last_time: 0.5818  data_time: 0.0116  last_data_time: 0.0073   lr: 4.995e-05  max_mem: 2765M\n",
            "[02/22 08:39:03 d2.utils.events]:  eta: 0:39:35  iter: 219  total_loss: 1.146  loss_cls: 0.287  loss_box_reg: 0.1563  loss_mask: 0.6532  loss_rpn_cls: 0.03574  loss_rpn_loc: 0.01061  time: 0.4936  last_time: 0.5790  data_time: 0.0091  last_data_time: 0.0063   lr: 5.4945e-05  max_mem: 2765M\n",
            "[02/22 08:39:13 d2.utils.events]:  eta: 0:39:24  iter: 239  total_loss: 1.127  loss_cls: 0.2093  loss_box_reg: 0.09389  loss_mask: 0.6659  loss_rpn_cls: 0.07879  loss_rpn_loc: 0.01318  time: 0.4946  last_time: 0.4270  data_time: 0.0092  last_data_time: 0.0145   lr: 5.994e-05  max_mem: 2765M\n",
            "[02/22 08:39:23 d2.utils.events]:  eta: 0:39:19  iter: 259  total_loss: 0.9918  loss_cls: 0.1663  loss_box_reg: 0.1186  loss_mask: 0.641  loss_rpn_cls: 0.04571  loss_rpn_loc: 0.01206  time: 0.4971  last_time: 0.5354  data_time: 0.0109  last_data_time: 0.0069   lr: 6.4935e-05  max_mem: 2765M\n",
            "[02/22 08:39:34 d2.utils.events]:  eta: 0:39:21  iter: 279  total_loss: 1.207  loss_cls: 0.2868  loss_box_reg: 0.2312  loss_mask: 0.6415  loss_rpn_cls: 0.05759  loss_rpn_loc: 0.01377  time: 0.4997  last_time: 0.5331  data_time: 0.0107  last_data_time: 0.0077   lr: 6.993e-05  max_mem: 2765M\n",
            "[02/22 08:39:44 d2.utils.events]:  eta: 0:39:34  iter: 299  total_loss: 1.043  loss_cls: 0.201  loss_box_reg: 0.1243  loss_mask: 0.6436  loss_rpn_cls: 0.03255  loss_rpn_loc: 0.01309  time: 0.5011  last_time: 0.5731  data_time: 0.0111  last_data_time: 0.0074   lr: 7.4925e-05  max_mem: 2765M\n",
            "[02/22 08:39:55 d2.utils.events]:  eta: 0:39:34  iter: 319  total_loss: 1.075  loss_cls: 0.2246  loss_box_reg: 0.1472  loss_mask: 0.6416  loss_rpn_cls: 0.02206  loss_rpn_loc: 0.01455  time: 0.5039  last_time: 0.6024  data_time: 0.0123  last_data_time: 0.0236   lr: 7.992e-05  max_mem: 2765M\n",
            "[02/22 08:40:06 d2.utils.events]:  eta: 0:39:29  iter: 339  total_loss: 1.283  loss_cls: 0.2775  loss_box_reg: 0.2107  loss_mask: 0.6291  loss_rpn_cls: 0.0384  loss_rpn_loc: 0.01432  time: 0.5050  last_time: 0.5432  data_time: 0.0110  last_data_time: 0.0074   lr: 8.4915e-05  max_mem: 2765M\n",
            "[02/22 08:40:16 d2.utils.events]:  eta: 0:39:23  iter: 359  total_loss: 1.026  loss_cls: 0.2032  loss_box_reg: 0.1123  loss_mask: 0.6297  loss_rpn_cls: 0.07134  loss_rpn_loc: 0.01251  time: 0.5058  last_time: 0.5155  data_time: 0.0111  last_data_time: 0.0062   lr: 8.991e-05  max_mem: 2765M\n",
            "[02/22 08:40:26 d2.utils.events]:  eta: 0:39:12  iter: 379  total_loss: 1.203  loss_cls: 0.2841  loss_box_reg: 0.1997  loss_mask: 0.6221  loss_rpn_cls: 0.05358  loss_rpn_loc: 0.01696  time: 0.5060  last_time: 0.5268  data_time: 0.0096  last_data_time: 0.0092   lr: 9.4905e-05  max_mem: 2765M\n",
            "[02/22 08:40:37 d2.utils.events]:  eta: 0:39:04  iter: 399  total_loss: 1.041  loss_cls: 0.221  loss_box_reg: 0.1339  loss_mask: 0.573  loss_rpn_cls: 0.04157  loss_rpn_loc: 0.01921  time: 0.5068  last_time: 0.5435  data_time: 0.0081  last_data_time: 0.0073   lr: 9.99e-05  max_mem: 2765M\n",
            "[02/22 08:40:47 d2.utils.events]:  eta: 0:38:55  iter: 419  total_loss: 0.9634  loss_cls: 0.1745  loss_box_reg: 0.1089  loss_mask: 0.5791  loss_rpn_cls: 0.01751  loss_rpn_loc: 0.00938  time: 0.5071  last_time: 0.5134  data_time: 0.0080  last_data_time: 0.0057   lr: 0.0001049  max_mem: 2765M\n",
            "[02/22 08:40:58 d2.utils.events]:  eta: 0:38:49  iter: 439  total_loss: 0.9512  loss_cls: 0.2291  loss_box_reg: 0.1343  loss_mask: 0.6037  loss_rpn_cls: 0.04319  loss_rpn_loc: 0.01176  time: 0.5094  last_time: 0.5598  data_time: 0.0128  last_data_time: 0.0069   lr: 0.00010989  max_mem: 2765M\n",
            "[02/22 08:41:09 d2.utils.events]:  eta: 0:38:41  iter: 459  total_loss: 1.003  loss_cls: 0.2277  loss_box_reg: 0.1724  loss_mask: 0.5852  loss_rpn_cls: 0.03124  loss_rpn_loc: 0.01148  time: 0.5102  last_time: 0.4942  data_time: 0.0109  last_data_time: 0.0089   lr: 0.00011489  max_mem: 2765M\n",
            "[02/22 08:41:19 d2.utils.events]:  eta: 0:38:31  iter: 479  total_loss: 1.077  loss_cls: 0.1946  loss_box_reg: 0.136  loss_mask: 0.5956  loss_rpn_cls: 0.04456  loss_rpn_loc: 0.01872  time: 0.5110  last_time: 0.5505  data_time: 0.0104  last_data_time: 0.0184   lr: 0.00011988  max_mem: 2765M\n",
            "[02/22 08:41:30 d2.utils.events]:  eta: 0:38:22  iter: 499  total_loss: 0.9417  loss_cls: 0.1692  loss_box_reg: 0.1082  loss_mask: 0.5715  loss_rpn_cls: 0.02978  loss_rpn_loc: 0.01117  time: 0.5112  last_time: 0.5138  data_time: 0.0122  last_data_time: 0.0110   lr: 0.00012488  max_mem: 2765M\n",
            "[02/22 08:41:40 d2.utils.events]:  eta: 0:38:11  iter: 519  total_loss: 0.8553  loss_cls: 0.1606  loss_box_reg: 0.1048  loss_mask: 0.5574  loss_rpn_cls: 0.02994  loss_rpn_loc: 0.01006  time: 0.5107  last_time: 0.4381  data_time: 0.0109  last_data_time: 0.0098   lr: 0.00012987  max_mem: 2765M\n",
            "[02/22 08:41:50 d2.utils.events]:  eta: 0:38:04  iter: 539  total_loss: 0.987  loss_cls: 0.2005  loss_box_reg: 0.1439  loss_mask: 0.5794  loss_rpn_cls: 0.03372  loss_rpn_loc: 0.0113  time: 0.5111  last_time: 0.5397  data_time: 0.0112  last_data_time: 0.0061   lr: 0.00013487  max_mem: 2765M\n",
            "[02/22 08:42:01 d2.utils.events]:  eta: 0:37:57  iter: 559  total_loss: 0.9582  loss_cls: 0.1966  loss_box_reg: 0.1115  loss_mask: 0.5184  loss_rpn_cls: 0.05665  loss_rpn_loc: 0.0122  time: 0.5114  last_time: 0.3885  data_time: 0.0091  last_data_time: 0.0037   lr: 0.00013986  max_mem: 2765M\n",
            "[02/22 08:42:11 d2.utils.events]:  eta: 0:37:50  iter: 579  total_loss: 0.9953  loss_cls: 0.1694  loss_box_reg: 0.1073  loss_mask: 0.5232  loss_rpn_cls: 0.02459  loss_rpn_loc: 0.01783  time: 0.5119  last_time: 0.5812  data_time: 0.0103  last_data_time: 0.0060   lr: 0.00014486  max_mem: 2765M\n",
            "[02/22 08:42:22 d2.utils.events]:  eta: 0:37:40  iter: 599  total_loss: 0.8917  loss_cls: 0.1942  loss_box_reg: 0.1484  loss_mask: 0.501  loss_rpn_cls: 0.01974  loss_rpn_loc: 0.01018  time: 0.5123  last_time: 0.5137  data_time: 0.0117  last_data_time: 0.0039   lr: 0.00014985  max_mem: 2765M\n",
            "[02/22 08:42:32 d2.utils.events]:  eta: 0:37:32  iter: 619  total_loss: 0.8903  loss_cls: 0.1565  loss_box_reg: 0.1122  loss_mask: 0.5441  loss_rpn_cls: 0.03159  loss_rpn_loc: 0.01207  time: 0.5130  last_time: 0.5175  data_time: 0.0119  last_data_time: 0.0098   lr: 0.00015485  max_mem: 2765M\n",
            "[02/22 08:42:43 d2.utils.events]:  eta: 0:37:20  iter: 639  total_loss: 1.162  loss_cls: 0.2588  loss_box_reg: 0.2185  loss_mask: 0.5071  loss_rpn_cls: 0.04708  loss_rpn_loc: 0.02401  time: 0.5135  last_time: 0.5037  data_time: 0.0108  last_data_time: 0.0144   lr: 0.00015984  max_mem: 2765M\n",
            "[02/22 08:42:53 d2.utils.events]:  eta: 0:37:13  iter: 659  total_loss: 0.8526  loss_cls: 0.2161  loss_box_reg: 0.1551  loss_mask: 0.4411  loss_rpn_cls: 0.02467  loss_rpn_loc: 0.01303  time: 0.5138  last_time: 0.4911  data_time: 0.0084  last_data_time: 0.0111   lr: 0.00016484  max_mem: 2765M\n",
            "[02/22 08:43:04 d2.utils.events]:  eta: 0:37:03  iter: 679  total_loss: 1.013  loss_cls: 0.255  loss_box_reg: 0.1875  loss_mask: 0.5414  loss_rpn_cls: 0.04458  loss_rpn_loc: 0.01662  time: 0.5143  last_time: 0.4879  data_time: 0.0119  last_data_time: 0.0219   lr: 0.00016983  max_mem: 2765M\n",
            "[02/22 08:43:15 d2.utils.events]:  eta: 0:36:56  iter: 699  total_loss: 0.9152  loss_cls: 0.1543  loss_box_reg: 0.1155  loss_mask: 0.5419  loss_rpn_cls: 0.02757  loss_rpn_loc: 0.01472  time: 0.5149  last_time: 0.5898  data_time: 0.0108  last_data_time: 0.0199   lr: 0.00017483  max_mem: 2765M\n",
            "[02/22 08:43:25 d2.utils.events]:  eta: 0:36:43  iter: 719  total_loss: 0.9599  loss_cls: 0.1997  loss_box_reg: 0.1465  loss_mask: 0.5403  loss_rpn_cls: 0.04357  loss_rpn_loc: 0.01756  time: 0.5148  last_time: 0.4532  data_time: 0.0110  last_data_time: 0.0056   lr: 0.00017982  max_mem: 2765M\n",
            "[02/22 08:43:35 d2.utils.events]:  eta: 0:36:34  iter: 739  total_loss: 0.9349  loss_cls: 0.1602  loss_box_reg: 0.1189  loss_mask: 0.4838  loss_rpn_cls: 0.0347  loss_rpn_loc: 0.01209  time: 0.5146  last_time: 0.5253  data_time: 0.0104  last_data_time: 0.0095   lr: 0.00018482  max_mem: 2765M\n",
            "[02/22 08:43:46 d2.utils.events]:  eta: 0:36:27  iter: 759  total_loss: 0.9121  loss_cls: 0.1885  loss_box_reg: 0.1383  loss_mask: 0.5384  loss_rpn_cls: 0.03112  loss_rpn_loc: 0.01284  time: 0.5151  last_time: 0.5435  data_time: 0.0105  last_data_time: 0.0122   lr: 0.00018981  max_mem: 2765M\n",
            "[02/22 08:43:57 d2.utils.events]:  eta: 0:36:21  iter: 779  total_loss: 0.8199  loss_cls: 0.1499  loss_box_reg: 0.1236  loss_mask: 0.461  loss_rpn_cls: 0.03418  loss_rpn_loc: 0.01384  time: 0.5157  last_time: 0.5630  data_time: 0.0156  last_data_time: 0.0233   lr: 0.00019481  max_mem: 2765M\n",
            "[02/22 08:44:07 d2.utils.events]:  eta: 0:36:12  iter: 799  total_loss: 0.9401  loss_cls: 0.1799  loss_box_reg: 0.1611  loss_mask: 0.4881  loss_rpn_cls: 0.03832  loss_rpn_loc: 0.01191  time: 0.5161  last_time: 0.5700  data_time: 0.0110  last_data_time: 0.0146   lr: 0.0001998  max_mem: 2765M\n",
            "[02/22 08:44:18 d2.utils.events]:  eta: 0:36:00  iter: 819  total_loss: 0.8945  loss_cls: 0.1241  loss_box_reg: 0.09886  loss_mask: 0.5032  loss_rpn_cls: 0.04356  loss_rpn_loc: 0.01864  time: 0.5160  last_time: 0.5857  data_time: 0.0107  last_data_time: 0.0061   lr: 0.0002048  max_mem: 2765M\n",
            "[02/22 08:44:28 d2.utils.events]:  eta: 0:35:51  iter: 839  total_loss: 0.7811  loss_cls: 0.1611  loss_box_reg: 0.1048  loss_mask: 0.3713  loss_rpn_cls: 0.02837  loss_rpn_loc: 0.01726  time: 0.5164  last_time: 0.4329  data_time: 0.0116  last_data_time: 0.0083   lr: 0.00020979  max_mem: 2765M\n",
            "[02/22 08:44:39 d2.utils.events]:  eta: 0:35:44  iter: 859  total_loss: 0.8902  loss_cls: 0.186  loss_box_reg: 0.1362  loss_mask: 0.484  loss_rpn_cls: 0.03217  loss_rpn_loc: 0.01422  time: 0.5171  last_time: 0.4592  data_time: 0.0153  last_data_time: 0.0072   lr: 0.00021479  max_mem: 2765M\n",
            "[02/22 08:44:50 d2.utils.events]:  eta: 0:35:36  iter: 879  total_loss: 0.8847  loss_cls: 0.1843  loss_box_reg: 0.1286  loss_mask: 0.4854  loss_rpn_cls: 0.02378  loss_rpn_loc: 0.01509  time: 0.5173  last_time: 0.4854  data_time: 0.0100  last_data_time: 0.0156   lr: 0.00021978  max_mem: 2765M\n",
            "[02/22 08:45:00 d2.utils.events]:  eta: 0:35:27  iter: 899  total_loss: 0.8116  loss_cls: 0.1511  loss_box_reg: 0.1102  loss_mask: 0.4499  loss_rpn_cls: 0.02303  loss_rpn_loc: 0.01522  time: 0.5174  last_time: 0.5361  data_time: 0.0100  last_data_time: 0.0089   lr: 0.00022478  max_mem: 2765M\n",
            "[02/22 08:45:11 d2.utils.events]:  eta: 0:35:18  iter: 919  total_loss: 0.9206  loss_cls: 0.1571  loss_box_reg: 0.1147  loss_mask: 0.5207  loss_rpn_cls: 0.02866  loss_rpn_loc: 0.01399  time: 0.5179  last_time: 0.5640  data_time: 0.0109  last_data_time: 0.0060   lr: 0.00022977  max_mem: 2765M\n",
            "[02/22 08:45:22 d2.utils.events]:  eta: 0:35:09  iter: 939  total_loss: 1.05  loss_cls: 0.2035  loss_box_reg: 0.1589  loss_mask: 0.5119  loss_rpn_cls: 0.03269  loss_rpn_loc: 0.01544  time: 0.5185  last_time: 0.5561  data_time: 0.0121  last_data_time: 0.0067   lr: 0.00023477  max_mem: 2765M\n",
            "[02/22 08:45:32 d2.utils.events]:  eta: 0:35:02  iter: 959  total_loss: 0.8801  loss_cls: 0.1974  loss_box_reg: 0.1541  loss_mask: 0.4412  loss_rpn_cls: 0.03814  loss_rpn_loc: 0.01344  time: 0.5187  last_time: 0.5665  data_time: 0.0086  last_data_time: 0.0011   lr: 0.00023976  max_mem: 2765M\n",
            "[02/22 08:45:43 d2.utils.events]:  eta: 0:34:54  iter: 979  total_loss: 0.9369  loss_cls: 0.1589  loss_box_reg: 0.1201  loss_mask: 0.4046  loss_rpn_cls: 0.024  loss_rpn_loc: 0.01201  time: 0.5191  last_time: 0.5712  data_time: 0.0098  last_data_time: 0.0102   lr: 0.00024476  max_mem: 2765M\n",
            "[02/22 08:45:54 d2.utils.events]:  eta: 0:34:44  iter: 999  total_loss: 0.9175  loss_cls: 0.1985  loss_box_reg: 0.182  loss_mask: 0.4772  loss_rpn_cls: 0.03653  loss_rpn_loc: 0.01527  time: 0.5190  last_time: 0.5706  data_time: 0.0106  last_data_time: 0.0074   lr: 0.00024975  max_mem: 2765M\n",
            "[02/22 08:46:04 d2.utils.events]:  eta: 0:34:39  iter: 1019  total_loss: 0.861  loss_cls: 0.1607  loss_box_reg: 0.1146  loss_mask: 0.4867  loss_rpn_cls: 0.02051  loss_rpn_loc: 0.01275  time: 0.5190  last_time: 0.4586  data_time: 0.0122  last_data_time: 0.0184   lr: 0.00025  max_mem: 2765M\n",
            "[02/22 08:46:14 d2.utils.events]:  eta: 0:34:31  iter: 1039  total_loss: 0.8  loss_cls: 0.1208  loss_box_reg: 0.09913  loss_mask: 0.4842  loss_rpn_cls: 0.02378  loss_rpn_loc: 0.01195  time: 0.5190  last_time: 0.4891  data_time: 0.0108  last_data_time: 0.0057   lr: 0.00025  max_mem: 2765M\n",
            "[02/22 08:46:25 d2.utils.events]:  eta: 0:34:23  iter: 1059  total_loss: 0.832  loss_cls: 0.1697  loss_box_reg: 0.1394  loss_mask: 0.4449  loss_rpn_cls: 0.01909  loss_rpn_loc: 0.006904  time: 0.5190  last_time: 0.5411  data_time: 0.0106  last_data_time: 0.0185   lr: 0.00025  max_mem: 2765M\n",
            "[02/22 08:46:35 d2.utils.events]:  eta: 0:34:15  iter: 1079  total_loss: 1.075  loss_cls: 0.2782  loss_box_reg: 0.2458  loss_mask: 0.4714  loss_rpn_cls: 0.06559  loss_rpn_loc: 0.03187  time: 0.5193  last_time: 0.5161  data_time: 0.0087  last_data_time: 0.0037   lr: 0.00025  max_mem: 2765M\n",
            "[02/22 08:46:46 d2.utils.events]:  eta: 0:34:10  iter: 1099  total_loss: 0.9216  loss_cls: 0.1872  loss_box_reg: 0.1446  loss_mask: 0.5209  loss_rpn_cls: 0.03222  loss_rpn_loc: 0.01509  time: 0.5197  last_time: 0.6025  data_time: 0.0123  last_data_time: 0.0224   lr: 0.00025  max_mem: 2765M\n",
            "[02/22 08:46:57 d2.utils.events]:  eta: 0:34:02  iter: 1119  total_loss: 0.8859  loss_cls: 0.1621  loss_box_reg: 0.1857  loss_mask: 0.4792  loss_rpn_cls: 0.02002  loss_rpn_loc: 0.01384  time: 0.5199  last_time: 0.5562  data_time: 0.0138  last_data_time: 0.0110   lr: 0.00025  max_mem: 2765M\n",
            "[02/22 08:47:08 d2.utils.events]:  eta: 0:33:55  iter: 1139  total_loss: 0.8508  loss_cls: 0.1275  loss_box_reg: 0.06951  loss_mask: 0.5266  loss_rpn_cls: 0.03997  loss_rpn_loc: 0.01102  time: 0.5204  last_time: 0.6489  data_time: 0.0132  last_data_time: 0.0278   lr: 0.00025  max_mem: 2765M\n",
            "[02/22 08:47:18 d2.utils.events]:  eta: 0:33:45  iter: 1159  total_loss: 0.9932  loss_cls: 0.2209  loss_box_reg: 0.1742  loss_mask: 0.4908  loss_rpn_cls: 0.0632  loss_rpn_loc: 0.01908  time: 0.5205  last_time: 0.5427  data_time: 0.0112  last_data_time: 0.0170   lr: 0.00025  max_mem: 2765M\n",
            "[02/22 08:47:29 d2.utils.events]:  eta: 0:33:38  iter: 1179  total_loss: 0.9186  loss_cls: 0.1687  loss_box_reg: 0.1124  loss_mask: 0.4638  loss_rpn_cls: 0.03437  loss_rpn_loc: 0.01181  time: 0.5208  last_time: 0.5896  data_time: 0.0103  last_data_time: 0.0077   lr: 0.00025  max_mem: 2765M\n",
            "[02/22 08:47:40 d2.utils.events]:  eta: 0:33:29  iter: 1199  total_loss: 0.9136  loss_cls: 0.1745  loss_box_reg: 0.1473  loss_mask: 0.5029  loss_rpn_cls: 0.02675  loss_rpn_loc: 0.01066  time: 0.5209  last_time: 0.4875  data_time: 0.0111  last_data_time: 0.0168   lr: 0.00025  max_mem: 2765M\n",
            "[02/22 08:47:50 d2.utils.events]:  eta: 0:33:22  iter: 1219  total_loss: 0.8464  loss_cls: 0.1457  loss_box_reg: 0.1262  loss_mask: 0.44  loss_rpn_cls: 0.01821  loss_rpn_loc: 0.01045  time: 0.5211  last_time: 0.5282  data_time: 0.0118  last_data_time: 0.0066   lr: 0.00025  max_mem: 2765M\n",
            "[02/22 08:48:01 d2.utils.events]:  eta: 0:33:14  iter: 1239  total_loss: 0.7883  loss_cls: 0.1264  loss_box_reg: 0.1316  loss_mask: 0.3915  loss_rpn_cls: 0.02542  loss_rpn_loc: 0.01065  time: 0.5212  last_time: 0.5790  data_time: 0.0119  last_data_time: 0.0077   lr: 0.00025  max_mem: 2765M\n",
            "[02/22 08:48:12 d2.utils.events]:  eta: 0:33:04  iter: 1259  total_loss: 0.9045  loss_cls: 0.1759  loss_box_reg: 0.164  loss_mask: 0.358  loss_rpn_cls: 0.02687  loss_rpn_loc: 0.01188  time: 0.5214  last_time: 0.4787  data_time: 0.0089  last_data_time: 0.0086   lr: 0.00025  max_mem: 2765M\n",
            "[02/22 08:48:23 d2.utils.events]:  eta: 0:32:55  iter: 1279  total_loss: 0.8982  loss_cls: 0.1852  loss_box_reg: 0.1746  loss_mask: 0.4699  loss_rpn_cls: 0.02723  loss_rpn_loc: 0.01765  time: 0.5220  last_time: 0.5909  data_time: 0.0107  last_data_time: 0.0061   lr: 0.00025  max_mem: 2765M\n",
            "[02/22 08:48:34 d2.utils.events]:  eta: 0:32:45  iter: 1299  total_loss: 0.8747  loss_cls: 0.1552  loss_box_reg: 0.158  loss_mask: 0.4813  loss_rpn_cls: 0.02344  loss_rpn_loc: 0.01499  time: 0.5223  last_time: 0.5140  data_time: 0.0141  last_data_time: 0.0067   lr: 0.00025  max_mem: 2765M\n",
            "[02/22 08:48:44 d2.utils.events]:  eta: 0:32:34  iter: 1319  total_loss: 0.9185  loss_cls: 0.1494  loss_box_reg: 0.1659  loss_mask: 0.4215  loss_rpn_cls: 0.02095  loss_rpn_loc: 0.01191  time: 0.5221  last_time: 0.5529  data_time: 0.0114  last_data_time: 0.0038   lr: 0.00025  max_mem: 2765M\n",
            "[02/22 08:48:54 d2.utils.events]:  eta: 0:32:23  iter: 1339  total_loss: 0.89  loss_cls: 0.1483  loss_box_reg: 0.1287  loss_mask: 0.4159  loss_rpn_cls: 0.02245  loss_rpn_loc: 0.0107  time: 0.5222  last_time: 0.6128  data_time: 0.0112  last_data_time: 0.0074   lr: 0.00025  max_mem: 2765M\n",
            "[02/22 08:49:05 d2.utils.events]:  eta: 0:32:13  iter: 1359  total_loss: 0.7191  loss_cls: 0.1359  loss_box_reg: 0.1131  loss_mask: 0.4121  loss_rpn_cls: 0.02253  loss_rpn_loc: 0.01678  time: 0.5223  last_time: 0.5345  data_time: 0.0110  last_data_time: 0.0165   lr: 0.00025  max_mem: 2765M\n",
            "[02/22 08:49:16 d2.utils.events]:  eta: 0:32:02  iter: 1379  total_loss: 0.6598  loss_cls: 0.1283  loss_box_reg: 0.1718  loss_mask: 0.3205  loss_rpn_cls: 0.01867  loss_rpn_loc: 0.0108  time: 0.5223  last_time: 0.5133  data_time: 0.0105  last_data_time: 0.0010   lr: 0.00025  max_mem: 2765M\n",
            "[02/22 08:49:26 d2.utils.events]:  eta: 0:31:51  iter: 1399  total_loss: 0.7509  loss_cls: 0.1472  loss_box_reg: 0.1924  loss_mask: 0.3953  loss_rpn_cls: 0.02129  loss_rpn_loc: 0.0151  time: 0.5224  last_time: 0.6288  data_time: 0.0092  last_data_time: 0.0069   lr: 0.00025  max_mem: 2765M\n",
            "[02/22 08:49:37 d2.utils.events]:  eta: 0:31:41  iter: 1419  total_loss: 0.8442  loss_cls: 0.1571  loss_box_reg: 0.1301  loss_mask: 0.4519  loss_rpn_cls: 0.02682  loss_rpn_loc: 0.01447  time: 0.5225  last_time: 0.6107  data_time: 0.0103  last_data_time: 0.0018   lr: 0.00025  max_mem: 2765M\n",
            "[02/22 08:49:47 d2.utils.events]:  eta: 0:31:30  iter: 1439  total_loss: 0.7729  loss_cls: 0.1282  loss_box_reg: 0.1231  loss_mask: 0.4225  loss_rpn_cls: 0.01844  loss_rpn_loc: 0.01106  time: 0.5226  last_time: 0.5315  data_time: 0.0115  last_data_time: 0.0060   lr: 0.00025  max_mem: 2765M\n",
            "[02/22 08:49:58 d2.utils.events]:  eta: 0:31:20  iter: 1459  total_loss: 0.7104  loss_cls: 0.1026  loss_box_reg: 0.1134  loss_mask: 0.4549  loss_rpn_cls: 0.03279  loss_rpn_loc: 0.01501  time: 0.5227  last_time: 0.5263  data_time: 0.0099  last_data_time: 0.0066   lr: 0.00025  max_mem: 2765M\n",
            "[02/22 08:50:09 d2.utils.events]:  eta: 0:31:10  iter: 1479  total_loss: 0.8916  loss_cls: 0.1639  loss_box_reg: 0.1514  loss_mask: 0.4435  loss_rpn_cls: 0.03532  loss_rpn_loc: 0.02272  time: 0.5231  last_time: 0.5284  data_time: 0.0098  last_data_time: 0.0121   lr: 0.00025  max_mem: 2765M\n",
            "[02/22 08:50:19 d2.utils.events]:  eta: 0:30:59  iter: 1499  total_loss: 0.8046  loss_cls: 0.1197  loss_box_reg: 0.1423  loss_mask: 0.354  loss_rpn_cls: 0.02648  loss_rpn_loc: 0.01704  time: 0.5230  last_time: 0.5904  data_time: 0.0081  last_data_time: 0.0088   lr: 0.00025  max_mem: 2765M\n",
            "[02/22 08:50:30 d2.utils.events]:  eta: 0:30:49  iter: 1519  total_loss: 0.8886  loss_cls: 0.1754  loss_box_reg: 0.142  loss_mask: 0.4495  loss_rpn_cls: 0.03834  loss_rpn_loc: 0.01713  time: 0.5233  last_time: 0.5070  data_time: 0.0103  last_data_time: 0.0038   lr: 0.00025  max_mem: 2765M\n",
            "[02/22 08:50:41 d2.utils.events]:  eta: 0:30:41  iter: 1539  total_loss: 0.763  loss_cls: 0.1569  loss_box_reg: 0.1565  loss_mask: 0.4059  loss_rpn_cls: 0.02707  loss_rpn_loc: 0.01568  time: 0.5235  last_time: 0.5188  data_time: 0.0106  last_data_time: 0.0054   lr: 0.00025  max_mem: 2765M\n",
            "[02/22 08:50:52 d2.utils.events]:  eta: 0:30:28  iter: 1559  total_loss: 0.8546  loss_cls: 0.1412  loss_box_reg: 0.1515  loss_mask: 0.4288  loss_rpn_cls: 0.01679  loss_rpn_loc: 0.01003  time: 0.5236  last_time: 0.5283  data_time: 0.0133  last_data_time: 0.0087   lr: 0.00025  max_mem: 2765M\n",
            "[02/22 08:51:02 d2.utils.events]:  eta: 0:30:16  iter: 1579  total_loss: 0.8761  loss_cls: 0.1466  loss_box_reg: 0.1479  loss_mask: 0.4337  loss_rpn_cls: 0.03186  loss_rpn_loc: 0.01566  time: 0.5234  last_time: 0.5011  data_time: 0.0102  last_data_time: 0.0074   lr: 0.00025  max_mem: 2765M\n",
            "[02/22 08:51:12 d2.utils.events]:  eta: 0:30:06  iter: 1599  total_loss: 0.7373  loss_cls: 0.1337  loss_box_reg: 0.159  loss_mask: 0.3873  loss_rpn_cls: 0.03091  loss_rpn_loc: 0.01482  time: 0.5233  last_time: 0.5671  data_time: 0.0108  last_data_time: 0.0111   lr: 0.00025  max_mem: 2765M\n",
            "[02/22 08:51:23 d2.utils.events]:  eta: 0:29:56  iter: 1619  total_loss: 0.8521  loss_cls: 0.171  loss_box_reg: 0.1811  loss_mask: 0.4684  loss_rpn_cls: 0.03487  loss_rpn_loc: 0.01614  time: 0.5236  last_time: 0.4275  data_time: 0.0134  last_data_time: 0.0409   lr: 0.00025  max_mem: 2765M\n",
            "[02/22 08:51:34 d2.utils.events]:  eta: 0:29:49  iter: 1639  total_loss: 0.8002  loss_cls: 0.1307  loss_box_reg: 0.1334  loss_mask: 0.3742  loss_rpn_cls: 0.02727  loss_rpn_loc: 0.01773  time: 0.5240  last_time: 0.5533  data_time: 0.0129  last_data_time: 0.0060   lr: 0.00025  max_mem: 2765M\n",
            "[02/22 08:51:44 d2.utils.events]:  eta: 0:29:35  iter: 1659  total_loss: 0.6949  loss_cls: 0.1173  loss_box_reg: 0.1038  loss_mask: 0.4247  loss_rpn_cls: 0.02514  loss_rpn_loc: 0.0116  time: 0.5238  last_time: 0.4993  data_time: 0.0086  last_data_time: 0.0051   lr: 0.00025  max_mem: 2765M\n",
            "[02/22 08:51:55 d2.utils.events]:  eta: 0:29:24  iter: 1679  total_loss: 0.7934  loss_cls: 0.1572  loss_box_reg: 0.1735  loss_mask: 0.4032  loss_rpn_cls: 0.02363  loss_rpn_loc: 0.01298  time: 0.5237  last_time: 0.5116  data_time: 0.0087  last_data_time: 0.0072   lr: 0.00025  max_mem: 2765M\n",
            "[02/22 08:52:05 d2.utils.events]:  eta: 0:29:11  iter: 1699  total_loss: 0.8235  loss_cls: 0.1268  loss_box_reg: 0.1055  loss_mask: 0.4883  loss_rpn_cls: 0.02873  loss_rpn_loc: 0.009911  time: 0.5235  last_time: 0.4805  data_time: 0.0105  last_data_time: 0.0034   lr: 0.00025  max_mem: 2765M\n",
            "[02/22 08:52:16 d2.utils.events]:  eta: 0:29:03  iter: 1719  total_loss: 0.8245  loss_cls: 0.1282  loss_box_reg: 0.152  loss_mask: 0.4477  loss_rpn_cls: 0.02221  loss_rpn_loc: 0.01145  time: 0.5237  last_time: 0.4611  data_time: 0.0106  last_data_time: 0.0069   lr: 0.00025  max_mem: 2765M\n",
            "[02/22 08:52:26 d2.utils.events]:  eta: 0:28:56  iter: 1739  total_loss: 0.8312  loss_cls: 0.1464  loss_box_reg: 0.1233  loss_mask: 0.4607  loss_rpn_cls: 0.02462  loss_rpn_loc: 0.01422  time: 0.5237  last_time: 0.5001  data_time: 0.0078  last_data_time: 0.0039   lr: 0.00025  max_mem: 2765M\n",
            "[02/22 08:52:37 d2.utils.events]:  eta: 0:28:41  iter: 1759  total_loss: 0.8579  loss_cls: 0.1513  loss_box_reg: 0.1761  loss_mask: 0.4047  loss_rpn_cls: 0.01913  loss_rpn_loc: 0.01275  time: 0.5237  last_time: 0.5206  data_time: 0.0103  last_data_time: 0.0177   lr: 0.00025  max_mem: 2765M\n",
            "[02/22 08:52:48 d2.utils.events]:  eta: 0:28:28  iter: 1779  total_loss: 0.763  loss_cls: 0.1176  loss_box_reg: 0.1302  loss_mask: 0.4139  loss_rpn_cls: 0.01474  loss_rpn_loc: 0.01027  time: 0.5240  last_time: 0.4413  data_time: 0.0372  last_data_time: 0.0128   lr: 0.00025  max_mem: 2765M\n",
            "[02/22 08:52:58 d2.utils.events]:  eta: 0:28:14  iter: 1799  total_loss: 0.8702  loss_cls: 0.1192  loss_box_reg: 0.1533  loss_mask: 0.4253  loss_rpn_cls: 0.01605  loss_rpn_loc: 0.01273  time: 0.5239  last_time: 0.5922  data_time: 0.0122  last_data_time: 0.0061   lr: 0.00025  max_mem: 2765M\n",
            "[02/22 08:53:09 d2.utils.events]:  eta: 0:28:05  iter: 1819  total_loss: 0.8493  loss_cls: 0.1173  loss_box_reg: 0.1319  loss_mask: 0.487  loss_rpn_cls: 0.01762  loss_rpn_loc: 0.01264  time: 0.5240  last_time: 0.5850  data_time: 0.0123  last_data_time: 0.0082   lr: 0.00025  max_mem: 2765M\n",
            "[02/22 08:53:20 d2.utils.events]:  eta: 0:27:55  iter: 1839  total_loss: 0.8465  loss_cls: 0.1146  loss_box_reg: 0.1184  loss_mask: 0.4668  loss_rpn_cls: 0.02298  loss_rpn_loc: 0.0106  time: 0.5241  last_time: 0.6686  data_time: 0.0090  last_data_time: 0.0233   lr: 0.00025  max_mem: 2765M\n",
            "[02/22 08:53:30 d2.utils.events]:  eta: 0:27:43  iter: 1859  total_loss: 0.7461  loss_cls: 0.09775  loss_box_reg: 0.1334  loss_mask: 0.3755  loss_rpn_cls: 0.01977  loss_rpn_loc: 0.009776  time: 0.5242  last_time: 0.5006  data_time: 0.0113  last_data_time: 0.0069   lr: 0.00025  max_mem: 2765M\n",
            "[02/22 08:53:41 d2.utils.events]:  eta: 0:27:31  iter: 1879  total_loss: 0.8527  loss_cls: 0.1152  loss_box_reg: 0.1401  loss_mask: 0.4552  loss_rpn_cls: 0.01829  loss_rpn_loc: 0.01226  time: 0.5244  last_time: 0.5110  data_time: 0.0126  last_data_time: 0.0063   lr: 0.00025  max_mem: 2765M\n",
            "[02/22 08:53:52 d2.utils.events]:  eta: 0:27:21  iter: 1899  total_loss: 0.8489  loss_cls: 0.1306  loss_box_reg: 0.1119  loss_mask: 0.4495  loss_rpn_cls: 0.02164  loss_rpn_loc: 0.01148  time: 0.5244  last_time: 0.6020  data_time: 0.0094  last_data_time: 0.0149   lr: 0.00025  max_mem: 2765M\n",
            "[02/22 08:54:02 d2.utils.events]:  eta: 0:27:10  iter: 1919  total_loss: 0.7591  loss_cls: 0.1488  loss_box_reg: 0.1561  loss_mask: 0.4165  loss_rpn_cls: 0.0278  loss_rpn_loc: 0.01808  time: 0.5245  last_time: 0.6362  data_time: 0.0122  last_data_time: 0.0222   lr: 0.00025  max_mem: 2765M\n",
            "[02/22 08:54:13 d2.utils.events]:  eta: 0:26:57  iter: 1939  total_loss: 0.8092  loss_cls: 0.1043  loss_box_reg: 0.1333  loss_mask: 0.477  loss_rpn_cls: 0.01933  loss_rpn_loc: 0.01242  time: 0.5244  last_time: 0.4983  data_time: 0.0096  last_data_time: 0.0061   lr: 0.00025  max_mem: 2765M\n",
            "[02/22 08:54:23 d2.utils.events]:  eta: 0:26:48  iter: 1959  total_loss: 0.8043  loss_cls: 0.1334  loss_box_reg: 0.1528  loss_mask: 0.4492  loss_rpn_cls: 0.02698  loss_rpn_loc: 0.009433  time: 0.5246  last_time: 0.5405  data_time: 0.0115  last_data_time: 0.0080   lr: 0.00025  max_mem: 2765M\n",
            "[02/22 08:54:34 d2.utils.events]:  eta: 0:26:37  iter: 1979  total_loss: 0.7658  loss_cls: 0.1177  loss_box_reg: 0.1079  loss_mask: 0.4495  loss_rpn_cls: 0.03457  loss_rpn_loc: 0.01255  time: 0.5247  last_time: 0.5742  data_time: 0.0124  last_data_time: 0.0110   lr: 0.00025  max_mem: 2765M\n",
            "[02/22 08:54:45 d2.utils.events]:  eta: 0:26:28  iter: 1999  total_loss: 0.7817  loss_cls: 0.1352  loss_box_reg: 0.1287  loss_mask: 0.4314  loss_rpn_cls: 0.01525  loss_rpn_loc: 0.01691  time: 0.5248  last_time: 0.5580  data_time: 0.0100  last_data_time: 0.0052   lr: 0.00025  max_mem: 2765M\n",
            "[02/22 08:54:56 d2.utils.events]:  eta: 0:26:20  iter: 2019  total_loss: 0.9015  loss_cls: 0.1093  loss_box_reg: 0.1281  loss_mask: 0.4476  loss_rpn_cls: 0.03162  loss_rpn_loc: 0.01885  time: 0.5249  last_time: 0.4967  data_time: 0.0090  last_data_time: 0.0329   lr: 0.00025  max_mem: 2765M\n",
            "[02/22 08:55:06 d2.utils.events]:  eta: 0:26:10  iter: 2039  total_loss: 0.8231  loss_cls: 0.1227  loss_box_reg: 0.1167  loss_mask: 0.4273  loss_rpn_cls: 0.02618  loss_rpn_loc: 0.01707  time: 0.5249  last_time: 0.5420  data_time: 0.0104  last_data_time: 0.0034   lr: 0.00025  max_mem: 2765M\n",
            "[02/22 08:55:16 d2.utils.events]:  eta: 0:25:59  iter: 2059  total_loss: 0.781  loss_cls: 0.1162  loss_box_reg: 0.1361  loss_mask: 0.3961  loss_rpn_cls: 0.02813  loss_rpn_loc: 0.01132  time: 0.5247  last_time: 0.4994  data_time: 0.0104  last_data_time: 0.0053   lr: 0.00025  max_mem: 2765M\n",
            "[02/22 08:55:27 d2.utils.events]:  eta: 0:25:48  iter: 2079  total_loss: 0.7868  loss_cls: 0.15  loss_box_reg: 0.1303  loss_mask: 0.4381  loss_rpn_cls: 0.03782  loss_rpn_loc: 0.01648  time: 0.5250  last_time: 0.5229  data_time: 0.0111  last_data_time: 0.0061   lr: 0.00025  max_mem: 2765M\n",
            "[02/22 08:55:38 d2.utils.events]:  eta: 0:25:35  iter: 2099  total_loss: 0.7977  loss_cls: 0.09922  loss_box_reg: 0.1181  loss_mask: 0.4643  loss_rpn_cls: 0.0197  loss_rpn_loc: 0.02027  time: 0.5249  last_time: 0.5438  data_time: 0.0089  last_data_time: 0.0159   lr: 0.00025  max_mem: 2765M\n",
            "[02/22 08:55:48 d2.utils.events]:  eta: 0:25:22  iter: 2119  total_loss: 0.7358  loss_cls: 0.1128  loss_box_reg: 0.1235  loss_mask: 0.3742  loss_rpn_cls: 0.02494  loss_rpn_loc: 0.01325  time: 0.5248  last_time: 0.4610  data_time: 0.0146  last_data_time: 0.0062   lr: 0.00025  max_mem: 2765M\n",
            "[02/22 08:55:58 d2.utils.events]:  eta: 0:25:11  iter: 2139  total_loss: 0.8188  loss_cls: 0.1028  loss_box_reg: 0.1143  loss_mask: 0.4123  loss_rpn_cls: 0.01977  loss_rpn_loc: 0.01321  time: 0.5248  last_time: 0.4562  data_time: 0.0091  last_data_time: 0.0034   lr: 0.00025  max_mem: 2765M\n",
            "[02/22 08:56:09 d2.utils.events]:  eta: 0:25:00  iter: 2159  total_loss: 0.8164  loss_cls: 0.1388  loss_box_reg: 0.149  loss_mask: 0.4273  loss_rpn_cls: 0.0251  loss_rpn_loc: 0.006804  time: 0.5249  last_time: 0.5717  data_time: 0.0128  last_data_time: 0.0055   lr: 0.00025  max_mem: 2765M\n",
            "[02/22 08:56:20 d2.utils.events]:  eta: 0:24:50  iter: 2179  total_loss: 0.8635  loss_cls: 0.1166  loss_box_reg: 0.1378  loss_mask: 0.3883  loss_rpn_cls: 0.024  loss_rpn_loc: 0.01225  time: 0.5249  last_time: 0.5977  data_time: 0.0108  last_data_time: 0.0575   lr: 0.00025  max_mem: 2765M\n",
            "[02/22 08:56:30 d2.utils.events]:  eta: 0:24:38  iter: 2199  total_loss: 0.7603  loss_cls: 0.1104  loss_box_reg: 0.09481  loss_mask: 0.4487  loss_rpn_cls: 0.03108  loss_rpn_loc: 0.01187  time: 0.5248  last_time: 0.3758  data_time: 0.0090  last_data_time: 0.0064   lr: 0.00025  max_mem: 2765M\n",
            "[02/22 08:56:40 d2.utils.events]:  eta: 0:24:27  iter: 2219  total_loss: 0.6435  loss_cls: 0.08204  loss_box_reg: 0.08435  loss_mask: 0.4342  loss_rpn_cls: 0.0205  loss_rpn_loc: 0.009833  time: 0.5247  last_time: 0.4355  data_time: 0.0102  last_data_time: 0.0059   lr: 0.00025  max_mem: 2765M\n",
            "[02/22 08:56:51 d2.utils.events]:  eta: 0:24:18  iter: 2239  total_loss: 0.7614  loss_cls: 0.1046  loss_box_reg: 0.1168  loss_mask: 0.4279  loss_rpn_cls: 0.02422  loss_rpn_loc: 0.009659  time: 0.5247  last_time: 0.5117  data_time: 0.0098  last_data_time: 0.0040   lr: 0.00025  max_mem: 2765M\n",
            "[02/22 08:57:01 d2.utils.events]:  eta: 0:24:07  iter: 2259  total_loss: 0.8689  loss_cls: 0.1364  loss_box_reg: 0.1319  loss_mask: 0.4191  loss_rpn_cls: 0.02683  loss_rpn_loc: 0.01261  time: 0.5248  last_time: 0.5055  data_time: 0.0091  last_data_time: 0.0039   lr: 0.00025  max_mem: 2765M\n",
            "[02/22 08:57:12 d2.utils.events]:  eta: 0:23:55  iter: 2279  total_loss: 0.7488  loss_cls: 0.1148  loss_box_reg: 0.1296  loss_mask: 0.4465  loss_rpn_cls: 0.02325  loss_rpn_loc: 0.01506  time: 0.5249  last_time: 0.5066  data_time: 0.0100  last_data_time: 0.0067   lr: 0.00025  max_mem: 2765M\n",
            "[02/22 08:57:23 d2.utils.events]:  eta: 0:23:42  iter: 2299  total_loss: 0.7871  loss_cls: 0.1249  loss_box_reg: 0.1144  loss_mask: 0.3936  loss_rpn_cls: 0.0272  loss_rpn_loc: 0.01048  time: 0.5248  last_time: 0.5113  data_time: 0.0102  last_data_time: 0.0066   lr: 0.00025  max_mem: 2765M\n",
            "[02/22 08:57:33 d2.utils.events]:  eta: 0:23:34  iter: 2319  total_loss: 0.919  loss_cls: 0.1626  loss_box_reg: 0.1611  loss_mask: 0.4943  loss_rpn_cls: 0.03062  loss_rpn_loc: 0.01636  time: 0.5249  last_time: 0.5701  data_time: 0.0102  last_data_time: 0.0061   lr: 0.00025  max_mem: 2765M\n",
            "[02/22 08:57:44 d2.utils.events]:  eta: 0:23:23  iter: 2339  total_loss: 0.7463  loss_cls: 0.1155  loss_box_reg: 0.1401  loss_mask: 0.4298  loss_rpn_cls: 0.02565  loss_rpn_loc: 0.01354  time: 0.5249  last_time: 0.6633  data_time: 0.0105  last_data_time: 0.0059   lr: 0.00025  max_mem: 2765M\n",
            "[02/22 08:57:54 d2.utils.events]:  eta: 0:23:12  iter: 2359  total_loss: 0.7933  loss_cls: 0.1214  loss_box_reg: 0.1325  loss_mask: 0.4179  loss_rpn_cls: 0.02508  loss_rpn_loc: 0.01985  time: 0.5249  last_time: 0.4090  data_time: 0.0090  last_data_time: 0.0079   lr: 0.00025  max_mem: 2765M\n",
            "[02/22 08:58:05 d2.utils.events]:  eta: 0:23:03  iter: 2379  total_loss: 0.7903  loss_cls: 0.148  loss_box_reg: 0.1306  loss_mask: 0.4492  loss_rpn_cls: 0.02418  loss_rpn_loc: 0.02075  time: 0.5251  last_time: 0.5462  data_time: 0.0127  last_data_time: 0.0046   lr: 0.00025  max_mem: 2765M\n",
            "[02/22 08:58:16 d2.utils.events]:  eta: 0:22:53  iter: 2399  total_loss: 0.6819  loss_cls: 0.1323  loss_box_reg: 0.1274  loss_mask: 0.3934  loss_rpn_cls: 0.03025  loss_rpn_loc: 0.01046  time: 0.5251  last_time: 0.5735  data_time: 0.0090  last_data_time: 0.0071   lr: 0.00025  max_mem: 2765M\n",
            "[02/22 08:58:26 d2.utils.events]:  eta: 0:22:42  iter: 2419  total_loss: 0.7825  loss_cls: 0.1121  loss_box_reg: 0.106  loss_mask: 0.494  loss_rpn_cls: 0.03351  loss_rpn_loc: 0.01022  time: 0.5250  last_time: 0.5523  data_time: 0.0129  last_data_time: 0.0042   lr: 0.00025  max_mem: 2765M\n",
            "[02/22 08:58:36 d2.utils.events]:  eta: 0:22:30  iter: 2439  total_loss: 0.7724  loss_cls: 0.1155  loss_box_reg: 0.102  loss_mask: 0.4357  loss_rpn_cls: 0.02751  loss_rpn_loc: 0.01405  time: 0.5248  last_time: 0.5391  data_time: 0.0084  last_data_time: 0.0093   lr: 0.00025  max_mem: 2765M\n",
            "[02/22 08:58:47 d2.utils.events]:  eta: 0:22:21  iter: 2459  total_loss: 0.9087  loss_cls: 0.1545  loss_box_reg: 0.1682  loss_mask: 0.4151  loss_rpn_cls: 0.02166  loss_rpn_loc: 0.01739  time: 0.5251  last_time: 0.5873  data_time: 0.0103  last_data_time: 0.0099   lr: 0.00025  max_mem: 2765M\n",
            "[02/22 08:58:58 d2.utils.events]:  eta: 0:22:10  iter: 2479  total_loss: 0.7749  loss_cls: 0.1149  loss_box_reg: 0.1426  loss_mask: 0.3574  loss_rpn_cls: 0.03494  loss_rpn_loc: 0.01876  time: 0.5252  last_time: 0.4059  data_time: 0.0128  last_data_time: 0.0138   lr: 0.00025  max_mem: 2765M\n",
            "[02/22 08:59:08 d2.utils.events]:  eta: 0:21:56  iter: 2499  total_loss: 0.7431  loss_cls: 0.09176  loss_box_reg: 0.1238  loss_mask: 0.3953  loss_rpn_cls: 0.01687  loss_rpn_loc: 0.01012  time: 0.5252  last_time: 0.6151  data_time: 0.0119  last_data_time: 0.0012   lr: 0.00025  max_mem: 2765M\n",
            "[02/22 08:59:19 d2.utils.events]:  eta: 0:21:46  iter: 2519  total_loss: 0.8164  loss_cls: 0.1385  loss_box_reg: 0.1156  loss_mask: 0.4002  loss_rpn_cls: 0.02673  loss_rpn_loc: 0.01953  time: 0.5251  last_time: 0.5644  data_time: 0.0131  last_data_time: 0.0278   lr: 0.00025  max_mem: 2765M\n",
            "[02/22 08:59:29 d2.utils.events]:  eta: 0:21:35  iter: 2539  total_loss: 0.7314  loss_cls: 0.1208  loss_box_reg: 0.08913  loss_mask: 0.4118  loss_rpn_cls: 0.01811  loss_rpn_loc: 0.01283  time: 0.5251  last_time: 0.5109  data_time: 0.0110  last_data_time: 0.0010   lr: 0.00025  max_mem: 2765M\n",
            "[02/22 08:59:40 d2.utils.events]:  eta: 0:21:24  iter: 2559  total_loss: 0.8053  loss_cls: 0.1225  loss_box_reg: 0.09971  loss_mask: 0.4181  loss_rpn_cls: 0.02517  loss_rpn_loc: 0.009366  time: 0.5251  last_time: 0.5197  data_time: 0.0103  last_data_time: 0.0155   lr: 0.00025  max_mem: 2765M\n",
            "[02/22 08:59:51 d2.utils.events]:  eta: 0:21:14  iter: 2579  total_loss: 0.8149  loss_cls: 0.1521  loss_box_reg: 0.1759  loss_mask: 0.357  loss_rpn_cls: 0.02369  loss_rpn_loc: 0.01472  time: 0.5255  last_time: 0.4831  data_time: 0.0325  last_data_time: 0.0062   lr: 0.00025  max_mem: 2765M\n",
            "[02/22 09:00:02 d2.utils.events]:  eta: 0:21:04  iter: 2599  total_loss: 0.7577  loss_cls: 0.1107  loss_box_reg: 0.1228  loss_mask: 0.375  loss_rpn_cls: 0.02564  loss_rpn_loc: 0.01824  time: 0.5254  last_time: 0.5510  data_time: 0.0128  last_data_time: 0.0194   lr: 0.00025  max_mem: 2765M\n",
            "[02/22 09:00:13 d2.utils.events]:  eta: 0:20:53  iter: 2619  total_loss: 0.8407  loss_cls: 0.1099  loss_box_reg: 0.1243  loss_mask: 0.4576  loss_rpn_cls: 0.02282  loss_rpn_loc: 0.02462  time: 0.5255  last_time: 0.5681  data_time: 0.0085  last_data_time: 0.0059   lr: 0.00025  max_mem: 2765M\n",
            "[02/22 09:00:23 d2.utils.events]:  eta: 0:20:40  iter: 2639  total_loss: 0.7737  loss_cls: 0.1088  loss_box_reg: 0.1197  loss_mask: 0.4502  loss_rpn_cls: 0.0245  loss_rpn_loc: 0.01126  time: 0.5254  last_time: 0.5568  data_time: 0.0106  last_data_time: 0.0052   lr: 0.00025  max_mem: 2765M\n",
            "[02/22 09:00:34 d2.utils.events]:  eta: 0:20:32  iter: 2659  total_loss: 0.7308  loss_cls: 0.1356  loss_box_reg: 0.1256  loss_mask: 0.4522  loss_rpn_cls: 0.02546  loss_rpn_loc: 0.009658  time: 0.5255  last_time: 0.6338  data_time: 0.0088  last_data_time: 0.0010   lr: 0.00025  max_mem: 2765M\n",
            "[02/22 09:00:44 d2.utils.events]:  eta: 0:20:21  iter: 2679  total_loss: 0.5921  loss_cls: 0.09435  loss_box_reg: 0.09983  loss_mask: 0.333  loss_rpn_cls: 0.01694  loss_rpn_loc: 0.009205  time: 0.5255  last_time: 0.5307  data_time: 0.0104  last_data_time: 0.0091   lr: 0.00025  max_mem: 2765M\n",
            "[02/22 09:00:54 d2.utils.events]:  eta: 0:20:12  iter: 2699  total_loss: 0.7909  loss_cls: 0.09888  loss_box_reg: 0.09559  loss_mask: 0.4672  loss_rpn_cls: 0.03214  loss_rpn_loc: 0.02078  time: 0.5254  last_time: 0.4395  data_time: 0.0091  last_data_time: 0.0040   lr: 0.00025  max_mem: 2765M\n",
            "[02/22 09:01:05 d2.utils.events]:  eta: 0:20:00  iter: 2719  total_loss: 0.7952  loss_cls: 0.1278  loss_box_reg: 0.1197  loss_mask: 0.4176  loss_rpn_cls: 0.02477  loss_rpn_loc: 0.01693  time: 0.5255  last_time: 0.4700  data_time: 0.0132  last_data_time: 0.0132   lr: 0.00025  max_mem: 2765M\n",
            "[02/22 09:01:15 d2.utils.events]:  eta: 0:19:50  iter: 2739  total_loss: 0.6755  loss_cls: 0.08217  loss_box_reg: 0.07032  loss_mask: 0.4151  loss_rpn_cls: 0.01947  loss_rpn_loc: 0.01567  time: 0.5254  last_time: 0.4957  data_time: 0.0113  last_data_time: 0.0195   lr: 0.00025  max_mem: 2765M\n",
            "[02/22 09:01:26 d2.utils.events]:  eta: 0:19:42  iter: 2759  total_loss: 0.6721  loss_cls: 0.1106  loss_box_reg: 0.1155  loss_mask: 0.367  loss_rpn_cls: 0.01907  loss_rpn_loc: 0.01097  time: 0.5256  last_time: 0.5431  data_time: 0.0124  last_data_time: 0.0055   lr: 0.00025  max_mem: 2765M\n",
            "[02/22 09:01:37 d2.utils.events]:  eta: 0:19:32  iter: 2779  total_loss: 0.7167  loss_cls: 0.08567  loss_box_reg: 0.09403  loss_mask: 0.4078  loss_rpn_cls: 0.03123  loss_rpn_loc: 0.01244  time: 0.5255  last_time: 0.5977  data_time: 0.0116  last_data_time: 0.0198   lr: 0.00025  max_mem: 2765M\n",
            "[02/22 09:01:47 d2.utils.events]:  eta: 0:19:22  iter: 2799  total_loss: 0.8439  loss_cls: 0.1277  loss_box_reg: 0.1532  loss_mask: 0.4034  loss_rpn_cls: 0.0408  loss_rpn_loc: 0.02011  time: 0.5255  last_time: 0.5829  data_time: 0.0118  last_data_time: 0.0054   lr: 0.00025  max_mem: 2765M\n",
            "[02/22 09:01:58 d2.utils.events]:  eta: 0:19:11  iter: 2819  total_loss: 0.7278  loss_cls: 0.1212  loss_box_reg: 0.1265  loss_mask: 0.4139  loss_rpn_cls: 0.0157  loss_rpn_loc: 0.01093  time: 0.5256  last_time: 0.5563  data_time: 0.0133  last_data_time: 0.0088   lr: 0.00025  max_mem: 2765M\n",
            "[02/22 09:02:09 d2.utils.events]:  eta: 0:19:01  iter: 2839  total_loss: 0.6612  loss_cls: 0.1309  loss_box_reg: 0.1111  loss_mask: 0.3942  loss_rpn_cls: 0.01838  loss_rpn_loc: 0.008715  time: 0.5256  last_time: 0.4656  data_time: 0.0115  last_data_time: 0.0105   lr: 0.00025  max_mem: 2765M\n",
            "[02/22 09:02:19 d2.utils.events]:  eta: 0:18:50  iter: 2859  total_loss: 0.8287  loss_cls: 0.1068  loss_box_reg: 0.1152  loss_mask: 0.4209  loss_rpn_cls: 0.04746  loss_rpn_loc: 0.01655  time: 0.5256  last_time: 0.5647  data_time: 0.0087  last_data_time: 0.0044   lr: 0.00025  max_mem: 2765M\n",
            "[02/22 09:02:30 d2.utils.events]:  eta: 0:18:38  iter: 2879  total_loss: 0.9565  loss_cls: 0.1247  loss_box_reg: 0.1287  loss_mask: 0.4251  loss_rpn_cls: 0.0416  loss_rpn_loc: 0.02011  time: 0.5256  last_time: 0.5154  data_time: 0.0131  last_data_time: 0.0092   lr: 0.00025  max_mem: 2765M\n",
            "[02/22 09:02:40 d2.utils.events]:  eta: 0:18:27  iter: 2899  total_loss: 0.7853  loss_cls: 0.1215  loss_box_reg: 0.1483  loss_mask: 0.4477  loss_rpn_cls: 0.03311  loss_rpn_loc: 0.01086  time: 0.5255  last_time: 0.4392  data_time: 0.0143  last_data_time: 0.0089   lr: 0.00025  max_mem: 2765M\n",
            "[02/22 09:02:51 d2.utils.events]:  eta: 0:18:17  iter: 2919  total_loss: 0.7055  loss_cls: 0.1175  loss_box_reg: 0.1136  loss_mask: 0.4266  loss_rpn_cls: 0.02106  loss_rpn_loc: 0.01441  time: 0.5256  last_time: 0.4928  data_time: 0.0107  last_data_time: 0.0145   lr: 0.00025  max_mem: 2765M\n",
            "[02/22 09:03:01 d2.utils.events]:  eta: 0:18:07  iter: 2939  total_loss: 0.7232  loss_cls: 0.09417  loss_box_reg: 0.1242  loss_mask: 0.4312  loss_rpn_cls: 0.02285  loss_rpn_loc: 0.01211  time: 0.5256  last_time: 0.6052  data_time: 0.0110  last_data_time: 0.0154   lr: 0.00025  max_mem: 2765M\n",
            "[02/22 09:03:12 d2.utils.events]:  eta: 0:17:56  iter: 2959  total_loss: 0.668  loss_cls: 0.1122  loss_box_reg: 0.144  loss_mask: 0.3639  loss_rpn_cls: 0.02195  loss_rpn_loc: 0.01026  time: 0.5256  last_time: 0.4991  data_time: 0.0103  last_data_time: 0.0062   lr: 0.00025  max_mem: 2765M\n",
            "[02/22 09:03:23 d2.utils.events]:  eta: 0:17:46  iter: 2979  total_loss: 0.8423  loss_cls: 0.1412  loss_box_reg: 0.1517  loss_mask: 0.4454  loss_rpn_cls: 0.02442  loss_rpn_loc: 0.0135  time: 0.5257  last_time: 0.5296  data_time: 0.0123  last_data_time: 0.0011   lr: 0.00025  max_mem: 2765M\n",
            "[02/22 09:03:33 d2.utils.events]:  eta: 0:17:35  iter: 2999  total_loss: 0.708  loss_cls: 0.1128  loss_box_reg: 0.1053  loss_mask: 0.3982  loss_rpn_cls: 0.0174  loss_rpn_loc: 0.009546  time: 0.5256  last_time: 0.5019  data_time: 0.0146  last_data_time: 0.0069   lr: 0.00025  max_mem: 2765M\n",
            "[02/22 09:03:43 d2.utils.events]:  eta: 0:17:23  iter: 3019  total_loss: 0.6705  loss_cls: 0.08937  loss_box_reg: 0.122  loss_mask: 0.3852  loss_rpn_cls: 0.02351  loss_rpn_loc: 0.01716  time: 0.5255  last_time: 0.4791  data_time: 0.0108  last_data_time: 0.0068   lr: 0.00025  max_mem: 2765M\n",
            "[02/22 09:03:54 d2.utils.events]:  eta: 0:17:13  iter: 3039  total_loss: 0.695  loss_cls: 0.08778  loss_box_reg: 0.08655  loss_mask: 0.4543  loss_rpn_cls: 0.02347  loss_rpn_loc: 0.009088  time: 0.5256  last_time: 0.5483  data_time: 0.0108  last_data_time: 0.0152   lr: 0.00025  max_mem: 2765M\n",
            "[02/22 09:04:04 d2.utils.events]:  eta: 0:17:03  iter: 3059  total_loss: 0.8042  loss_cls: 0.1433  loss_box_reg: 0.1429  loss_mask: 0.4609  loss_rpn_cls: 0.01634  loss_rpn_loc: 0.0108  time: 0.5256  last_time: 0.5376  data_time: 0.0128  last_data_time: 0.0034   lr: 0.00025  max_mem: 2765M\n",
            "[02/22 09:04:14 d2.utils.events]:  eta: 0:16:51  iter: 3079  total_loss: 0.7259  loss_cls: 0.0976  loss_box_reg: 0.08717  loss_mask: 0.4128  loss_rpn_cls: 0.02704  loss_rpn_loc: 0.007997  time: 0.5255  last_time: 0.4173  data_time: 0.0116  last_data_time: 0.0038   lr: 0.00025  max_mem: 2765M\n",
            "[02/22 09:04:25 d2.utils.events]:  eta: 0:16:41  iter: 3099  total_loss: 0.7292  loss_cls: 0.09196  loss_box_reg: 0.1188  loss_mask: 0.4121  loss_rpn_cls: 0.01766  loss_rpn_loc: 0.01147  time: 0.5254  last_time: 0.4706  data_time: 0.0130  last_data_time: 0.0233   lr: 0.00025  max_mem: 2765M\n",
            "[02/22 09:04:35 d2.utils.events]:  eta: 0:16:30  iter: 3119  total_loss: 0.8843  loss_cls: 0.1572  loss_box_reg: 0.1387  loss_mask: 0.4367  loss_rpn_cls: 0.02484  loss_rpn_loc: 0.01615  time: 0.5253  last_time: 0.5501  data_time: 0.0097  last_data_time: 0.0165   lr: 0.00025  max_mem: 2765M\n",
            "[02/22 09:04:45 d2.utils.events]:  eta: 0:16:21  iter: 3139  total_loss: 0.7829  loss_cls: 0.1049  loss_box_reg: 0.116  loss_mask: 0.3825  loss_rpn_cls: 0.0141  loss_rpn_loc: 0.0134  time: 0.5253  last_time: 0.4361  data_time: 0.0152  last_data_time: 0.0037   lr: 0.00025  max_mem: 2765M\n",
            "[02/22 09:04:56 d2.utils.events]:  eta: 0:16:09  iter: 3159  total_loss: 0.7555  loss_cls: 0.1106  loss_box_reg: 0.1064  loss_mask: 0.4575  loss_rpn_cls: 0.02584  loss_rpn_loc: 0.01328  time: 0.5253  last_time: 0.4917  data_time: 0.0086  last_data_time: 0.0097   lr: 0.00025  max_mem: 2765M\n",
            "[02/22 09:05:07 d2.utils.events]:  eta: 0:15:59  iter: 3179  total_loss: 0.7288  loss_cls: 0.1227  loss_box_reg: 0.1361  loss_mask: 0.3768  loss_rpn_cls: 0.01784  loss_rpn_loc: 0.01325  time: 0.5254  last_time: 0.4703  data_time: 0.0134  last_data_time: 0.0185   lr: 0.00025  max_mem: 2765M\n",
            "[02/22 09:05:18 d2.utils.events]:  eta: 0:15:50  iter: 3199  total_loss: 0.7183  loss_cls: 0.1129  loss_box_reg: 0.1259  loss_mask: 0.435  loss_rpn_cls: 0.01365  loss_rpn_loc: 0.009207  time: 0.5255  last_time: 0.5811  data_time: 0.0110  last_data_time: 0.0231   lr: 0.00025  max_mem: 2765M\n",
            "[02/22 09:05:28 d2.utils.events]:  eta: 0:15:40  iter: 3219  total_loss: 0.7385  loss_cls: 0.1104  loss_box_reg: 0.09207  loss_mask: 0.4312  loss_rpn_cls: 0.01878  loss_rpn_loc: 0.01366  time: 0.5255  last_time: 0.5219  data_time: 0.0114  last_data_time: 0.0062   lr: 0.00025  max_mem: 2765M\n",
            "[02/22 09:05:39 d2.utils.events]:  eta: 0:15:29  iter: 3239  total_loss: 0.7558  loss_cls: 0.1115  loss_box_reg: 0.1402  loss_mask: 0.4499  loss_rpn_cls: 0.03724  loss_rpn_loc: 0.01269  time: 0.5256  last_time: 0.4140  data_time: 0.0134  last_data_time: 0.0110   lr: 0.00025  max_mem: 2765M\n",
            "[02/22 09:05:49 d2.utils.events]:  eta: 0:15:19  iter: 3259  total_loss: 0.8041  loss_cls: 0.1297  loss_box_reg: 0.1432  loss_mask: 0.3891  loss_rpn_cls: 0.02284  loss_rpn_loc: 0.0135  time: 0.5256  last_time: 0.4164  data_time: 0.0124  last_data_time: 0.0078   lr: 0.00025  max_mem: 2765M\n",
            "[02/22 09:06:00 d2.utils.events]:  eta: 0:15:08  iter: 3279  total_loss: 0.692  loss_cls: 0.09533  loss_box_reg: 0.1026  loss_mask: 0.393  loss_rpn_cls: 0.02072  loss_rpn_loc: 0.00897  time: 0.5255  last_time: 0.5505  data_time: 0.0126  last_data_time: 0.0218   lr: 0.00025  max_mem: 2765M\n",
            "[02/22 09:06:10 d2.utils.events]:  eta: 0:14:57  iter: 3299  total_loss: 0.7292  loss_cls: 0.1109  loss_box_reg: 0.1068  loss_mask: 0.388  loss_rpn_cls: 0.0216  loss_rpn_loc: 0.01185  time: 0.5254  last_time: 0.5004  data_time: 0.0094  last_data_time: 0.0038   lr: 0.00025  max_mem: 2765M\n",
            "[02/22 09:06:21 d2.utils.events]:  eta: 0:14:48  iter: 3319  total_loss: 0.7658  loss_cls: 0.1062  loss_box_reg: 0.1215  loss_mask: 0.4019  loss_rpn_cls: 0.02443  loss_rpn_loc: 0.01492  time: 0.5256  last_time: 0.4981  data_time: 0.0147  last_data_time: 0.0157   lr: 0.00025  max_mem: 2765M\n",
            "[02/22 09:06:32 d2.utils.events]:  eta: 0:14:37  iter: 3339  total_loss: 0.8905  loss_cls: 0.1339  loss_box_reg: 0.1366  loss_mask: 0.4487  loss_rpn_cls: 0.03017  loss_rpn_loc: 0.01662  time: 0.5256  last_time: 0.3978  data_time: 0.0131  last_data_time: 0.0061   lr: 0.00025  max_mem: 2765M\n"
          ]
        }
      ],
      "source": [
        "\n",
        "os.makedirs(cfg.OUTPUT_DIR, exist_ok=True)\n",
        "trainer = DefaultTrainer(cfg) \n",
        "trainer.resume_or_load(resume=False)\n",
        "trainer.train()"
      ]
    },
    {
      "cell_type": "code",
      "execution_count": null,
      "metadata": {
        "id": "yVrA6mZ6RIrk"
      },
      "outputs": [],
      "source": [
        "!cp output/model_final.pth output/trained_model.pth"
      ]
    },
    {
      "cell_type": "code",
      "execution_count": null,
      "metadata": {
        "id": "oRvLmLxwZJtn"
      },
      "outputs": [],
      "source": [
        "\n",
        "cfg.MODEL.WEIGHTS = os.path.join(cfg.OUTPUT_DIR, \"trained_model.pth\")\n",
        "cfg.MODEL.ROI_HEADS.SCORE_THRESH_TEST = 0.25\n",
        "predictor = DefaultPredictor(cfg)\n",
        "from detectron2.utils.visualizer import ColorMode\n",
        "files = Glob('train/myData2020')\n",
        "for _ in range(30):\n",
        "    im = cv2.imread(choose(files))\n",
        "    outputs = predictor(im)\n",
        "    v = Visualizer(im[:, :, ::-1],\n",
        "                    scale=0.5,\n",
        "                    metadata=MetadataCatalog.get(\"dataset_train\"),\n",
        "                    instance_mode=ColorMode.IMAGE_BW \n",
        "# remove the colors of unsegmented pixels. \n",
        "# This option is only available for segmentation models\n",
        "    )\n",
        "\n",
        "    out = v.draw_instance_predictions(outputs[\"instances\"].to(\"cpu\"))\n",
        "    show(out.get_image())"
      ]
    }
  ],
  "metadata": {
    "accelerator": "GPU",
    "colab": {
      "provenance": []
    },
    "gpuClass": "standard",
    "kernelspec": {
      "display_name": "base",
      "language": "python",
      "name": "python3"
    },
    "language_info": {
      "name": "python",
      "version": "3.8.8"
    },
    "vscode": {
      "interpreter": {
        "hash": "d9d52e4e42d889ef44fdd960ad7523bff2f529da33eef29f47a98bbc470680c4"
      }
    }
  },
  "nbformat": 4,
  "nbformat_minor": 0
}
